{
  "cells": [
    {
      "cell_type": "markdown",
      "metadata": {
        "id": "D5Ow8XOaO1mL"
      },
      "source": [
        "# Project: an interpretable VAE to study Transcription Factor rewiring"
      ]
    },
    {
      "cell_type": "markdown",
      "metadata": {
        "id": "w6QqHzxdPIHG"
      },
      "source": [
        "## Introduction\n",
        "\n",
        "Contact: Carl Herrmann, Daria Doncevic (Heidelberg University carl.herrmann@bioquant.uni-heidelberg.de daria.doncevic@bioquant.uni-heidelberg.de)\n",
        "\n",
        "Variational Autoencoders are now widely applied to capture the complexity in single-cell omics datasets and can be used to replace complete workflows of data analysis consisting of normalization, clustering, celltype annotation and differential expression analysis. However, due to their non-linear nature, they lack interpretability. As you have learned in week 2 of the course, a subset of VAE models such as the VEGA model ([Seninge *et al* (2021)](https://www.nature.com/articles/s41467-021-26017-0)) can convey intrinsic interpretability by incorporating biological networks directly into their model structure. In VEGA, every node in the latent space corresponds to a biological entity such as a pathway or transcription factor (TF) and is then connected only to the genes in the reconstruction layer that are annotated to that biological entity, making the one-layered decoder sparse. Thus, the activations of the nodes in the latent space can be interpreted as pathway or TF activities. In this project, you are going to focus more on the weights of the decoder connections than on the latent space activities, and see how they differ for different genes for a given TF. We believe that this change in the weights between TF and target genes might indicate a rewiring of the TF in different biological condition.\n",
        "You are also going to estimate uncertainties for the weights (which also depends on the annotation that is used) and to investigate how the weights change in condition versus control, which we call \"Transcription factor rewiring\"."
      ]
    },
    {
      "cell_type": "markdown",
      "metadata": {
        "id": "9UMghjAISX3W"
      },
      "source": [
        "## Goal\n",
        "The goal of this project is to study Transcription factor rewiring in the context of interferon response. Thus, you should focus especially on TFs that are known to play a role in interferon response, such as STAT1, STAT2, and the different IRFs, and their target genes. You can read more about that [in this review](https://www.nature.com/articles/nri3787). To be able to obtain different weights for condition and control, you will have to train two separate models. Since VAEs are probabilistic, you will end up with a different set of weights each time you train the model. Thus, your task will also be to estimate or compute uncertainties for the weights. There are different ways to achieve this:\n",
        "\n",
        "\n",
        "*   Train each model multiple times (and then compute metrics such as mean and standard deviation for the different weights). Are there genes whose annotation to a given TF seems to be \"less certain\" than for others?\n",
        "*   When we train multiple models and then aggregate their results, we also call this an ensemble. Training an ensemble is often expensive in terms of computational time and power. Stochastic Weight Averaging (SWA) has been proposed as a method that can yield more robust weights without the need of training ensembles. The publication is linked [here](https://arxiv.org/pdf/1803.05407), and additional information can be found [here](https://pytorch.org/blog/stochastic-weight-averaging-in-pytorch/). Try to implement this approach for your VEGA model.\n",
        "*   Bayesian Neural Networks do built-in estimation of weight uncertainties. Try to replace your linear layer with a Bayesian layer to obtain these estimates. You can find some information to get you started [in this blogpost](https://towardsdatascience.com/from-theory-to-practice-with-bayesian-neural-network-using-python-9262b611b825/). More mathematical foundations can also be found [here](https://www.cs.toronto.edu/~duvenaud/distill_bayes_net/public/)."
      ]
    },
    {
      "cell_type": "markdown",
      "metadata": {
        "id": "Pvq2T8vkhYPe"
      },
      "source": [
        "Do not forget to also include some biological speculation/interpretation of your results!"
      ]
    },
    {
      "cell_type": "markdown",
      "metadata": {
        "id": "CxFPB6FOSiyW"
      },
      "source": [
        "## Data and model\n",
        "\n",
        "As in week 2, you will use a dataset that contains peripheral blood mononuclear cells (PBMCs) from systemic lupus patients, treated with Interferon beta or untreated (control). You can follow the steps from week 2's notebook to download the data. You will also work with a VEGA-like model, and you can reuse code from week 2 for the implementation.\n",
        "\n",
        "This time, instead of Reactome pathways, you will use TF regulons from the collecTRI database as a biological prior. Information about this resource and how to obtain the data is available [here](https://github.com/saezlab/CollecTRI). You might want to filter the regulons based on regulon size prior to incorporation into the model."
      ]
    },
    {
      "cell_type": "markdown",
      "metadata": {
        "id": "G6SrpvsNzhOq"
      },
      "source": [
        "## Getting Data"
      ]
    },
    {
      "cell_type": "code",
      "execution_count": 11,
      "metadata": {
        "colab": {
          "base_uri": "https://localhost:8080/"
        },
        "id": "cZxAn_IVzdzs",
        "outputId": "d326bb17-5dfd-4d37-de01-bb71054c5069"
      },
      "outputs": [],
      "source": [
        "#!pip install decoupler\n",
        "#!pip install scanpy"
      ]
    },
    {
      "cell_type": "markdown",
      "metadata": {
        "id": "3RFZJvLqWp_a"
      },
      "source": [
        "### scRNAseq data"
      ]
    },
    {
      "cell_type": "code",
      "execution_count": 12,
      "metadata": {
        "colab": {
          "base_uri": "https://localhost:8080/"
        },
        "id": "5fmMYobMWy9V",
        "outputId": "80b69e98-119c-4e11-b377-09c137d80d96"
      },
      "outputs": [],
      "source": [
        "# download the data\n",
        "#!wget --no-check-certificate 'https://docs.google.com/uc?export=download&id=1zHJKoU8QcQB4cLR-oICO2YY4Nu-QaZHG' -O PBMC_train.h5ad"
      ]
    },
    {
      "cell_type": "code",
      "execution_count": 13,
      "metadata": {
        "id": "qaqfP8PMWrUf"
      },
      "outputs": [
        {
          "data": {
            "text/plain": [
              "AnnData object with n_obs × n_vars = 13515 × 6998\n",
              "    obs: 'condition', 'n_counts', 'n_genes', 'mt_frac', 'cell_type'\n",
              "    var: 'gene_symbol', 'n_cells'\n",
              "    uns: 'cell_type_colors', 'condition_colors', 'neighbors'\n",
              "    obsm: 'X_pca', 'X_tsne', 'X_umap'\n",
              "    obsp: 'connectivities', 'distances'"
            ]
          },
          "execution_count": 13,
          "metadata": {},
          "output_type": "execute_result"
        }
      ],
      "source": [
        "import scanpy as sc\n",
        "\n",
        "# load data as anndata object\n",
        "pbmc = sc.read_h5ad(\"PBMC_train.h5ad\")\n",
        "pbmc"
      ]
    },
    {
      "cell_type": "code",
      "execution_count": 14,
      "metadata": {
        "id": "do1X5cnObQk3"
      },
      "outputs": [
        {
          "data": {
            "text/plain": [
              "<Compressed Sparse Row sparse matrix of dtype 'float32'\n",
              "\twith 4430719 stored elements and shape (13515, 6998)>"
            ]
          },
          "execution_count": 14,
          "metadata": {},
          "output_type": "execute_result"
        }
      ],
      "source": [
        "pbmc.X"
      ]
    },
    {
      "cell_type": "code",
      "execution_count": 15,
      "metadata": {
        "id": "jB-Kuj5UbUd8"
      },
      "outputs": [
        {
          "data": {
            "application/vnd.microsoft.datawrangler.viewer.v0+json": {
              "columns": [
                {
                  "name": "index",
                  "rawType": "object",
                  "type": "string"
                },
                {
                  "name": "condition",
                  "rawType": "category",
                  "type": "unknown"
                },
                {
                  "name": "n_counts",
                  "rawType": "float32",
                  "type": "float"
                },
                {
                  "name": "n_genes",
                  "rawType": "int64",
                  "type": "integer"
                },
                {
                  "name": "mt_frac",
                  "rawType": "float32",
                  "type": "float"
                },
                {
                  "name": "cell_type",
                  "rawType": "category",
                  "type": "unknown"
                }
              ],
              "ref": "87517fc2-87e9-4cb7-8e4b-747f666a49d2",
              "rows": [
                [
                  "AAATTCGACATGAC-1-control",
                  "control",
                  "2275.0",
                  "928",
                  "0.0",
                  "CD8T"
                ],
                [
                  "TCAGTTACCTCCCA-1-control",
                  "control",
                  "1422.0",
                  "547",
                  "0.0",
                  "CD8T"
                ],
                [
                  "GTAGTGTGTTCGTT-1-control",
                  "control",
                  "1176.0",
                  "505",
                  "0.0",
                  "CD8T"
                ],
                [
                  "TAACACCTGTCATG-1-control",
                  "control",
                  "1113.0",
                  "514",
                  "0.0",
                  "CD8T"
                ],
                [
                  "CAAGAAGACACTGA-1-control",
                  "control",
                  "2052.0",
                  "851",
                  "0.0",
                  "CD8T"
                ],
                [
                  "ATTGCACTCTAAGC-1-control",
                  "control",
                  "1679.0",
                  "783",
                  "0.0",
                  "CD8T"
                ],
                [
                  "ACAACCGATTTACC-1-control",
                  "control",
                  "2156.0",
                  "777",
                  "0.0",
                  "CD8T"
                ],
                [
                  "CACTCCGAGCCCTT-1-control",
                  "control",
                  "937.0",
                  "514",
                  "0.0",
                  "CD8T"
                ],
                [
                  "AGCACTGAAACGAA-1-control",
                  "control",
                  "1211.0",
                  "551",
                  "0.0",
                  "CD8T"
                ],
                [
                  "AACCTTACAGGGTG-1-control",
                  "control",
                  "1257.0",
                  "527",
                  "0.0",
                  "CD8T"
                ],
                [
                  "TTATCCGAGTGTTG-1-control",
                  "control",
                  "1119.0",
                  "542",
                  "0.0",
                  "CD8T"
                ],
                [
                  "GCCAAAACATCTTC-1-control",
                  "control",
                  "2304.0",
                  "904",
                  "0.0",
                  "CD8T"
                ],
                [
                  "GCAACTGAAACCGT-1-control",
                  "control",
                  "2129.0",
                  "848",
                  "0.0",
                  "CD8T"
                ],
                [
                  "TTAGGTCTTGCACA-1-control",
                  "control",
                  "1839.0",
                  "637",
                  "0.0",
                  "CD8T"
                ],
                [
                  "TACTACTGCGCAAT-1-control",
                  "control",
                  "1961.0",
                  "784",
                  "0.0",
                  "CD8T"
                ],
                [
                  "AGGATGCTTTGTGG-1-control",
                  "control",
                  "1458.0",
                  "654",
                  "0.0",
                  "CD8T"
                ],
                [
                  "CCTATAACTACTGG-1-control",
                  "control",
                  "2481.0",
                  "1129",
                  "0.0",
                  "CD8T"
                ],
                [
                  "ACGCTCACTATGGC-1-control",
                  "control",
                  "1509.0",
                  "615",
                  "0.0",
                  "CD8T"
                ],
                [
                  "AAGCGTACTGAAGA-1-control",
                  "control",
                  "2042.0",
                  "769",
                  "0.0",
                  "CD8T"
                ],
                [
                  "TGCAACGATCAAGC-1-control",
                  "control",
                  "1229.0",
                  "543",
                  "0.0",
                  "CD8T"
                ],
                [
                  "TTAGCTACGAGCTT-1-control",
                  "control",
                  "1113.0",
                  "500",
                  "0.0",
                  "CD8T"
                ],
                [
                  "TATCAGCTTGAACC-1-control",
                  "control",
                  "1135.0",
                  "525",
                  "0.0",
                  "CD8T"
                ],
                [
                  "GACTGATGGTAGGG-1-control",
                  "control",
                  "1274.0",
                  "512",
                  "0.0",
                  "CD8T"
                ],
                [
                  "AACGTTCTCTAAGC-1-control",
                  "control",
                  "1958.0",
                  "762",
                  "0.0",
                  "CD8T"
                ],
                [
                  "AGATCTCTAGTCGT-1-control",
                  "control",
                  "1396.0",
                  "691",
                  "0.0",
                  "CD8T"
                ],
                [
                  "TAGGTCGACCAAGT-1-control",
                  "control",
                  "1333.0",
                  "613",
                  "0.0",
                  "CD8T"
                ],
                [
                  "CAATATGAAGCCAT-1-control",
                  "control",
                  "1643.0",
                  "651",
                  "0.0",
                  "CD8T"
                ],
                [
                  "GAAAGTGAACGGGA-1-control",
                  "control",
                  "1852.0",
                  "776",
                  "0.0",
                  "CD8T"
                ],
                [
                  "CAAGACACGGGTGA-1-control",
                  "control",
                  "1118.0",
                  "507",
                  "0.0",
                  "CD8T"
                ],
                [
                  "CTTGATTGTATTCC-1-control",
                  "control",
                  "1170.0",
                  "552",
                  "0.0",
                  "CD8T"
                ],
                [
                  "GTTGAGTGAACAGA-1-control",
                  "control",
                  "1147.0",
                  "541",
                  "0.0",
                  "CD8T"
                ],
                [
                  "AGCAACACTCGTAG-1-control",
                  "control",
                  "1837.0",
                  "735",
                  "0.0",
                  "CD8T"
                ],
                [
                  "TTAGTCTGGAAGGC-1-control",
                  "control",
                  "1471.0",
                  "606",
                  "0.0",
                  "CD8T"
                ],
                [
                  "TCCCTACTCAACCA-1-control",
                  "control",
                  "1096.0",
                  "524",
                  "0.0",
                  "CD8T"
                ],
                [
                  "CGTTAGGACAAAGA-1-control",
                  "control",
                  "1065.0",
                  "509",
                  "0.0",
                  "CD8T"
                ],
                [
                  "GATATCCTAGGGTG-1-control",
                  "control",
                  "2171.0",
                  "766",
                  "0.0",
                  "CD8T"
                ],
                [
                  "AAATGGGAATTCCT-1-control",
                  "control",
                  "1710.0",
                  "744",
                  "0.0",
                  "CD8T"
                ],
                [
                  "TATTGCTGAGAGAT-1-control",
                  "control",
                  "1201.0",
                  "510",
                  "0.0",
                  "CD8T"
                ],
                [
                  "CCAGGTCTCGTAGT-1-control",
                  "control",
                  "1056.0",
                  "536",
                  "0.0",
                  "CD8T"
                ],
                [
                  "AATACTGATCACGA-1-control",
                  "control",
                  "2054.0",
                  "860",
                  "0.0",
                  "CD8T"
                ],
                [
                  "ATAGTTGACTCGCT-1-control",
                  "control",
                  "1218.0",
                  "511",
                  "0.0",
                  "CD8T"
                ],
                [
                  "TAGGTCGAGGCAAG-1-control",
                  "control",
                  "1099.0",
                  "502",
                  "0.0",
                  "CD8T"
                ],
                [
                  "CACCTGACGAACTC-1-control",
                  "control",
                  "1683.0",
                  "730",
                  "0.0",
                  "CD8T"
                ],
                [
                  "GGTTGAACTGCTGA-1-control",
                  "control",
                  "2604.0",
                  "930",
                  "0.0",
                  "CD8T"
                ],
                [
                  "GTTCAACTTGCAGT-1-control",
                  "control",
                  "1563.0",
                  "848",
                  "0.0",
                  "CD8T"
                ],
                [
                  "TGTGACGACAACCA-1-control",
                  "control",
                  "1379.0",
                  "653",
                  "0.0",
                  "CD8T"
                ],
                [
                  "ATGAAGGAACGGAG-1-control",
                  "control",
                  "2776.0",
                  "1011",
                  "0.0",
                  "CD8T"
                ],
                [
                  "AGAATACTTCAGAC-1-control",
                  "control",
                  "1453.0",
                  "556",
                  "0.0",
                  "CD8T"
                ],
                [
                  "TTGAACCTCGGTAT-1-control",
                  "control",
                  "1200.0",
                  "522",
                  "0.0",
                  "CD8T"
                ],
                [
                  "GGAGTTTGAACCTG-1-control",
                  "control",
                  "2498.0",
                  "1039",
                  "0.0",
                  "CD8T"
                ]
              ],
              "shape": {
                "columns": 5,
                "rows": 13515
              }
            },
            "text/html": [
              "<div>\n",
              "<style scoped>\n",
              "    .dataframe tbody tr th:only-of-type {\n",
              "        vertical-align: middle;\n",
              "    }\n",
              "\n",
              "    .dataframe tbody tr th {\n",
              "        vertical-align: top;\n",
              "    }\n",
              "\n",
              "    .dataframe thead th {\n",
              "        text-align: right;\n",
              "    }\n",
              "</style>\n",
              "<table border=\"1\" class=\"dataframe\">\n",
              "  <thead>\n",
              "    <tr style=\"text-align: right;\">\n",
              "      <th></th>\n",
              "      <th>condition</th>\n",
              "      <th>n_counts</th>\n",
              "      <th>n_genes</th>\n",
              "      <th>mt_frac</th>\n",
              "      <th>cell_type</th>\n",
              "    </tr>\n",
              "    <tr>\n",
              "      <th>index</th>\n",
              "      <th></th>\n",
              "      <th></th>\n",
              "      <th></th>\n",
              "      <th></th>\n",
              "      <th></th>\n",
              "    </tr>\n",
              "  </thead>\n",
              "  <tbody>\n",
              "    <tr>\n",
              "      <th>AAATTCGACATGAC-1-control</th>\n",
              "      <td>control</td>\n",
              "      <td>2275.0</td>\n",
              "      <td>928</td>\n",
              "      <td>0.0</td>\n",
              "      <td>CD8T</td>\n",
              "    </tr>\n",
              "    <tr>\n",
              "      <th>TCAGTTACCTCCCA-1-control</th>\n",
              "      <td>control</td>\n",
              "      <td>1422.0</td>\n",
              "      <td>547</td>\n",
              "      <td>0.0</td>\n",
              "      <td>CD8T</td>\n",
              "    </tr>\n",
              "    <tr>\n",
              "      <th>GTAGTGTGTTCGTT-1-control</th>\n",
              "      <td>control</td>\n",
              "      <td>1176.0</td>\n",
              "      <td>505</td>\n",
              "      <td>0.0</td>\n",
              "      <td>CD8T</td>\n",
              "    </tr>\n",
              "    <tr>\n",
              "      <th>TAACACCTGTCATG-1-control</th>\n",
              "      <td>control</td>\n",
              "      <td>1113.0</td>\n",
              "      <td>514</td>\n",
              "      <td>0.0</td>\n",
              "      <td>CD8T</td>\n",
              "    </tr>\n",
              "    <tr>\n",
              "      <th>CAAGAAGACACTGA-1-control</th>\n",
              "      <td>control</td>\n",
              "      <td>2052.0</td>\n",
              "      <td>851</td>\n",
              "      <td>0.0</td>\n",
              "      <td>CD8T</td>\n",
              "    </tr>\n",
              "    <tr>\n",
              "      <th>...</th>\n",
              "      <td>...</td>\n",
              "      <td>...</td>\n",
              "      <td>...</td>\n",
              "      <td>...</td>\n",
              "      <td>...</td>\n",
              "    </tr>\n",
              "    <tr>\n",
              "      <th>GATCTTTGCTGTCC-1-stimulated</th>\n",
              "      <td>stimulated</td>\n",
              "      <td>1842.0</td>\n",
              "      <td>660</td>\n",
              "      <td>0.0</td>\n",
              "      <td>CD14+Mono</td>\n",
              "    </tr>\n",
              "    <tr>\n",
              "      <th>ATATACGATTTGCT-1-stimulated</th>\n",
              "      <td>stimulated</td>\n",
              "      <td>3266.0</td>\n",
              "      <td>1066</td>\n",
              "      <td>0.0</td>\n",
              "      <td>CD14+Mono</td>\n",
              "    </tr>\n",
              "    <tr>\n",
              "      <th>GAGGGATGGTCACA-1-stimulated</th>\n",
              "      <td>stimulated</td>\n",
              "      <td>3185.0</td>\n",
              "      <td>725</td>\n",
              "      <td>0.0</td>\n",
              "      <td>CD14+Mono</td>\n",
              "    </tr>\n",
              "    <tr>\n",
              "      <th>AGGTGTTGGTTGTG-1-stimulated</th>\n",
              "      <td>stimulated</td>\n",
              "      <td>2325.0</td>\n",
              "      <td>640</td>\n",
              "      <td>0.0</td>\n",
              "      <td>CD14+Mono</td>\n",
              "    </tr>\n",
              "    <tr>\n",
              "      <th>TGTAACCTCGTCTC-1-stimulated</th>\n",
              "      <td>stimulated</td>\n",
              "      <td>2480.0</td>\n",
              "      <td>728</td>\n",
              "      <td>0.0</td>\n",
              "      <td>CD14+Mono</td>\n",
              "    </tr>\n",
              "  </tbody>\n",
              "</table>\n",
              "<p>13515 rows × 5 columns</p>\n",
              "</div>"
            ],
            "text/plain": [
              "                              condition  n_counts  n_genes  mt_frac  cell_type\n",
              "index                                                                         \n",
              "AAATTCGACATGAC-1-control        control    2275.0      928      0.0       CD8T\n",
              "TCAGTTACCTCCCA-1-control        control    1422.0      547      0.0       CD8T\n",
              "GTAGTGTGTTCGTT-1-control        control    1176.0      505      0.0       CD8T\n",
              "TAACACCTGTCATG-1-control        control    1113.0      514      0.0       CD8T\n",
              "CAAGAAGACACTGA-1-control        control    2052.0      851      0.0       CD8T\n",
              "...                                 ...       ...      ...      ...        ...\n",
              "GATCTTTGCTGTCC-1-stimulated  stimulated    1842.0      660      0.0  CD14+Mono\n",
              "ATATACGATTTGCT-1-stimulated  stimulated    3266.0     1066      0.0  CD14+Mono\n",
              "GAGGGATGGTCACA-1-stimulated  stimulated    3185.0      725      0.0  CD14+Mono\n",
              "AGGTGTTGGTTGTG-1-stimulated  stimulated    2325.0      640      0.0  CD14+Mono\n",
              "TGTAACCTCGTCTC-1-stimulated  stimulated    2480.0      728      0.0  CD14+Mono\n",
              "\n",
              "[13515 rows x 5 columns]"
            ]
          },
          "execution_count": 15,
          "metadata": {},
          "output_type": "execute_result"
        }
      ],
      "source": [
        "pbmc.obs"
      ]
    },
    {
      "cell_type": "code",
      "execution_count": 16,
      "metadata": {
        "id": "Rr23T0NVbW5O"
      },
      "outputs": [
        {
          "data": {
            "application/vnd.microsoft.datawrangler.viewer.v0+json": {
              "columns": [
                {
                  "name": "index",
                  "rawType": "object",
                  "type": "string"
                },
                {
                  "name": "gene_symbol",
                  "rawType": "category",
                  "type": "unknown"
                },
                {
                  "name": "n_cells",
                  "rawType": "int64",
                  "type": "integer"
                }
              ],
              "ref": "cbb9a4a5-7e0d-412b-8720-298b93382501",
              "rows": [
                [
                  "AL627309.1",
                  "AL627309.1",
                  "8"
                ],
                [
                  "RP11-206L10.9",
                  "RP11-206L10.9",
                  "11"
                ],
                [
                  "LINC00115",
                  "LINC00115",
                  "118"
                ],
                [
                  "NOC2L",
                  "NOC2L",
                  "1930"
                ],
                [
                  "KLHL17",
                  "KLHL17",
                  "28"
                ],
                [
                  "HES4",
                  "HES4",
                  "2779"
                ],
                [
                  "ISG15",
                  "ISG15",
                  "17561"
                ],
                [
                  "TNFRSF18",
                  "TNFRSF18",
                  "1511"
                ],
                [
                  "TNFRSF4",
                  "TNFRSF4",
                  "1379"
                ],
                [
                  "SDF4",
                  "SDF4",
                  "2332"
                ],
                [
                  "B3GALT6",
                  "B3GALT6",
                  "249"
                ],
                [
                  "PUSL1",
                  "PUSL1",
                  "404"
                ],
                [
                  "GLTPD1",
                  "GLTPD1",
                  "436"
                ],
                [
                  "MXRA8",
                  "MXRA8",
                  "5"
                ],
                [
                  "RP4-758J18.2",
                  "RP4-758J18.2",
                  "910"
                ],
                [
                  "MRPL20",
                  "MRPL20",
                  "4571"
                ],
                [
                  "ATAD3C",
                  "ATAD3C",
                  "17"
                ],
                [
                  "AL645728.1",
                  "AL645728.1",
                  "79"
                ],
                [
                  "RP11-345P4.9",
                  "RP11-345P4.9",
                  "265"
                ],
                [
                  "MIB2",
                  "MIB2",
                  "614"
                ],
                [
                  "MMP23B",
                  "MMP23B",
                  "31"
                ],
                [
                  "CDK11A",
                  "CDK11A",
                  "1154"
                ],
                [
                  "PRKCZ",
                  "PRKCZ",
                  "147"
                ],
                [
                  "RP3-395M20.12",
                  "RP3-395M20.12",
                  "283"
                ],
                [
                  "RP3-395M20.9",
                  "RP3-395M20.9",
                  "84"
                ],
                [
                  "FAM213B",
                  "FAM213B",
                  "127"
                ],
                [
                  "MMEL1",
                  "MMEL1",
                  "21"
                ],
                [
                  "TTC34",
                  "TTC34",
                  "14"
                ],
                [
                  "RP11-46F15.2",
                  "RP11-46F15.2",
                  "8"
                ],
                [
                  "TP73-AS1",
                  "TP73-AS1",
                  "93"
                ],
                [
                  "LRRC47",
                  "LRRC47",
                  "798"
                ],
                [
                  "CEP104",
                  "CEP104",
                  "728"
                ],
                [
                  "DFFB",
                  "DFFB",
                  "104"
                ],
                [
                  "C1orf174",
                  "C1orf174",
                  "1411"
                ],
                [
                  "NPHP4",
                  "NPHP4",
                  "39"
                ],
                [
                  "ICMT",
                  "ICMT",
                  "301"
                ],
                [
                  "GPR153",
                  "GPR153",
                  "15"
                ],
                [
                  "ESPN",
                  "ESPN",
                  "15"
                ],
                [
                  "TNFRSF25",
                  "TNFRSF25",
                  "1432"
                ],
                [
                  "NOL9",
                  "NOL9",
                  "256"
                ],
                [
                  "ZBTB48",
                  "ZBTB48",
                  "345"
                ],
                [
                  "KLHL21",
                  "KLHL21",
                  "157"
                ],
                [
                  "THAP3",
                  "THAP3",
                  "793"
                ],
                [
                  "UTS2",
                  "UTS2",
                  "5"
                ],
                [
                  "TNFRSF9",
                  "TNFRSF9",
                  "288"
                ],
                [
                  "PARK7",
                  "PARK7",
                  "9723"
                ],
                [
                  "ERRFI1",
                  "ERRFI1",
                  "79"
                ],
                [
                  "ENO1-AS1",
                  "ENO1-AS1",
                  "51"
                ],
                [
                  "CA6",
                  "CA6",
                  "402"
                ],
                [
                  "SLC2A5",
                  "SLC2A5",
                  "44"
                ]
              ],
              "shape": {
                "columns": 2,
                "rows": 6998
              }
            },
            "text/html": [
              "<div>\n",
              "<style scoped>\n",
              "    .dataframe tbody tr th:only-of-type {\n",
              "        vertical-align: middle;\n",
              "    }\n",
              "\n",
              "    .dataframe tbody tr th {\n",
              "        vertical-align: top;\n",
              "    }\n",
              "\n",
              "    .dataframe thead th {\n",
              "        text-align: right;\n",
              "    }\n",
              "</style>\n",
              "<table border=\"1\" class=\"dataframe\">\n",
              "  <thead>\n",
              "    <tr style=\"text-align: right;\">\n",
              "      <th></th>\n",
              "      <th>gene_symbol</th>\n",
              "      <th>n_cells</th>\n",
              "    </tr>\n",
              "    <tr>\n",
              "      <th>index</th>\n",
              "      <th></th>\n",
              "      <th></th>\n",
              "    </tr>\n",
              "  </thead>\n",
              "  <tbody>\n",
              "    <tr>\n",
              "      <th>AL627309.1</th>\n",
              "      <td>AL627309.1</td>\n",
              "      <td>8</td>\n",
              "    </tr>\n",
              "    <tr>\n",
              "      <th>RP11-206L10.9</th>\n",
              "      <td>RP11-206L10.9</td>\n",
              "      <td>11</td>\n",
              "    </tr>\n",
              "    <tr>\n",
              "      <th>LINC00115</th>\n",
              "      <td>LINC00115</td>\n",
              "      <td>118</td>\n",
              "    </tr>\n",
              "    <tr>\n",
              "      <th>NOC2L</th>\n",
              "      <td>NOC2L</td>\n",
              "      <td>1930</td>\n",
              "    </tr>\n",
              "    <tr>\n",
              "      <th>KLHL17</th>\n",
              "      <td>KLHL17</td>\n",
              "      <td>28</td>\n",
              "    </tr>\n",
              "    <tr>\n",
              "      <th>...</th>\n",
              "      <td>...</td>\n",
              "      <td>...</td>\n",
              "    </tr>\n",
              "    <tr>\n",
              "      <th>SLC19A1</th>\n",
              "      <td>SLC19A1</td>\n",
              "      <td>81</td>\n",
              "    </tr>\n",
              "    <tr>\n",
              "      <th>COL6A2</th>\n",
              "      <td>COL6A2</td>\n",
              "      <td>51</td>\n",
              "    </tr>\n",
              "    <tr>\n",
              "      <th>FTCD</th>\n",
              "      <td>FTCD</td>\n",
              "      <td>5</td>\n",
              "    </tr>\n",
              "    <tr>\n",
              "      <th>DIP2A</th>\n",
              "      <td>DIP2A</td>\n",
              "      <td>468</td>\n",
              "    </tr>\n",
              "    <tr>\n",
              "      <th>S100B</th>\n",
              "      <td>S100B</td>\n",
              "      <td>222</td>\n",
              "    </tr>\n",
              "  </tbody>\n",
              "</table>\n",
              "<p>6998 rows × 2 columns</p>\n",
              "</div>"
            ],
            "text/plain": [
              "                 gene_symbol  n_cells\n",
              "index                                \n",
              "AL627309.1        AL627309.1        8\n",
              "RP11-206L10.9  RP11-206L10.9       11\n",
              "LINC00115          LINC00115      118\n",
              "NOC2L                  NOC2L     1930\n",
              "KLHL17                KLHL17       28\n",
              "...                      ...      ...\n",
              "SLC19A1              SLC19A1       81\n",
              "COL6A2                COL6A2       51\n",
              "FTCD                    FTCD        5\n",
              "DIP2A                  DIP2A      468\n",
              "S100B                  S100B      222\n",
              "\n",
              "[6998 rows x 2 columns]"
            ]
          },
          "execution_count": 16,
          "metadata": {},
          "output_type": "execute_result"
        }
      ],
      "source": [
        "pbmc.var"
      ]
    },
    {
      "cell_type": "code",
      "execution_count": 17,
      "metadata": {
        "id": "3niul-CYbeJW"
      },
      "outputs": [
        {
          "name": "stdout",
          "output_type": "stream",
          "text": [
            "[[0. 0. 0. ... 0. 0. 0.]\n",
            " [0. 0. 0. ... 0. 0. 0.]\n",
            " [0. 0. 0. ... 0. 0. 0.]\n",
            " ...\n",
            " [0. 0. 0. ... 0. 0. 0.]\n",
            " [0. 0. 0. ... 0. 0. 0.]\n",
            " [0. 0. 0. ... 0. 0. 0.]]\n",
            "Shape(observations x genes): (13515, 6998)\n"
          ]
        }
      ],
      "source": [
        "print(pbmc.X.toarray())\n",
        "print(f\"Shape(observations x genes): {pbmc.X.toarray().shape}\")"
      ]
    },
    {
      "cell_type": "code",
      "execution_count": 18,
      "metadata": {
        "id": "8UCqRyZwbeAj"
      },
      "outputs": [
        {
          "data": {
            "text/plain": [
              "(13515, 6998)"
            ]
          },
          "execution_count": 18,
          "metadata": {},
          "output_type": "execute_result"
        }
      ],
      "source": [
        "pbmc.shape"
      ]
    },
    {
      "cell_type": "markdown",
      "metadata": {
        "id": "HO7VJV72Wop9"
      },
      "source": [
        "### Regulon data"
      ]
    },
    {
      "cell_type": "code",
      "execution_count": 19,
      "metadata": {
        "colab": {
          "background_save": true
        },
        "id": "rahVsTrK0em-",
        "outputId": "5c733479-921e-4b52-b27e-9410fb612ae2"
      },
      "outputs": [
        {
          "data": {
            "application/vnd.microsoft.datawrangler.viewer.v0+json": {
              "columns": [
                {
                  "name": "index",
                  "rawType": "int64",
                  "type": "integer"
                },
                {
                  "name": "source",
                  "rawType": "object",
                  "type": "string"
                },
                {
                  "name": "target",
                  "rawType": "object",
                  "type": "string"
                },
                {
                  "name": "weight",
                  "rawType": "float64",
                  "type": "float"
                },
                {
                  "name": "resources",
                  "rawType": "object",
                  "type": "string"
                },
                {
                  "name": "references",
                  "rawType": "object",
                  "type": "string"
                },
                {
                  "name": "sign_decision",
                  "rawType": "object",
                  "type": "string"
                }
              ],
              "ref": "86696945-32b5-4582-8394-d9a84df4eefe",
              "rows": [
                [
                  "0",
                  "MYC",
                  "TERT",
                  "1.0",
                  "DoRothEA-A;ExTRI;HTRI;NTNU.Curated;Pavlidis2021;TFactS;TRRUST",
                  "10022128;10491298;10606235;10637317;10723141;10786671;10914736;11274400;11279234;11287602;11435602;11606399;11916966;12044867;12646176;12695333;12802280;12807729;12821782;12941894;12970752;14519204;14563552;14611815;14612409;14744757;15226182;15371341;15595642;15655249;15665468;15958520;16205635;16287840;16402390;16489011;16785237;16880523;17070091;17141225;17706770;17934056;17942561;17967894;18093727;18158869;18226852;18365874;18367227;18586674;18754863;18818322;19003324;19047367;19148473;19360348;19649288;19762557;19787269;19806010;19912441;20454512;20723213;21132266;21553143;21627565;21807113;21855630;21995449;22207128;23759068;23860446;24705139;9988278",
                  "PMID"
                ],
                [
                  "1",
                  "SPI1",
                  "BGLAP",
                  "1.0",
                  "ExTRI",
                  "10022617",
                  "default activation"
                ],
                [
                  "2",
                  "SMAD3",
                  "JUN",
                  "1.0",
                  "ExTRI;NTNU.Curated;TFactS;TRRUST",
                  "10022869;12374795",
                  "PMID"
                ],
                [
                  "3",
                  "SMAD4",
                  "JUN",
                  "1.0",
                  "ExTRI;NTNU.Curated;TFactS;TRRUST",
                  "10022869;12374795",
                  "PMID"
                ],
                [
                  "4",
                  "STAT5A",
                  "IL2",
                  "1.0",
                  "ExTRI",
                  "10022878;11435608;17182565;17911616;22854263;24550509;24587342;7479881;8683106;8943338;9121484;9817603",
                  "default activation"
                ],
                [
                  "5",
                  "STAT5B",
                  "IL2",
                  "1.0",
                  "ExTRI",
                  "10022878",
                  "regulon"
                ],
                [
                  "6",
                  "RELA",
                  "FAS",
                  "1.0",
                  "ExTRI;NTNU.Curated;TRRUST",
                  "10022897;10871852;11290773;11473033;16317104;16784892;19628709;22669972;23604035;9733827",
                  "PMID"
                ],
                [
                  "7",
                  "WT1",
                  "NR0B1",
                  "1.0",
                  "ExTRI;GEREDB",
                  "10022915;12151099",
                  "PMID"
                ],
                [
                  "8",
                  "NR0B2",
                  "CASP1",
                  "1.0",
                  "ExTRI",
                  "10022928",
                  "default activation"
                ],
                [
                  "9",
                  "SP1",
                  "ALDOA",
                  "1.0",
                  "DoRothEA-A;ExTRI;TFactS",
                  "10023068;8524331",
                  "PMID"
                ],
                [
                  "10",
                  "TP53",
                  "IGF1R",
                  "-1.0",
                  "ExTRI;GEREDB;NTNU.Curated;TRRUST",
                  "10023442;11001824;12089352;12444079;15131018;16181796;17014845;17097318;17600529;20633551;22033326;24205274;8710868",
                  "PMID"
                ],
                [
                  "11",
                  "ZBTB16",
                  "CCNA2",
                  "-1.0",
                  "DoRothEA-A;ExTRI;TRRUST",
                  "10023668;11920165;14527952;18504436;20731660",
                  "PMID"
                ],
                [
                  "12",
                  "ETV6",
                  "IL3",
                  "-1.0",
                  "ExTRI;NTNU.Curated",
                  "10023677",
                  "PMID"
                ],
                [
                  "13",
                  "RUNX1",
                  "IL3",
                  "-1.0",
                  "CytReg;DoRothEA-A;ExTRI;TRRUST",
                  "10023677;11997340;15735013;20506188;8180380;9036972",
                  "PMID"
                ],
                [
                  "14",
                  "RUNX1",
                  "RHD",
                  "1.0",
                  "ExTRI",
                  "10023677",
                  "default activation"
                ],
                [
                  "15",
                  "STAT1",
                  "CDKN1A",
                  "1.0",
                  "ExTRI;TFactS;TRRUST",
                  "10023678;10866323;11162600;12239594;16449678;20738848;21307941;22591439",
                  "PMID"
                ],
                [
                  "16",
                  "STAT3",
                  "CDKN1A",
                  "1.0",
                  "ExTRI;NTNU.Curated;TRRUST",
                  "10023678;11114718;11773079;12438313;15063116;15286705;16923815;18320073;19329556;19372587;20654581;21184768;22328012;23178160;9694869",
                  "PMID"
                ],
                [
                  "17",
                  "TP53",
                  "POLI",
                  "1.0",
                  "ExTRI",
                  "10023689;10913176",
                  "default activation"
                ],
                [
                  "18",
                  "ETV4",
                  "GGT1",
                  "1.0",
                  "ExTRI;NTNU.Curated",
                  "10026114;9209098",
                  "PMID"
                ],
                [
                  "19",
                  "MTF1",
                  "MCAT",
                  "1.0",
                  "ExTRI;SIGNOR;TRRUST",
                  "10026134;10605938;11551972;12716893;15378601;16423564;17363595;18023887;18230604;20979157;21870250;23374901",
                  "PMID"
                ],
                [
                  "20",
                  "CREB1",
                  "HMGCS2",
                  "1.0",
                  "ExTRI;NTNU.Curated",
                  "10026135",
                  "PMID"
                ],
                [
                  "21",
                  "FOXA2",
                  "GCG",
                  "1.0",
                  "ExTRI;NTNU.Curated;TRRUST",
                  "10026208;11773447;11875061;15828872;21824254;7776982;8164696;9121428",
                  "default activation"
                ],
                [
                  "22",
                  "NFATC2",
                  "GCG",
                  "1.0",
                  "ExTRI",
                  "10026208",
                  "default activation"
                ],
                [
                  "23",
                  "CEBPB",
                  "PCK1",
                  "1.0",
                  "ExTRI;NTNU.Curated",
                  "10026211;10224054;10681569;10854692;11453665;12070172;12560325;15793235;20797423;20930553;22955269;8093246;8928898;9867832",
                  "default activation"
                ],
                [
                  "24",
                  "FOS",
                  "ABCB1",
                  "1.0",
                  "ExTRI",
                  "10026303",
                  "default activation"
                ],
                [
                  "25",
                  "RELA",
                  "ABCB1",
                  "1.0",
                  "ExTRI;TFactS;TRRUST",
                  "10026303;12527911;18234965;19763573;21054339;22927901",
                  "PMID"
                ],
                [
                  "26",
                  "PLAG1",
                  "PLAG1",
                  "1.0",
                  "ExTRI",
                  "10029085;11284386",
                  "regulon"
                ],
                [
                  "27",
                  "TP53",
                  "CDKN1A",
                  "1.0",
                  "DoRothEA-A;ExTRI;GOA;HTRI;NTNU.Curated;SIGNOR;TFactS;TRRUST",
                  "10029406;10037739;10072388;10094833;10101800;10321740;10327058;10348346;10435630;10498892;10499591;10522058;10559267;10566557;10597242;10625687;10660101;10749849;10753197;10777217;10792001;10799578;10910098;10935506;11021966;11032828;11152513;11162506;11162600;11175333;11278953;11313463;11313928;11375890;11384995;11395510;11429705;11444825;11514734;11557753;11668476;11739748;11748232;11890931;11892838;11895854;11922774;11973611;12007564;12045203;12080472;12168779;12173040;12203124;12226108;12239594;12379483;12384701;12392301;12420214;12433990;12560513;12573582;12609999;12640112;12665570;12681065;12716906;12717415;12748190;12782287;12806965;12851404;12869419;12889596;12902982;12925527;12934105;14517211;14522900;14580351;14612423;14614448;14614455;14635196;14722112;14743206;15007388;15009091;15024021;15051477;15067082;15082782;15136035;15184659;15208672;15248906;15259070;15302882;15339933;15371422;15489892;15492238;15496412;15509808;15539944;15566940;15586362;15660129;15710329;15728246;15738655;15741235;15790310;15851483;15856024;15860260;15872011;15882981;15897882;15985438;15988033;16061648;16103882;16107883;16131836;16204065;16230382;16261158;16288208;16317118;16341121;16343438;16410722;16434701;16458891;16488074;16537920;16540664;16557594;16574813;16581545;16601686;16733561;16778203;16778363;16894028;16931520;16970927;17101782;17108107;17121856;17145718;17146435;17158927;17167174;17224908;17280505;17307334;17317670;17339230;17344317;17404570;17509529;17569660;17592775;17610896;17646389;17678435;17685229;17721438;17762884;17786325;17878219;17903248;17916908;17938176;17942917;17977830;17996705;17997002;18059034;18094076;18172861;18193090;18208621;18225552;18269916;18272192;18419600;18446786;18451802;18483411;18505818;18521083;18573881;18593586;18615633;18628250;18644983;18645003;18645021;18656471;18690848;18719376;18755897;18757425;18769160;18840648;18951877;19067706;19118657;19243472;19244234;19383287;19394332;19435914;19472317;19501055;19608464;19630958;19713748;19723072;19738071;19749793;19789303;19843844;19846554;19882681;19954840;20036872;20124454;20153576;20187950;20190809;20331637;20448457;20473858;20511722;20531308;20673369;20696891;20797428;20814747;20817677;20843368;20885946;20962589;21084835;21093383;21242964;21245169;21295542;21317932;21325288;21524151;21528307;21541551;21546904;21552844;21557991;21606339;21642427;21715977;21733196;21791610;21858218;21900401;21903579;21957244;21969549;22001409;22086179;22172947;22190353;22244155;22253232;22266186;22266868;22270849;22279545;22290440;22427654;22480684;22503977;22514644;22532570;22611192;22713239;22732402;22894933;22948151;22989750;23017582;23066038;23100276;23146670;23149933;23159636;23187802;23208500;23329847;23349794;23474493;23650552;23665236;23759594;23874636;24074410;24096481;24134839;24189165;24205274;24289924;24356969;24379401;24384472;24559687;24584189;24599959;24821727;24821728;24835508;25024194;7478511;7566157;7624134;7624148;7696178;7753560;7774811;7777546;7970699;8242752;8547219;8557703;8603071;8616838;8632901;8641969;8647846;8691637;8749722;8752276;8799837;8816885;8878553;8910340;9108440;9154806;9183012;9191059;9207798;9216067;9223430;9224526;9233781;9268365;9268733;9288775;9349504;9360984;9405685;9440695;9472102;9519881;9525742;9535786;9582019;9588214;9614553;9652736;9707425;9714336;9816061;9816111;9895308;9916993;9920903;9926942",
                  "PMID"
                ],
                [
                  "28",
                  "TP53",
                  "RB1",
                  "-1.0",
                  "DoRothEA-A;ExTRI;GEREDB;HTRI;NTNU.Curated;TFactS;TRRUST",
                  "10029406;11121443;11244564;11818069;11850820;12444079;12749855;15618023;15827088;1608930;16931621;21496227;22729911;22894933;23474762;8119988;8270002;8355507;8720930;8845569;9774636",
                  "PMID"
                ],
                [
                  "29",
                  "E2F1",
                  "CDKN1A",
                  "1.0",
                  "ExTRI;GEREDB;NTNU.Curated;TFactS;TRRUST",
                  "10030670;10702805;15048076;16923815;17008321;17167174;9191053;9748148",
                  "PMID"
                ],
                [
                  "30",
                  "E2F3",
                  "CDKN1A",
                  "1.0",
                  "ExTRI;GEREDB;NTNU.Curated;TFactS;TRRUST",
                  "10030670;15855772;17008321;17167174;22894933",
                  "PMID"
                ],
                [
                  "31",
                  "HBP1",
                  "CDKN1A",
                  "-1.0",
                  "ExTRI;TFactS;TRRUST",
                  "10030670;11748232",
                  "PMID"
                ],
                [
                  "32",
                  "YY1",
                  "NR3C1",
                  "1.0",
                  "ExTRI;NTNU.Curated;Pavlidis2021;TFactS;TRRUST",
                  "10030686;12039077",
                  "PMID"
                ],
                [
                  "33",
                  "ESR1",
                  "MAPK8",
                  "1.0",
                  "ExTRI",
                  "10037172",
                  "default activation"
                ],
                [
                  "34",
                  "JUN",
                  "MAPK8",
                  "1.0",
                  "ExTRI;TRRUST",
                  "10037172;10092525;10764760;10954918;12162804;12183409;12441106;12637567;15122763;15225883;15483136;15582605;15950217;16397260;16452190;16611996;17932215;18374905;18457359;18535250;18607069;19010898;19016586;19289495;19324081;20353950;20813260;21216243;21710359;21719561;21739277;22344299;22353755;22802261;23608488;23939952;24123203;8610116;9295358;9427647;9691914;9743233;9746785;9867853;9878062",
                  "PMID"
                ],
                [
                  "35",
                  "NR1I3",
                  "CYP2B6",
                  "1.0",
                  "ExTRI;GEREDB;NTNU.Curated;SIGNOR;TRRUST",
                  "10037683;11075820;11256950;11502872;12571232;14570762;14683479;16449384;16623664;18303024;18332083;18677425;19041682;19467232;19702527;19928584;21965327;22484313;22761658;9742082",
                  "PMID"
                ],
                [
                  "36",
                  "CEBPG",
                  "IVL",
                  "1.0",
                  "ExTRI;NTNU.Curated",
                  "10037704",
                  "PMID"
                ],
                [
                  "37",
                  "MAFK",
                  "HBB",
                  "1.0",
                  "ExTRI",
                  "10037736;14747657;18308612;9478996",
                  "default activation"
                ],
                [
                  "38",
                  "NFE2L3",
                  "HBB",
                  "1.0",
                  "ExTRI;NTNU.Curated",
                  "10037736",
                  "PMID"
                ],
                [
                  "39",
                  "TP53",
                  "ACTA1",
                  "1.0",
                  "ExTRI",
                  "10037739",
                  "default activation"
                ],
                [
                  "40",
                  "TP53",
                  "BCL2",
                  "-1.0",
                  "ExTRI;NTNU.Curated;SIGNOR;TFactS;TRRUST",
                  "10037739;10329733;10744634;10953306;11193470;11313951;11713302;11782367;14684736;15326476;15767042;16294215;16738310;17592775;17693666;18397889;18487508;18682598;19137013;19411072;19521340;19555669;19714248;20428827;20501806;20530667;20840522;21656028;21666495;21859835;22266868;22869582;23638218;24098340;24155778;24814047;8174112;8183578;8205530;9000137;9649502",
                  "PMID"
                ],
                [
                  "41",
                  "PHOX2A",
                  "DBH",
                  "1.0",
                  "ExTRI;NTNU.Curated;TFactS;TRRUST",
                  "10037744;10644760;11034547;11948255;12609984;14512028;16280598;21241805;9341190;9763470;9798905",
                  "PMID"
                ],
                [
                  "42",
                  "STAT4",
                  "IL12B",
                  "1.0",
                  "ExTRI",
                  "10037767;12893768",
                  "default activation"
                ],
                [
                  "43",
                  "STAT4",
                  "IFNA1",
                  "1.0",
                  "ExTRI",
                  "10037767",
                  "default activation"
                ],
                [
                  "44",
                  "STAT4",
                  "IRF1",
                  "1.0",
                  "ExTRI;TRRUST",
                  "10037767;10068671;10358173",
                  "default activation"
                ],
                [
                  "45",
                  "IRF1",
                  "IRF1",
                  "1.0",
                  "ExTRI",
                  "10037767;10321737;10358173;11238639;12493643;1431317;14656743;15467738;15560761;15659847;1614874;17016442;18079498;18497060;18694960;20435892;20825659;21219575;22002246;7507207;7678055;8015552;8885869;8990383;9307237",
                  "default activation"
                ],
                [
                  "46",
                  "ATF2",
                  "IL6",
                  "1.0",
                  "CytReg;ExTRI;SIGNOR",
                  "10037779;20086235",
                  "default activation"
                ],
                [
                  "47",
                  "WT1",
                  "ODC1",
                  "1.0",
                  "ExTRI;TRRUST",
                  "10047468;8604351",
                  "PMID"
                ],
                [
                  "48",
                  "NR2C2",
                  "CCND1",
                  "1.0",
                  "ExTRI;NTNU.Curated",
                  "10048449",
                  "PMID"
                ],
                [
                  "49",
                  "IRF3",
                  "IFNA1",
                  "1.0",
                  "CytReg;ExTRI;TRRUST",
                  "10048763;10692430;10933732;10938111;11162841;11303025;11473119;12242290;12821121;15331713;15741273;16641293;17785777;19193793;19349300;20047764;21795596;22593165;23028052;24278020;24535579;27012395;8524823;9877175;9891032",
                  "PMID"
                ]
              ],
              "shape": {
                "columns": 6,
                "rows": 42990
              }
            },
            "text/html": [
              "<div>\n",
              "<style scoped>\n",
              "    .dataframe tbody tr th:only-of-type {\n",
              "        vertical-align: middle;\n",
              "    }\n",
              "\n",
              "    .dataframe tbody tr th {\n",
              "        vertical-align: top;\n",
              "    }\n",
              "\n",
              "    .dataframe thead th {\n",
              "        text-align: right;\n",
              "    }\n",
              "</style>\n",
              "<table border=\"1\" class=\"dataframe\">\n",
              "  <thead>\n",
              "    <tr style=\"text-align: right;\">\n",
              "      <th></th>\n",
              "      <th>source</th>\n",
              "      <th>target</th>\n",
              "      <th>weight</th>\n",
              "      <th>resources</th>\n",
              "      <th>references</th>\n",
              "      <th>sign_decision</th>\n",
              "    </tr>\n",
              "  </thead>\n",
              "  <tbody>\n",
              "    <tr>\n",
              "      <th>0</th>\n",
              "      <td>MYC</td>\n",
              "      <td>TERT</td>\n",
              "      <td>1.0</td>\n",
              "      <td>DoRothEA-A;ExTRI;HTRI;NTNU.Curated;Pavlidis202...</td>\n",
              "      <td>10022128;10491298;10606235;10637317;10723141;1...</td>\n",
              "      <td>PMID</td>\n",
              "    </tr>\n",
              "    <tr>\n",
              "      <th>1</th>\n",
              "      <td>SPI1</td>\n",
              "      <td>BGLAP</td>\n",
              "      <td>1.0</td>\n",
              "      <td>ExTRI</td>\n",
              "      <td>10022617</td>\n",
              "      <td>default activation</td>\n",
              "    </tr>\n",
              "    <tr>\n",
              "      <th>2</th>\n",
              "      <td>SMAD3</td>\n",
              "      <td>JUN</td>\n",
              "      <td>1.0</td>\n",
              "      <td>ExTRI;NTNU.Curated;TFactS;TRRUST</td>\n",
              "      <td>10022869;12374795</td>\n",
              "      <td>PMID</td>\n",
              "    </tr>\n",
              "    <tr>\n",
              "      <th>3</th>\n",
              "      <td>SMAD4</td>\n",
              "      <td>JUN</td>\n",
              "      <td>1.0</td>\n",
              "      <td>ExTRI;NTNU.Curated;TFactS;TRRUST</td>\n",
              "      <td>10022869;12374795</td>\n",
              "      <td>PMID</td>\n",
              "    </tr>\n",
              "    <tr>\n",
              "      <th>4</th>\n",
              "      <td>STAT5A</td>\n",
              "      <td>IL2</td>\n",
              "      <td>1.0</td>\n",
              "      <td>ExTRI</td>\n",
              "      <td>10022878;11435608;17182565;17911616;22854263;2...</td>\n",
              "      <td>default activation</td>\n",
              "    </tr>\n",
              "    <tr>\n",
              "      <th>...</th>\n",
              "      <td>...</td>\n",
              "      <td>...</td>\n",
              "      <td>...</td>\n",
              "      <td>...</td>\n",
              "      <td>...</td>\n",
              "      <td>...</td>\n",
              "    </tr>\n",
              "    <tr>\n",
              "      <th>42985</th>\n",
              "      <td>NFKB</td>\n",
              "      <td>hsa-miR-143-3p</td>\n",
              "      <td>1.0</td>\n",
              "      <td>ExTRI</td>\n",
              "      <td>19472311</td>\n",
              "      <td>default activation</td>\n",
              "    </tr>\n",
              "    <tr>\n",
              "      <th>42986</th>\n",
              "      <td>AP1</td>\n",
              "      <td>hsa-miR-206</td>\n",
              "      <td>1.0</td>\n",
              "      <td>ExTRI;GEREDB;NTNU.Curated</td>\n",
              "      <td>19721712</td>\n",
              "      <td>PMID</td>\n",
              "    </tr>\n",
              "    <tr>\n",
              "      <th>42987</th>\n",
              "      <td>NFKB</td>\n",
              "      <td>hsa-miR-21</td>\n",
              "      <td>1.0</td>\n",
              "      <td>ExTRI</td>\n",
              "      <td>20813833;22387281</td>\n",
              "      <td>default activation</td>\n",
              "    </tr>\n",
              "    <tr>\n",
              "      <th>42988</th>\n",
              "      <td>NFKB</td>\n",
              "      <td>hsa-miR-224-5p</td>\n",
              "      <td>1.0</td>\n",
              "      <td>ExTRI</td>\n",
              "      <td>23474441;23988648</td>\n",
              "      <td>default activation</td>\n",
              "    </tr>\n",
              "    <tr>\n",
              "      <th>42989</th>\n",
              "      <td>AP1</td>\n",
              "      <td>hsa-miR-144-3p</td>\n",
              "      <td>1.0</td>\n",
              "      <td>ExTRI</td>\n",
              "      <td>23546882</td>\n",
              "      <td>default activation</td>\n",
              "    </tr>\n",
              "  </tbody>\n",
              "</table>\n",
              "<p>42990 rows × 6 columns</p>\n",
              "</div>"
            ],
            "text/plain": [
              "       source          target  weight  \\\n",
              "0         MYC            TERT     1.0   \n",
              "1        SPI1           BGLAP     1.0   \n",
              "2       SMAD3             JUN     1.0   \n",
              "3       SMAD4             JUN     1.0   \n",
              "4      STAT5A             IL2     1.0   \n",
              "...       ...             ...     ...   \n",
              "42985    NFKB  hsa-miR-143-3p     1.0   \n",
              "42986     AP1     hsa-miR-206     1.0   \n",
              "42987    NFKB      hsa-miR-21     1.0   \n",
              "42988    NFKB  hsa-miR-224-5p     1.0   \n",
              "42989     AP1  hsa-miR-144-3p     1.0   \n",
              "\n",
              "                                               resources  \\\n",
              "0      DoRothEA-A;ExTRI;HTRI;NTNU.Curated;Pavlidis202...   \n",
              "1                                                  ExTRI   \n",
              "2                       ExTRI;NTNU.Curated;TFactS;TRRUST   \n",
              "3                       ExTRI;NTNU.Curated;TFactS;TRRUST   \n",
              "4                                                  ExTRI   \n",
              "...                                                  ...   \n",
              "42985                                              ExTRI   \n",
              "42986                          ExTRI;GEREDB;NTNU.Curated   \n",
              "42987                                              ExTRI   \n",
              "42988                                              ExTRI   \n",
              "42989                                              ExTRI   \n",
              "\n",
              "                                              references       sign_decision  \n",
              "0      10022128;10491298;10606235;10637317;10723141;1...                PMID  \n",
              "1                                               10022617  default activation  \n",
              "2                                      10022869;12374795                PMID  \n",
              "3                                      10022869;12374795                PMID  \n",
              "4      10022878;11435608;17182565;17911616;22854263;2...  default activation  \n",
              "...                                                  ...                 ...  \n",
              "42985                                           19472311  default activation  \n",
              "42986                                           19721712                PMID  \n",
              "42987                                  20813833;22387281  default activation  \n",
              "42988                                  23474441;23988648  default activation  \n",
              "42989                                           23546882  default activation  \n",
              "\n",
              "[42990 rows x 6 columns]"
            ]
          },
          "execution_count": 19,
          "metadata": {},
          "output_type": "execute_result"
        }
      ],
      "source": [
        "# processed regulons\n",
        "import decoupler as dc\n",
        "regulons = dc.op.collectri(organism='human')\n",
        "regulons"
      ]
    },
    {
      "cell_type": "markdown",
      "metadata": {
        "id": "zBig7HEM2jL8"
      },
      "source": [
        "choose regulons"
      ]
    },
    {
      "cell_type": "code",
      "execution_count": 20,
      "metadata": {
        "colab": {
          "background_save": true
        },
        "id": "GbgzK_Gq1Tsw",
        "outputId": "e4576cf4-f95e-474b-9af8-62d7926982c5"
      },
      "outputs": [
        {
          "data": {
            "application/vnd.microsoft.datawrangler.viewer.v0+json": {
              "columns": [
                {
                  "name": "index",
                  "rawType": "int64",
                  "type": "integer"
                },
                {
                  "name": "source",
                  "rawType": "object",
                  "type": "string"
                },
                {
                  "name": "target",
                  "rawType": "object",
                  "type": "string"
                },
                {
                  "name": "weight",
                  "rawType": "float64",
                  "type": "float"
                },
                {
                  "name": "resources",
                  "rawType": "object",
                  "type": "string"
                },
                {
                  "name": "references",
                  "rawType": "object",
                  "type": "string"
                },
                {
                  "name": "sign_decision",
                  "rawType": "object",
                  "type": "string"
                }
              ],
              "ref": "3ccfd208-65df-4d17-a5a2-08bcfdfed0cd",
              "rows": [
                [
                  "4",
                  "STAT5A",
                  "IL2",
                  "1.0",
                  "ExTRI",
                  "10022878;11435608;17182565;17911616;22854263;24550509;24587342;7479881;8683106;8943338;9121484;9817603",
                  "default activation"
                ],
                [
                  "5",
                  "STAT5B",
                  "IL2",
                  "1.0",
                  "ExTRI",
                  "10022878",
                  "regulon"
                ],
                [
                  "9",
                  "SP1",
                  "ALDOA",
                  "1.0",
                  "DoRothEA-A;ExTRI;TFactS",
                  "10023068;8524331",
                  "PMID"
                ],
                [
                  "15",
                  "STAT1",
                  "CDKN1A",
                  "1.0",
                  "ExTRI;TFactS;TRRUST",
                  "10023678;10866323;11162600;12239594;16449678;20738848;21307941;22591439",
                  "PMID"
                ],
                [
                  "16",
                  "STAT3",
                  "CDKN1A",
                  "1.0",
                  "ExTRI;NTNU.Curated;TRRUST",
                  "10023678;11114718;11773079;12438313;15063116;15286705;16923815;18320073;19329556;19372587;20654581;21184768;22328012;23178160;9694869",
                  "PMID"
                ],
                [
                  "42",
                  "STAT4",
                  "IL12B",
                  "1.0",
                  "ExTRI",
                  "10037767;12893768",
                  "default activation"
                ],
                [
                  "43",
                  "STAT4",
                  "IFNA1",
                  "1.0",
                  "ExTRI",
                  "10037767",
                  "default activation"
                ],
                [
                  "44",
                  "STAT4",
                  "IRF1",
                  "1.0",
                  "ExTRI;TRRUST",
                  "10037767;10068671;10358173",
                  "default activation"
                ],
                [
                  "45",
                  "IRF1",
                  "IRF1",
                  "1.0",
                  "ExTRI",
                  "10037767;10321737;10358173;11238639;12493643;1431317;14656743;15467738;15560761;15659847;1614874;17016442;18079498;18497060;18694960;20435892;20825659;21219575;22002246;7507207;7678055;8015552;8885869;8990383;9307237",
                  "default activation"
                ],
                [
                  "49",
                  "IRF3",
                  "IFNA1",
                  "1.0",
                  "CytReg;ExTRI;TRRUST",
                  "10048763;10692430;10933732;10938111;11162841;11303025;11473119;12242290;12821121;15331713;15741273;16641293;17785777;19193793;19349300;20047764;21795596;22593165;23028052;24278020;24535579;27012395;8524823;9877175;9891032",
                  "PMID"
                ],
                [
                  "53",
                  "STAT5A",
                  "IGF1",
                  "1.0",
                  "DoRothEA-A;ExTRI;HTRI;SIGNOR;TFactS",
                  "10050749;14532269;15677453;17509524;18276757;19920132;20372799;20378540;21651786;23071812",
                  "PMID"
                ],
                [
                  "62",
                  "STAT5A",
                  "CCND1",
                  "1.0",
                  "ExTRI;NTNU.Curated;TFactS;TRRUST",
                  "10064602;14645506;15885880;16155412;18024957;18927468;19426693;20372799;21719533;23223023;23504816",
                  "PMID"
                ],
                [
                  "63",
                  "STAT5A",
                  "IL3",
                  "1.0",
                  "ExTRI",
                  "10064602;12574125;14627821;15358227;24367002",
                  "default activation"
                ],
                [
                  "92",
                  "STAT3",
                  "PRF1",
                  "1.0",
                  "ExTRI;NTNU.Curated;TFactS",
                  "10072525",
                  "PMID"
                ],
                [
                  "100",
                  "IRF1",
                  "SAMHD1",
                  "1.0",
                  "ExTRI;GEREDB",
                  "10075021;10570299;11703094;11781315;12232043;12429737;12474233;16413538;18546154;20510882;20631312;21345967;23659673;7814871;9164960;9548487",
                  "default activation"
                ],
                [
                  "102",
                  "IRF1",
                  "IFNG",
                  "1.0",
                  "ExTRI;TRRUST",
                  "10075021;10334391;10404391;10454342;10714548;10926836;11564890;11777545;12052885;12429737;12479817;12493643;12517966;12781715;13678429;1374362;14735146;14993214;15860458;16135520;16824573;16931033;17018642;17036321;17293456;19929594;20400850;20861350;23419754;23811275;7509445;7823961;9164960;9193655;9491997",
                  "PMID"
                ],
                [
                  "103",
                  "IRF1",
                  "NOS2",
                  "1.0",
                  "ExTRI;GEREDB;NTNU.Curated",
                  "10075021;10356322;10852612;10882409;11042347;11325839;11399519;12429737;12902503;16140971;16284791;17723228;19281374;19628072;20510882;23419754;7520478;9305901;9307029",
                  "PMID"
                ],
                [
                  "105",
                  "SP1",
                  "FASLG",
                  "1.0",
                  "DoRothEA-A;ExTRI;HTRI;NTNU.Curated;TFactS;TRRUST",
                  "10075666;10671224;10754388;11053446;11254710;11745351;11970950;12655294;14563113;15004200;15173177;15659839;17192273;18293083;20617570",
                  "PMID"
                ],
                [
                  "114",
                  "SP1",
                  "GAST",
                  "1.0",
                  "DoRothEA-A;ExTRI;HTRI;TRRUST",
                  "10075714;10448078;10580833;10679190;10751319;14670968;15613302;17889508;21083750;22593272;2566164;7721790;7890769;8920679;8943318;9144414;9852054",
                  "PMID"
                ],
                [
                  "147",
                  "SP1",
                  "NF1",
                  "1.0",
                  "ExTRI;TFactS;TRRUST",
                  "10082137;10435592;11145742;11433027;12234688;12568725;14647436;18342022;18440323;2403642;8065328;8089200;9287317",
                  "PMID"
                ],
                [
                  "152",
                  "SP1",
                  "MYOD1",
                  "1.0",
                  "ExTRI;TFactS",
                  "10082523;1662816;8120060",
                  "PMID"
                ],
                [
                  "159",
                  "SP1",
                  "FOS",
                  "1.0",
                  "DoRothEA-A;ExTRI;HTRI;TFactS;TRRUST",
                  "10082538;17626239;9528985",
                  "PMID"
                ],
                [
                  "161",
                  "SP1",
                  "EGR1",
                  "1.0",
                  "ExTRI;NTNU.Curated;TRRUST",
                  "10082539;10826704;12637574;18044710;20427719;8349585;9282327",
                  "PMID"
                ],
                [
                  "176",
                  "SP1",
                  "PNMT",
                  "1.0",
                  "ExTRI;GEREDB;NTNU.Curated;TFactS",
                  "10085109;12694408;14573768;16926281;19220706;19539715;20654592;21046459;7615530",
                  "PMID"
                ],
                [
                  "201",
                  "STAT1",
                  "IRF8",
                  "1.0",
                  "ExTRI;NTNU.Curated;TRRUST",
                  "10092656;16918696;19074829",
                  "PMID"
                ],
                [
                  "202",
                  "IRF8",
                  "STAT1",
                  "-1.0",
                  "ExTRI;NTNU.Curated",
                  "22805310",
                  "PMID"
                ],
                [
                  "203",
                  "IRF8",
                  "IFNG",
                  "1.0",
                  "ExTRI",
                  "10092656;10358195;12370291;12429737;19074829;2111015;21731497;21862594",
                  "default activation"
                ],
                [
                  "212",
                  "STAT4",
                  "IFNG",
                  "1.0",
                  "CytReg;ExTRI;GEREDB;TRRUST",
                  "10097133;11449378;11801649;12594853;12759422;12893768;12902482;14734615;15251440;15522880;16301617;16717115;17110450;19359411;19710469;20574006;20620946;23761633;24415943;25589075;26123499;9558063;9642277",
                  "PMID"
                ],
                [
                  "216",
                  "SP1",
                  "NPR1",
                  "1.0",
                  "ExTRI;TFactS",
                  "10098505;11022037;20864529;24451378",
                  "PMID"
                ],
                [
                  "219",
                  "SP1",
                  "RAC2",
                  "1.0",
                  "ExTRI;GEREDB",
                  "10098607",
                  "PMID"
                ],
                [
                  "246",
                  "STAT3",
                  "POMC",
                  "1.0",
                  "ExTRI;NTNU.Curated;SIGNOR",
                  "10196143;11104795;12239103;12639901;12697721;17023536;19049975;23370526",
                  "PMID"
                ],
                [
                  "254",
                  "SP1",
                  "CLCN2",
                  "1.0",
                  "ExTRI",
                  "10198359;12714379",
                  "default activation"
                ],
                [
                  "261",
                  "IRF1",
                  "IFNL3",
                  "1.0",
                  "CytReg;ExTRI",
                  "10200596;17785777",
                  "PMID"
                ],
                [
                  "263",
                  "IRF3",
                  "IFNL3",
                  "1.0",
                  "CytReg;ExTRI",
                  "10200596;17785777",
                  "PMID"
                ],
                [
                  "267",
                  "STAT1",
                  "IFNG",
                  "1.0",
                  "CytReg;ExTRI;TRRUST",
                  "10201928;10373559;10440232;10585866;10707961;10713330;10830295;10881178;10982806;11390994;11416037;12052885;12130529;12223098;12403783;12493643;12759422;12893768;13678429;14735146;15055356;15217838;15931263;16162660;16195385;16380218;16785492;17016440;17105733;17270146;17283162;17558024;17689680;17878383;1833631;18616672;18787082;18802113;19124156;19262492;19476491;19929594;19935876;20004484;21039465;21178011;21530491;22767256;23419754;23582260;23645984;23740952;24200694;24478085;26170288;7565811;7619083;7796811;7957928;8509377;8647290;8823363;8990168;9059994;9218597;9271410;9491997;9548487;9748323;9880553",
                  "PMID"
                ],
                [
                  "298",
                  "SP1",
                  "CDKN1A",
                  "1.0",
                  "DoRothEA-A;ExTRI;GEREDB;HTRI;NTNU.Curated;TFactS;TRRUST",
                  "10030670;10212208;10321829;10362258;10485470;10506225;10601254;10625687;10649433;10733944;10809237;10878024;11064455;11274368;11384995;11574165;11842244;11953011;12151347;12379120;12434298;12665570;12727210;12773551;12782287;12796485;12806965;14527674;14529564;14744793;14755691;15033443;15041706;15302882;15345676;15361832;15389873;15489892;15528212;15557281;15659839;15694666;15694838;15790310;15899840;15961274;15978937;15979845;16081043;16103879;16298343;16533812;16706751;16810128;16818630;17026958;17090534;17516505;17556661;17885207;18202149;18210215;18270969;18419600;18509005;18636159;18850004;19244234;19318349;19584258;20301197;20935676;21184768;21311948;21325288;21858218;22001409;22132221;22427654;23066038;23184467;23235480;23329847;23877711;24451377;24589735;24821727;7499379;8557703;8995437;9183012;9553133;9580699;9618481;9819384",
                  "PMID"
                ],
                [
                  "303",
                  "ELF1",
                  "IL5",
                  "1.0",
                  "ExTRI",
                  "10212281",
                  "default activation"
                ],
                [
                  "307",
                  "SP1",
                  "TGFB1",
                  "1.0",
                  "CytReg;DoRothEA-A;ExTRI;NTNU.Curated;SIGNOR;TRRUST",
                  "10212284;10964912;11054406;11114293;11278686;12138160;12186868;12615726;15178441;15979845;16714330;22415074;23437118;23806282;23936544;27974707;2808430;8325508;9242631;9580699;9837963",
                  "PMID"
                ],
                [
                  "313",
                  "SP1",
                  "PCYT1A",
                  "1.0",
                  "ExTRI;NTNU.Curated;SIGNOR;TFactS",
                  "10216289;10744779;12794070;15247247;16157598;16484221;17384411;20096375",
                  "PMID"
                ],
                [
                  "322",
                  "SP1",
                  "LDLR",
                  "1.0",
                  "DoRothEA-A;ExTRI;HTRI;NTNU.Curated;TFactS;TRRUST",
                  "10224053;10841543;10894816;11250935;11792717;14568562;14998783;16303770;16449644;16647292;24358207;7597088;7627719;7836375;9271397;9610768",
                  "PMID"
                ],
                [
                  "372",
                  "IRF1",
                  "IFNA1",
                  "1.0",
                  "CytReg;ExTRI;TRRUST",
                  "10321737;10358173;10406469;11473119;12077266;12466898;1371248;14581002;15722233;1614874;1712401;17617740;17785777;19929594;23542606;23670564;2475256;27012395;2911367;7507207;7559730;7606736;7687740;7957048;8004672;8052267;8062214;8621447;8805641;9078371;9315689;9625761;9831185",
                  "PMID"
                ],
                [
                  "374",
                  "IRF1",
                  "IRF2",
                  "1.0",
                  "ExTRI;NTNU.Curated;TRRUST",
                  "10321737;12493643;1431317;15560761;7507207;7630638;8152803;9054665",
                  "PMID"
                ],
                [
                  "387",
                  "STAT1",
                  "IFNB1",
                  "-1.0",
                  "CytReg;ExTRI;TRRUST",
                  "10321980;15194680;16020513;17374731;18035482;19096445;22479354;24478085;9325014",
                  "PMID"
                ],
                [
                  "408",
                  "SP1",
                  "SP1",
                  "1.0",
                  "ExTRI;NTNU.Curated;TFactS",
                  "10329728;10374837;10669635;10845904;10847580;10850422;11118296;11345900;11348466;11594561;11683873;12169688;12502798;12509426;12706891;12804776;12888570;12954631;1336181;14604767;14608051;15380450;15541732;15691879;15731358;15780936;15790310;15821099;15854045;16288017;16617124;16677608;16715126;16797880;16806531;16949047;17085651;17108117;17203216;17257588;17597815;17600309;17823254;18175117;18194215;18472212;18509005;18769160;18843277;19141126;19164126;19223508;19244234;19753117;19994725;20204374;20971080;21291420;21441538;21554857;21604172;21787586;22030357;22172574;22227581;22734486;23018034;23148884;23209644;24122978;7896792;8361761;9154804;9218479;9261391;9666093",
                  "PMID"
                ],
                [
                  "452",
                  "SP1",
                  "IGFBP4",
                  "1.0",
                  "DoRothEA-A;ExTRI;HTRI;TRRUST",
                  "10342835",
                  "default activation"
                ],
                [
                  "457",
                  "ELF1",
                  "CD4",
                  "1.0",
                  "ExTRI;GEREDB;TFactS",
                  "10347164;10780882;7935370",
                  "PMID"
                ],
                [
                  "482",
                  "STAT1",
                  "CSN2",
                  "1.0",
                  "ExTRI;NTNU.Curated",
                  "10358045;8830676;9195960;9231797",
                  "default activation"
                ],
                [
                  "483",
                  "STAT5A",
                  "CSN2",
                  "1.0",
                  "ExTRI;NTNU.Curated;TFactS;TRRUST",
                  "10358045;10418993;10471471;10732325;10834938;10993888;11158330;11167825;11287629;11604235;11751614;12060651;12082616;12459499;12596040;12605675;12732616;12746331;12954634;14646587;1491685;15534001;15746097;16832345;16965262;16973758;18024957;18583090;19490989;20980837;23313770;7514531;7519723;8018556;8264581;8274437;8830676;8943229;9231797;9252424;9341115;9343435;9657743;9806359;9817603;9973262",
                  "PMID"
                ],
                [
                  "484",
                  "STAT5B",
                  "CSN2",
                  "1.0",
                  "ExTRI;TFactS",
                  "10358045;10830280;18583090;8943229;9231797;9341115",
                  "PMID"
                ],
                [
                  "486",
                  "IRF1",
                  "CCL4",
                  "1.0",
                  "ExTRI",
                  "10358173",
                  "default activation"
                ]
              ],
              "shape": {
                "columns": 6,
                "rows": 3042
              }
            },
            "text/html": [
              "<div>\n",
              "<style scoped>\n",
              "    .dataframe tbody tr th:only-of-type {\n",
              "        vertical-align: middle;\n",
              "    }\n",
              "\n",
              "    .dataframe tbody tr th {\n",
              "        vertical-align: top;\n",
              "    }\n",
              "\n",
              "    .dataframe thead th {\n",
              "        text-align: right;\n",
              "    }\n",
              "</style>\n",
              "<table border=\"1\" class=\"dataframe\">\n",
              "  <thead>\n",
              "    <tr style=\"text-align: right;\">\n",
              "      <th></th>\n",
              "      <th>source</th>\n",
              "      <th>target</th>\n",
              "      <th>weight</th>\n",
              "      <th>resources</th>\n",
              "      <th>references</th>\n",
              "      <th>sign_decision</th>\n",
              "    </tr>\n",
              "  </thead>\n",
              "  <tbody>\n",
              "    <tr>\n",
              "      <th>4</th>\n",
              "      <td>STAT5A</td>\n",
              "      <td>IL2</td>\n",
              "      <td>1.0</td>\n",
              "      <td>ExTRI</td>\n",
              "      <td>10022878;11435608;17182565;17911616;22854263;2...</td>\n",
              "      <td>default activation</td>\n",
              "    </tr>\n",
              "    <tr>\n",
              "      <th>5</th>\n",
              "      <td>STAT5B</td>\n",
              "      <td>IL2</td>\n",
              "      <td>1.0</td>\n",
              "      <td>ExTRI</td>\n",
              "      <td>10022878</td>\n",
              "      <td>regulon</td>\n",
              "    </tr>\n",
              "    <tr>\n",
              "      <th>9</th>\n",
              "      <td>SP1</td>\n",
              "      <td>ALDOA</td>\n",
              "      <td>1.0</td>\n",
              "      <td>DoRothEA-A;ExTRI;TFactS</td>\n",
              "      <td>10023068;8524331</td>\n",
              "      <td>PMID</td>\n",
              "    </tr>\n",
              "    <tr>\n",
              "      <th>15</th>\n",
              "      <td>STAT1</td>\n",
              "      <td>CDKN1A</td>\n",
              "      <td>1.0</td>\n",
              "      <td>ExTRI;TFactS;TRRUST</td>\n",
              "      <td>10023678;10866323;11162600;12239594;16449678;2...</td>\n",
              "      <td>PMID</td>\n",
              "    </tr>\n",
              "    <tr>\n",
              "      <th>16</th>\n",
              "      <td>STAT3</td>\n",
              "      <td>CDKN1A</td>\n",
              "      <td>1.0</td>\n",
              "      <td>ExTRI;NTNU.Curated;TRRUST</td>\n",
              "      <td>10023678;11114718;11773079;12438313;15063116;1...</td>\n",
              "      <td>PMID</td>\n",
              "    </tr>\n",
              "    <tr>\n",
              "      <th>...</th>\n",
              "      <td>...</td>\n",
              "      <td>...</td>\n",
              "      <td>...</td>\n",
              "      <td>...</td>\n",
              "      <td>...</td>\n",
              "      <td>...</td>\n",
              "    </tr>\n",
              "    <tr>\n",
              "      <th>41503</th>\n",
              "      <td>STAT1</td>\n",
              "      <td>hsa-miR-221-3p</td>\n",
              "      <td>1.0</td>\n",
              "      <td>ExTRI</td>\n",
              "      <td>20110463</td>\n",
              "      <td>default activation</td>\n",
              "    </tr>\n",
              "    <tr>\n",
              "      <th>41506</th>\n",
              "      <td>STAT3</td>\n",
              "      <td>hsa-miR-21</td>\n",
              "      <td>1.0</td>\n",
              "      <td>ExTRI</td>\n",
              "      <td>20813833;21685938;22210182;23416424</td>\n",
              "      <td>regulon</td>\n",
              "    </tr>\n",
              "    <tr>\n",
              "      <th>41522</th>\n",
              "      <td>SP1</td>\n",
              "      <td>hsa-miR-335-5p</td>\n",
              "      <td>1.0</td>\n",
              "      <td>ExTRI</td>\n",
              "      <td>21618216</td>\n",
              "      <td>default activation</td>\n",
              "    </tr>\n",
              "    <tr>\n",
              "      <th>41554</th>\n",
              "      <td>STAT3</td>\n",
              "      <td>hsa-miR-155-5p</td>\n",
              "      <td>1.0</td>\n",
              "      <td>ExTRI</td>\n",
              "      <td>23676217;23750211</td>\n",
              "      <td>regulon</td>\n",
              "    </tr>\n",
              "    <tr>\n",
              "      <th>41582</th>\n",
              "      <td>SP1</td>\n",
              "      <td>hsa-miR-22</td>\n",
              "      <td>1.0</td>\n",
              "      <td>ExTRI</td>\n",
              "      <td>24906624</td>\n",
              "      <td>default activation</td>\n",
              "    </tr>\n",
              "  </tbody>\n",
              "</table>\n",
              "<p>3042 rows × 6 columns</p>\n",
              "</div>"
            ],
            "text/plain": [
              "       source          target  weight                  resources  \\\n",
              "4      STAT5A             IL2     1.0                      ExTRI   \n",
              "5      STAT5B             IL2     1.0                      ExTRI   \n",
              "9         SP1           ALDOA     1.0    DoRothEA-A;ExTRI;TFactS   \n",
              "15      STAT1          CDKN1A     1.0        ExTRI;TFactS;TRRUST   \n",
              "16      STAT3          CDKN1A     1.0  ExTRI;NTNU.Curated;TRRUST   \n",
              "...       ...             ...     ...                        ...   \n",
              "41503   STAT1  hsa-miR-221-3p     1.0                      ExTRI   \n",
              "41506   STAT3      hsa-miR-21     1.0                      ExTRI   \n",
              "41522     SP1  hsa-miR-335-5p     1.0                      ExTRI   \n",
              "41554   STAT3  hsa-miR-155-5p     1.0                      ExTRI   \n",
              "41582     SP1      hsa-miR-22     1.0                      ExTRI   \n",
              "\n",
              "                                              references       sign_decision  \n",
              "4      10022878;11435608;17182565;17911616;22854263;2...  default activation  \n",
              "5                                               10022878             regulon  \n",
              "9                                       10023068;8524331                PMID  \n",
              "15     10023678;10866323;11162600;12239594;16449678;2...                PMID  \n",
              "16     10023678;11114718;11773079;12438313;15063116;1...                PMID  \n",
              "...                                                  ...                 ...  \n",
              "41503                                           20110463  default activation  \n",
              "41506                20813833;21685938;22210182;23416424             regulon  \n",
              "41522                                           21618216  default activation  \n",
              "41554                                  23676217;23750211             regulon  \n",
              "41582                                           24906624  default activation  \n",
              "\n",
              "[3042 rows x 6 columns]"
            ]
          },
          "execution_count": 20,
          "metadata": {},
          "output_type": "execute_result"
        }
      ],
      "source": [
        "# prompt: filter regulons dataframe where source equal to something in a list like [\"STAT1\",\"STAT2\"]\n",
        "\n",
        "filtered_regulons = regulons[regulons['source'].isin(\n",
        "    [\n",
        "      \"SP1\",\n",
        "      \"NRF1\",\n",
        "      \"ELF1\",\n",
        "      \"STAT1\",\n",
        "      \"STAT2\",\n",
        "      \"IRF9\",\n",
        "      \"STAT3\",\n",
        "      \"STAT4\",\n",
        "      \"STAT5A\",\n",
        "      \"STAT5B\",\n",
        "      \"IRF3\",\n",
        "      \"IRF7\",\n",
        "      \"IRF1\",\n",
        "      \"IRF5\",\n",
        "\"IRF8\",\n",
        "     ])]\n",
        "# source for regulons is https://www.nature.com/articles/nri3787\n",
        "# I also checked every regulon in this list exists in our dataset\n",
        "filtered_regulons"
      ]
    },
    {
      "cell_type": "code",
      "execution_count": 21,
      "metadata": {
        "colab": {
          "background_save": true
        },
        "id": "ZOZG-SaP1tTu",
        "outputId": "f7c31fe8-40f9-47bd-fc90-f809e6764798"
      },
      "outputs": [
        {
          "data": {
            "image/png": "[encoded data removed]",
            "text/plain": [
              "<Figure size 1000x600 with 1 Axes>"
            ]
          },
          "metadata": {},
          "output_type": "display_data"
        }
      ],
      "source": [
        "# prompt: create an histogram for dataframe filtered_regulons, column weight\n",
        "\n",
        "import matplotlib.pyplot as plt\n",
        "\n",
        "# Assuming 'filtered_regulons' DataFrame and 'weight' column exist\n",
        "plt.figure(figsize=(10, 6))\n",
        "plt.hist(filtered_regulons['weight'], bins=30, edgecolor='black')\n",
        "plt.xlabel('Weight')\n",
        "plt.ylabel('Frequency')\n",
        "plt.title('Histogram of Weights for Filtered Regulons')\n",
        "plt.show()"
      ]
    },
    {
      "cell_type": "markdown",
      "metadata": {
        "id": "dOIXHvXm2mFo"
      },
      "source": [
        "filter regulons for size, for this, create a histogram for how counts of our chosen regulons in dataframe"
      ]
    },
    {
      "cell_type": "code",
      "execution_count": 22,
      "metadata": {
        "colab": {
          "background_save": true
        },
        "id": "lvKtxxcn2hp5",
        "outputId": "6d17150e-1c10-4287-b5bc-4f79b2a31d0b"
      },
      "outputs": [
        {
          "name": "stdout",
          "output_type": "stream",
          "text": [
            "source\n",
            "SP1       1304\n",
            "STAT3      437\n",
            "STAT1      305\n",
            "STAT5A     215\n",
            "IRF1       170\n",
            "STAT5B     106\n",
            "NRF1        91\n",
            "IRF3        83\n",
            "ELF1        80\n",
            "IRF8        69\n",
            "STAT2       50\n",
            "IRF5        37\n",
            "IRF7        34\n",
            "STAT4       32\n",
            "IRF9        29\n",
            "Name: count, dtype: int64\n"
          ]
        },
        {
          "data": {
            "image/png": "[encoded data removed]",
            "text/plain": [
              "<Figure size 1000x600 with 1 Axes>"
            ]
          },
          "metadata": {},
          "output_type": "display_data"
        }
      ],
      "source": [
        "print(filtered_regulons['source'].value_counts())\n",
        "# prompt: create a histogram for counts of each unique values in source column\n",
        "# Assuming 'filtered_regulons' DataFrame and 'source' column exist\n",
        "plt.figure(figsize=(10, 6))\n",
        "filtered_regulons['source'].value_counts().plot(kind='bar')\n",
        "plt.xlabel('Source')\n",
        "plt.ylabel('Count')\n",
        "plt.title('Genes Mapped Per TF')\n",
        "plt.show()"
      ]
    },
    {
      "cell_type": "markdown",
      "metadata": {
        "id": "VC6Wkec7c0uW"
      },
      "source": [
        "## Create Mask"
      ]
    },
    {
      "cell_type": "markdown",
      "metadata": {
        "id": "PaGaT-7_gAi_"
      },
      "source": [
        "this function was copied from exercise, but we do not have a .gmt file\n",
        "\n",
        ".gmt file format is like this for each line: name, link, gene1, gene2, ...\n",
        "\n",
        "but we have a dataframe of columns: source(TF), target(gene), weight(-1 or 1)\n",
        "\n",
        "I believe we should mark -1 in mask if the weight is -1, unlike the previous implementation"
      ]
    },
    {
      "cell_type": "markdown",
      "metadata": {
        "id": "dvTLYTV2gJ1Q"
      },
      "source": [
        "Writing our own function / creating our own mask\n",
        "- convert to polars because i'm more familiar with it\n",
        "- keep only the gene names in the anndata object, so we wont keep genenames without corresponding data in the mask\n",
        "- convert the df from long to wide format, values will be weights, columns will be TFs, gene names will stay in rows\n",
        "-"
      ]
    },
    {
      "cell_type": "code",
      "execution_count": 23,
      "metadata": {
        "colab": {
          "background_save": true
        },
        "id": "ldYizuyYnVWm",
        "outputId": "e3407b38-d7ea-4801-b2ca-cdf7bf10397a"
      },
      "outputs": [
        {
          "data": {
            "text/plain": [
              "array(['AL627309.1', 'RP11-206L10.9', 'LINC00115', ..., 'FTCD', 'DIP2A',\n",
              "       'S100B'], shape=(6998,), dtype=object)"
            ]
          },
          "execution_count": 23,
          "metadata": {},
          "output_type": "execute_result"
        }
      ],
      "source": [
        "pbmc.var.index.to_numpy()"
      ]
    },
    {
      "cell_type": "code",
      "execution_count": 24,
      "metadata": {
        "colab": {
          "background_save": true
        },
        "id": "4xnv5iTegKhS",
        "outputId": "b97e3fc0-4f15-43ed-cb60-da4a6bafdd21"
      },
      "outputs": [
        {
          "data": {
            "text/html": [
              "<div><style>\n",
              ".dataframe > thead > tr,\n",
              ".dataframe > tbody > tr {\n",
              "  text-align: right;\n",
              "  white-space: pre-wrap;\n",
              "}\n",
              "</style>\n",
              "<small>shape: (684, 17)</small><table border=\"1\" class=\"dataframe\"><thead><tr><th>target</th><th>STAT5A</th><th>STAT5B</th><th>STAT4</th><th>IRF1</th><th>STAT3</th><th>SP1</th><th>STAT1</th><th>IRF8</th><th>NRF1</th><th>ELF1</th><th>IRF3</th><th>IRF5</th><th>STAT2</th><th>IRF7</th><th>IRF9</th><th>unannotated_1</th></tr><tr><td>str</td><td>f64</td><td>f64</td><td>f64</td><td>f64</td><td>f64</td><td>f64</td><td>f64</td><td>f64</td><td>f64</td><td>f64</td><td>f64</td><td>f64</td><td>f64</td><td>f64</td><td>f64</td><td>i32</td></tr></thead><tbody><tr><td>&quot;IL2&quot;</td><td>1.0</td><td>1.0</td><td>0.0</td><td>0.0</td><td>1.0</td><td>1.0</td><td>0.0</td><td>0.0</td><td>0.0</td><td>1.0</td><td>0.0</td><td>0.0</td><td>0.0</td><td>0.0</td><td>0.0</td><td>1</td></tr><tr><td>&quot;IRF1&quot;</td><td>1.0</td><td>1.0</td><td>1.0</td><td>1.0</td><td>1.0</td><td>0.0</td><td>1.0</td><td>1.0</td><td>0.0</td><td>0.0</td><td>1.0</td><td>0.0</td><td>1.0</td><td>0.0</td><td>0.0</td><td>1</td></tr><tr><td>&quot;CCND1&quot;</td><td>1.0</td><td>1.0</td><td>0.0</td><td>1.0</td><td>1.0</td><td>1.0</td><td>1.0</td><td>0.0</td><td>0.0</td><td>0.0</td><td>0.0</td><td>0.0</td><td>0.0</td><td>0.0</td><td>0.0</td><td>1</td></tr><tr><td>&quot;PRF1&quot;</td><td>1.0</td><td>1.0</td><td>1.0</td><td>0.0</td><td>1.0</td><td>0.0</td><td>1.0</td><td>0.0</td><td>0.0</td><td>0.0</td><td>0.0</td><td>0.0</td><td>0.0</td><td>0.0</td><td>0.0</td><td>1</td></tr><tr><td>&quot;IFNG&quot;</td><td>1.0</td><td>1.0</td><td>1.0</td><td>1.0</td><td>1.0</td><td>1.0</td><td>1.0</td><td>1.0</td><td>0.0</td><td>0.0</td><td>1.0</td><td>1.0</td><td>1.0</td><td>0.0</td><td>1.0</td><td>1</td></tr><tr><td>&hellip;</td><td>&hellip;</td><td>&hellip;</td><td>&hellip;</td><td>&hellip;</td><td>&hellip;</td><td>&hellip;</td><td>&hellip;</td><td>&hellip;</td><td>&hellip;</td><td>&hellip;</td><td>&hellip;</td><td>&hellip;</td><td>&hellip;</td><td>&hellip;</td><td>&hellip;</td><td>&hellip;</td></tr><tr><td>&quot;ZC3HAV1&quot;</td><td>0.0</td><td>0.0</td><td>0.0</td><td>0.0</td><td>0.0</td><td>0.0</td><td>1.0</td><td>0.0</td><td>0.0</td><td>0.0</td><td>0.0</td><td>0.0</td><td>0.0</td><td>0.0</td><td>0.0</td><td>1</td></tr><tr><td>&quot;ZNF181&quot;</td><td>0.0</td><td>0.0</td><td>0.0</td><td>0.0</td><td>0.0</td><td>0.0</td><td>1.0</td><td>0.0</td><td>0.0</td><td>0.0</td><td>0.0</td><td>0.0</td><td>0.0</td><td>0.0</td><td>0.0</td><td>1</td></tr><tr><td>&quot;ZNF230&quot;</td><td>0.0</td><td>0.0</td><td>0.0</td><td>0.0</td><td>0.0</td><td>0.0</td><td>1.0</td><td>0.0</td><td>0.0</td><td>0.0</td><td>0.0</td><td>0.0</td><td>0.0</td><td>0.0</td><td>0.0</td><td>1</td></tr><tr><td>&quot;ZNF302&quot;</td><td>0.0</td><td>0.0</td><td>0.0</td><td>0.0</td><td>0.0</td><td>0.0</td><td>1.0</td><td>0.0</td><td>0.0</td><td>0.0</td><td>0.0</td><td>0.0</td><td>0.0</td><td>0.0</td><td>0.0</td><td>1</td></tr><tr><td>&quot;ZNF655&quot;</td><td>0.0</td><td>0.0</td><td>0.0</td><td>0.0</td><td>0.0</td><td>0.0</td><td>1.0</td><td>0.0</td><td>0.0</td><td>0.0</td><td>0.0</td><td>0.0</td><td>0.0</td><td>0.0</td><td>0.0</td><td>1</td></tr></tbody></table></div>"
            ],
            "text/plain": [
              "shape: (684, 17)\n",
              "┌─────────┬────────┬────────┬───────┬───┬───────┬──────┬──────┬───────────────┐\n",
              "│ target  ┆ STAT5A ┆ STAT5B ┆ STAT4 ┆ … ┆ STAT2 ┆ IRF7 ┆ IRF9 ┆ unannotated_1 │\n",
              "│ ---     ┆ ---    ┆ ---    ┆ ---   ┆   ┆ ---   ┆ ---  ┆ ---  ┆ ---           │\n",
              "│ str     ┆ f64    ┆ f64    ┆ f64   ┆   ┆ f64   ┆ f64  ┆ f64  ┆ i32           │\n",
              "╞═════════╪════════╪════════╪═══════╪═══╪═══════╪══════╪══════╪═══════════════╡\n",
              "│ IL2     ┆ 1.0    ┆ 1.0    ┆ 0.0   ┆ … ┆ 0.0   ┆ 0.0  ┆ 0.0  ┆ 1             │\n",
              "│ IRF1    ┆ 1.0    ┆ 1.0    ┆ 1.0   ┆ … ┆ 1.0   ┆ 0.0  ┆ 0.0  ┆ 1             │\n",
              "│ CCND1   ┆ 1.0    ┆ 1.0    ┆ 0.0   ┆ … ┆ 0.0   ┆ 0.0  ┆ 0.0  ┆ 1             │\n",
              "│ PRF1    ┆ 1.0    ┆ 1.0    ┆ 1.0   ┆ … ┆ 0.0   ┆ 0.0  ┆ 0.0  ┆ 1             │\n",
              "│ IFNG    ┆ 1.0    ┆ 1.0    ┆ 1.0   ┆ … ┆ 1.0   ┆ 0.0  ┆ 1.0  ┆ 1             │\n",
              "│ …       ┆ …      ┆ …      ┆ …     ┆ … ┆ …     ┆ …    ┆ …    ┆ …             │\n",
              "│ ZC3HAV1 ┆ 0.0    ┆ 0.0    ┆ 0.0   ┆ … ┆ 0.0   ┆ 0.0  ┆ 0.0  ┆ 1             │\n",
              "│ ZNF181  ┆ 0.0    ┆ 0.0    ┆ 0.0   ┆ … ┆ 0.0   ┆ 0.0  ┆ 0.0  ┆ 1             │\n",
              "│ ZNF230  ┆ 0.0    ┆ 0.0    ┆ 0.0   ┆ … ┆ 0.0   ┆ 0.0  ┆ 0.0  ┆ 1             │\n",
              "│ ZNF302  ┆ 0.0    ┆ 0.0    ┆ 0.0   ┆ … ┆ 0.0   ┆ 0.0  ┆ 0.0  ┆ 1             │\n",
              "│ ZNF655  ┆ 0.0    ┆ 0.0    ┆ 0.0   ┆ … ┆ 0.0   ┆ 0.0  ┆ 0.0  ┆ 1             │\n",
              "└─────────┴────────┴────────┴───────┴───┴───────┴──────┴──────┴───────────────┘"
            ]
          },
          "execution_count": 24,
          "metadata": {},
          "output_type": "execute_result"
        }
      ],
      "source": [
        "\n",
        "import polars as pl\n",
        "\n",
        "extra_nodes_count = 2\n",
        "\n",
        "# rows should correspond to genes\n",
        "# cols should correspond to gene sets/TFs\n",
        "def create_mask(pbmc_tmp):\n",
        "  tmp = (\n",
        "    pl\n",
        "    .from_pandas(filtered_regulons)\n",
        "    # alice and kerem and yusuf decided to convert all -1 to 1 and remove positive weights restriction\n",
        "    .with_columns(\n",
        "        pl.col(\"weight\").replace(-1,1)\n",
        "    )\n",
        "    .filter(\n",
        "        pl.col(\"target\").is_in(pbmc_tmp.var.index.to_numpy())\n",
        "    ) # 901 x 13 -> 332 x 13\n",
        "    .pivot(\n",
        "        on = \"source\", # new columns\n",
        "        index = \"target\", # stays in rows\n",
        "        values = \"weight\"\n",
        "    )\n",
        "    .fill_null(0)\n",
        "  )\n",
        "\n",
        "  for i in range(0,extra_nodes_count):\n",
        "    node_index = i + 1\n",
        "    node_name = \"unannotated_\" + str(node_index)\n",
        "    tmp = tmp.with_columns(\n",
        "        pl.lit(1).alias(node_name)\n",
        "    )\n",
        "\n",
        "    return tmp\n",
        "\n",
        "mask_polars_df = create_mask(pbmc)\n",
        "mask_polars_df\n"
      ]
    },
    {
      "cell_type": "markdown",
      "metadata": {
        "id": "Hz10zISfkO_w"
      },
      "source": [
        "The exercise also adds fully connected nodes (default 1) to the mask as extra nodes, I am not sure if we want to still do that. and if we are gonna do that, we should create them in pairs as our mask values can be -1 too."
      ]
    },
    {
      "cell_type": "markdown",
      "metadata": {
        "id": "FMVFqlCrn92O"
      },
      "source": [
        "We need to add mask and the TF information to the anndata object"
      ]
    },
    {
      "cell_type": "code",
      "execution_count": 25,
      "metadata": {
        "colab": {
          "background_save": true
        },
        "id": "6S80Z-H8k0xw"
      },
      "outputs": [
        {
          "data": {
            "text/plain": [
              "{'mask': shape: (684, 17)\n",
              " ┌─────────┬────────┬────────┬───────┬───┬───────┬──────┬──────┬───────────────┐\n",
              " │ target  ┆ STAT5A ┆ STAT5B ┆ STAT4 ┆ … ┆ STAT2 ┆ IRF7 ┆ IRF9 ┆ unannotated_1 │\n",
              " │ ---     ┆ ---    ┆ ---    ┆ ---   ┆   ┆ ---   ┆ ---  ┆ ---  ┆ ---           │\n",
              " │ str     ┆ f64    ┆ f64    ┆ f64   ┆   ┆ f64   ┆ f64  ┆ f64  ┆ i32           │\n",
              " ╞═════════╪════════╪════════╪═══════╪═══╪═══════╪══════╪══════╪═══════════════╡\n",
              " │ IL2     ┆ 1.0    ┆ 1.0    ┆ 0.0   ┆ … ┆ 0.0   ┆ 0.0  ┆ 0.0  ┆ 1             │\n",
              " │ IRF1    ┆ 1.0    ┆ 1.0    ┆ 1.0   ┆ … ┆ 1.0   ┆ 0.0  ┆ 0.0  ┆ 1             │\n",
              " │ CCND1   ┆ 1.0    ┆ 1.0    ┆ 0.0   ┆ … ┆ 0.0   ┆ 0.0  ┆ 0.0  ┆ 1             │\n",
              " │ PRF1    ┆ 1.0    ┆ 1.0    ┆ 1.0   ┆ … ┆ 0.0   ┆ 0.0  ┆ 0.0  ┆ 1             │\n",
              " │ IFNG    ┆ 1.0    ┆ 1.0    ┆ 1.0   ┆ … ┆ 1.0   ┆ 0.0  ┆ 1.0  ┆ 1             │\n",
              " │ …       ┆ …      ┆ …      ┆ …     ┆ … ┆ …     ┆ …    ┆ …    ┆ …             │\n",
              " │ ZC3HAV1 ┆ 0.0    ┆ 0.0    ┆ 0.0   ┆ … ┆ 0.0   ┆ 0.0  ┆ 0.0  ┆ 1             │\n",
              " │ ZNF181  ┆ 0.0    ┆ 0.0    ┆ 0.0   ┆ … ┆ 0.0   ┆ 0.0  ┆ 0.0  ┆ 1             │\n",
              " │ ZNF230  ┆ 0.0    ┆ 0.0    ┆ 0.0   ┆ … ┆ 0.0   ┆ 0.0  ┆ 0.0  ┆ 1             │\n",
              " │ ZNF302  ┆ 0.0    ┆ 0.0    ┆ 0.0   ┆ … ┆ 0.0   ┆ 0.0  ┆ 0.0  ┆ 1             │\n",
              " │ ZNF655  ┆ 0.0    ┆ 0.0    ┆ 0.0   ┆ … ┆ 0.0   ┆ 0.0  ┆ 0.0  ┆ 1             │\n",
              " └─────────┴────────┴────────┴───────┴───┴───────┴──────┴──────┴───────────────┘,\n",
              " 'gmv_names': ['STAT5A',\n",
              "  'STAT5B',\n",
              "  'STAT4',\n",
              "  'IRF1',\n",
              "  'STAT3',\n",
              "  'SP1',\n",
              "  'STAT1',\n",
              "  'IRF8',\n",
              "  'NRF1',\n",
              "  'ELF1',\n",
              "  'IRF3',\n",
              "  'IRF5',\n",
              "  'STAT2',\n",
              "  'IRF7',\n",
              "  'IRF9',\n",
              "  'unannotated_1']}"
            ]
          },
          "execution_count": 25,
          "metadata": {},
          "output_type": "execute_result"
        }
      ],
      "source": [
        "pbmc.uns['_vega'] = dict() #create attribute \"_vega\" to store the mask and pathway information\n",
        "pbmc.uns['_vega']['mask'] = mask_polars_df\n",
        "pbmc.uns['_vega']['gmv_names'] = mask_polars_df.drop(\"target\").columns\n",
        "\n",
        "pbmc.uns['_vega']"
      ]
    },
    {
      "cell_type": "code",
      "execution_count": 26,
      "metadata": {
        "colab": {
          "background_save": true
        },
        "id": "-1zonVAe08Bc"
      },
      "outputs": [],
      "source": [
        "mask_np = mask_polars_df.drop(\"target\").to_numpy()"
      ]
    },
    {
      "cell_type": "code",
      "execution_count": 27,
      "metadata": {
        "colab": {
          "background_save": true
        },
        "id": "72P_cswJGi5F"
      },
      "outputs": [
        {
          "data": {
            "text/plain": [
              "AnnData object with n_obs × n_vars = 13515 × 684\n",
              "    obs: 'condition', 'n_counts', 'n_genes', 'mt_frac', 'cell_type'\n",
              "    var: 'gene_symbol', 'n_cells'\n",
              "    uns: 'cell_type_colors', 'condition_colors', 'neighbors', '_vega'\n",
              "    obsm: 'X_pca', 'X_tsne', 'X_umap'\n",
              "    obsp: 'connectivities', 'distances'"
            ]
          },
          "execution_count": 27,
          "metadata": {},
          "output_type": "execute_result"
        }
      ],
      "source": [
        "#filtering genes for in mask\n",
        "pmbc_genes_subset = pbmc[:, mask_polars_df[\"target\"].to_list()].copy()\n",
        "pmbc_genes_subset"
      ]
    },
    {
      "cell_type": "markdown",
      "metadata": {
        "id": "UrlODOI4cQ3e"
      },
      "source": [
        "## Build the Sparse VAE"
      ]
    },
    {
      "cell_type": "code",
      "execution_count": 28,
      "metadata": {
        "colab": {
          "background_save": true
        },
        "id": "ptJWn0TQVO3F"
      },
      "outputs": [
        {
          "data": {
            "text/plain": [
              "True"
            ]
          },
          "execution_count": 28,
          "metadata": {},
          "output_type": "execute_result"
        }
      ],
      "source": [
        "import torch; torch.manual_seed(100)\n",
        "import torch.nn as nn\n",
        "import torch.utils\n",
        "import torch.distributions\n",
        "import torchvision\n",
        "from torchvision import datasets, transforms\n",
        "import math\n",
        "import numpy as np\n",
        "np.random.seed(100)\n",
        "import matplotlib.pyplot as plt; plt.rcParams['figure.dpi'] = 200\n",
        "import scanpy as sc\n",
        "from collections import OrderedDict\n",
        "from collections import Counter\n",
        "\n",
        "# select the right device, depending on whether your Colab runs on GPU or CPU\n",
        "### IMPORTANT: we recommend to change your runtime to GPU, otherwise the training takes much longer\n",
        "device = 'cuda'\n",
        "\n",
        "torch.cuda.is_available()"
      ]
    },
    {
      "cell_type": "code",
      "execution_count": 29,
      "metadata": {
        "colab": {
          "background_save": true
        },
        "id": "2EmLYSl3oxBp"
      },
      "outputs": [],
      "source": [
        "# only change was in positive_weights function, we no longer restrict the weights\n",
        "\n",
        "class VEGA(nn.Module):\n",
        "    def __init__(self, latent_dims, input_dims, mask, dropout = 0.3, z_dropout = 0.3):\n",
        "        super(VEGA, self).__init__()\n",
        "        self.encoder = Encoder(latent_dims, input_dims, dropout, z_dropout) # we use the same encoder as before (two-layer, fully connected, non-linear)\n",
        "        self.decoder = DecoderVEGA(mask)\n",
        "\n",
        "    def forward(self, x):\n",
        "        z = self.encoder(x)\n",
        "        return self.decoder(z)\n",
        "\n",
        "class Encoder(nn.Module):\n",
        "    def __init__(self, latent_dims, input_dims, dropout, z_dropout): #dropout, z_dropout define the dropout rates of the encoder/latent space\n",
        "        super(Encoder, self).__init__()\n",
        "        self.encoder = nn.Sequential(nn.Linear(input_dims, 800),\n",
        "                                     nn.ReLU(),\n",
        "                                     nn.Dropout(p = dropout),\n",
        "                                     nn.Linear(800, 800),\n",
        "                                     nn.ReLU(),\n",
        "                                     nn.Dropout(p = dropout))  #two layer, fully connected encoder with dropout\n",
        "\n",
        "\n",
        "        self.mu = nn.Sequential(nn.Linear(800, latent_dims),\n",
        "                                nn.Dropout(p = z_dropout))\n",
        "\n",
        "        self.sigma = nn.Sequential(nn.Linear(800, latent_dims),\n",
        "                                   nn.Dropout(p = z_dropout))\n",
        "\n",
        "        self.N = torch.distributions.Normal(0, 1)\n",
        "        self.N.loc = self.N.loc.to(device)\n",
        "        self.N.scale = self.N.scale.to(device)\n",
        "        self.kl = 0\n",
        "\n",
        "    def forward(self, x):\n",
        "        x = self.encoder(x)\n",
        "        mu =  self.mu(x)\n",
        "        sigma = torch.exp(self.sigma(x)) # 7/03/2025: THERE WAS A TYPO HERE!!\n",
        "        z = mu + sigma*self.N.sample(mu.shape)\n",
        "        self.kl = (0.5*sigma**2 + 0.5*mu**2 - torch.log(sigma) - 1/2).sum() #calculation of kullback-leibler divergence\n",
        "\n",
        "        return z\n",
        "\n",
        "class DecoderVEGA(nn.Module):\n",
        "  \"\"\"\n",
        "  Define VEGA's decoder (sparse, one-layer, linear, positive)\n",
        "  \"\"\"\n",
        "  def __init__(self,\n",
        "               mask):\n",
        "        super(DecoderVEGA, self).__init__()\n",
        "\n",
        "        self.sparse_layer = nn.Sequential(SparseLayer(mask)) # we define the architecture of the decoder below with the class \"SparseLayer\"\n",
        "\n",
        "  def forward(self, x):\n",
        "    z = self.sparse_layer(x.to(device))\n",
        "    return(z)\n",
        "\n",
        "  def weights(self):\n",
        "      \"\"\"\n",
        "      constrain the decoder to positive weights (set negative weigths to zero)\n",
        "      \"\"\"\n",
        "      w = self.sparse_layer[0].weight\n",
        "      return w\n",
        "\n",
        "\n",
        "# define a class SparseLayer, that specifies the decoder architecture (sparse connections based on the mask)\n",
        "class SparseLayer(nn.Module):\n",
        "  def __init__(self, mask):\n",
        "        \"\"\"\n",
        "        Extended torch.nn module which mask connection\n",
        "        \"\"\"\n",
        "        super(SparseLayer, self).__init__()\n",
        "\n",
        "        self.mask = nn.Parameter(torch.tensor(mask, dtype=torch.float).t(), requires_grad=False)\n",
        "        self.weight = nn.Parameter(torch.Tensor(mask.shape[1], mask.shape[0]))\n",
        "        self.bias = nn.Parameter(torch.Tensor(mask.shape[1]))\n",
        "        self.reset_parameters()\n",
        "\n",
        "        # mask weight\n",
        "        self.weight.data = self.weight.data * self.mask\n",
        "\n",
        "  def reset_parameters(self):\n",
        "        stdv = 1. / math.sqrt(self.weight.size(1))\n",
        "        self.weight.data.uniform_(-stdv, stdv)\n",
        "        self.bias.data.uniform_(-stdv, stdv)\n",
        "\n",
        "  def forward(self, input):\n",
        "        # See the autograd section for explanation of what happens here\n",
        "        return SparseLayerFunction.apply(input, self.weight, self.bias, self.mask)\n",
        "\n",
        "\n",
        "######### You don't need to understand this part of the code in detail #########\n",
        "class SparseLayerFunction(torch.autograd.Function):\n",
        "    \"\"\"\n",
        "    We define our own autograd function which masks it's weights by 'mask'.\n",
        "    For more details, see https://pytorch.org/docs/stable/notes/extending.html\n",
        "    \"\"\"\n",
        "\n",
        "    # Note that both forward and backward are @staticmethods\n",
        "    @staticmethod\n",
        "    def forward(ctx, input, weight, bias, mask):\n",
        "\n",
        "        weight = weight * mask # change weight to 0 where mask == 0\n",
        "        #calculate the output\n",
        "        output = input.mm(weight.t())\n",
        "        output += bias.unsqueeze(0).expand_as(output) # Add bias to all values in output\n",
        "        ctx.save_for_backward(input, weight, bias, mask)\n",
        "        return output\n",
        "\n",
        "    @staticmethod\n",
        "    def backward(ctx, grad_output): # define the gradient formula\n",
        "        input, weight, bias, mask = ctx.saved_tensors\n",
        "        grad_input = grad_weight = grad_bias = grad_mask = None\n",
        "\n",
        "        # These needs_input_grad checks are optional and only to improve efficiency\n",
        "        if ctx.needs_input_grad[0]:\n",
        "            grad_input = grad_output.mm(weight)\n",
        "        if ctx.needs_input_grad[1]:\n",
        "            grad_weight = grad_output.t().mm(input)\n",
        "            # change grad_weight to 0 where mask == 0\n",
        "            grad_weight = grad_weight * mask\n",
        "        if ctx.needs_input_grad[2]:\n",
        "            grad_bias = grad_output.sum(0).squeeze(0)\n",
        "\n",
        "        return grad_input, grad_weight, grad_bias, grad_mask"
      ]
    },
    {
      "cell_type": "code",
      "execution_count": 30,
      "metadata": {
        "colab": {
          "background_save": true
        },
        "id": "659-BixFcu9E"
      },
      "outputs": [],
      "source": [
        "#training loop\n",
        "def trainVEGA(vae, data, epochs=60, beta = 0.0001, learning_rate = 0.001):\n",
        "  #epochs 60 looked enough when we tried 100\n",
        "    opt = torch.optim.Adam(vae.parameters(), lr = learning_rate, weight_decay = 5e-4)\n",
        "    vae.train() #train mode\n",
        "    losses = []\n",
        "    klds = []\n",
        "    mses = []\n",
        "\n",
        "    for epoch in range(epochs):\n",
        "        loss_e = 0\n",
        "        kld_e = 0\n",
        "        mse_e = 0\n",
        "\n",
        "        for x in data:\n",
        "            x = x.to(device)\n",
        "            opt.zero_grad()\n",
        "            x_hat = vae(x)\n",
        "            mse = ((x - x_hat)**2).sum()\n",
        "            kld = beta* vae.encoder.kl\n",
        "            loss = mse +  kld # loss calculation\n",
        "            loss.backward()\n",
        "            opt.step()\n",
        "            loss_e += loss.to('cpu').detach().numpy()\n",
        "            kld_e += kld.to('cpu').detach().numpy()\n",
        "            mse_e += mse.to('cpu').detach().numpy()\n",
        "            vae.decoder.weights() # this used to be positive_weights\n",
        "\n",
        "        losses.append(loss_e/(len(data)*128))\n",
        "        klds.append(kld_e/(len(data)*128))\n",
        "        mses.append(mse_e/(len(data)*128))\n",
        "\n",
        "        print(\"epoch: \", epoch, \" loss: \", loss_e/(len(data)*128))\n",
        "\n",
        "    return vae, losses, klds, mses"
      ]
    },
    {
      "cell_type": "code",
      "execution_count": 31,
      "metadata": {
        "colab": {
          "background_save": true
        },
        "id": "9GtCu-EEczcm"
      },
      "outputs": [],
      "source": [
        "pbmcX = torch.utils.data.DataLoader(pmbc_genes_subset.X.toarray(), batch_size=128) #set up the training data in the right format"
      ]
    },
    {
      "cell_type": "code",
      "execution_count": 32,
      "metadata": {
        "colab": {
          "background_save": true
        },
        "id": "rm4zPSWTdvDV"
      },
      "outputs": [
        {
          "name": "stdout",
          "output_type": "stream",
          "text": [
            "epoch:  0  loss:  141.9127\n",
            "epoch:  1  loss:  105.30587\n",
            "epoch:  2  loss:  80.40315\n",
            "epoch:  3  loss:  74.17768\n",
            "epoch:  4  loss:  69.64217\n",
            "epoch:  5  loss:  67.32532\n",
            "epoch:  6  loss:  66.67438\n",
            "epoch:  7  loss:  66.04726\n",
            "epoch:  8  loss:  64.53988\n",
            "epoch:  9  loss:  65.12071\n",
            "epoch:  10  loss:  62.599236\n",
            "epoch:  11  loss:  61.68825\n",
            "epoch:  12  loss:  61.278965\n",
            "epoch:  13  loss:  60.72825\n",
            "epoch:  14  loss:  59.796448\n",
            "epoch:  15  loss:  58.754906\n",
            "epoch:  16  loss:  59.04235\n",
            "epoch:  17  loss:  58.72456\n",
            "epoch:  18  loss:  57.187927\n",
            "epoch:  19  loss:  56.824383\n",
            "epoch:  20  loss:  58.56166\n",
            "epoch:  21  loss:  59.111046\n",
            "epoch:  22  loss:  57.09797\n",
            "epoch:  23  loss:  57.052864\n",
            "epoch:  24  loss:  56.467747\n",
            "epoch:  25  loss:  55.24711\n",
            "epoch:  26  loss:  54.58672\n",
            "epoch:  27  loss:  54.93846\n",
            "epoch:  28  loss:  54.873512\n",
            "epoch:  29  loss:  55.043793\n",
            "epoch:  30  loss:  55.169632\n",
            "epoch:  31  loss:  53.981087\n",
            "epoch:  32  loss:  53.78516\n",
            "epoch:  33  loss:  53.24411\n",
            "epoch:  34  loss:  53.293377\n",
            "epoch:  35  loss:  52.87356\n",
            "epoch:  36  loss:  52.445007\n",
            "epoch:  37  loss:  52.127125\n",
            "epoch:  38  loss:  51.820118\n",
            "epoch:  39  loss:  51.957836\n",
            "epoch:  40  loss:  52.572117\n",
            "epoch:  41  loss:  53.89881\n",
            "epoch:  42  loss:  53.284668\n",
            "epoch:  43  loss:  52.259174\n",
            "epoch:  44  loss:  51.797832\n",
            "epoch:  45  loss:  51.445442\n",
            "epoch:  46  loss:  51.546345\n",
            "epoch:  47  loss:  51.428272\n",
            "epoch:  48  loss:  51.694206\n",
            "epoch:  49  loss:  51.351227\n"
          ]
        },
        {
          "ename": "KeyboardInterrupt",
          "evalue": "",
          "output_type": "error",
          "traceback": [
            "\u001b[31m---------------------------------------------------------------------------\u001b[39m",
            "\u001b[31mKeyboardInterrupt\u001b[39m                         Traceback (most recent call last)",
            "\u001b[36mCell\u001b[39m\u001b[36m \u001b[39m\u001b[32mIn[32]\u001b[39m\u001b[32m, line 3\u001b[39m\n\u001b[32m      1\u001b[39m vega = VEGA(latent_dims= mask_np.shape[\u001b[32m1\u001b[39m], input_dims = mask_np.shape[\u001b[32m0\u001b[39m], mask = mask_np.T, z_dropout = \u001b[32m0.5\u001b[39m, dropout = \u001b[32m0.3\u001b[39m).to(device)\n\u001b[32m      2\u001b[39m \u001b[38;5;66;03m# model training\u001b[39;00m\n\u001b[32m----> \u001b[39m\u001b[32m3\u001b[39m vega, vega_losses, vega_klds, vega_mses = \u001b[43mtrainVEGA\u001b[49m\u001b[43m(\u001b[49m\u001b[43mvega\u001b[49m\u001b[43m,\u001b[49m\u001b[43m \u001b[49m\u001b[43mpbmcX\u001b[49m\u001b[43m,\u001b[49m\u001b[43m \u001b[49m\u001b[43mepochs\u001b[49m\u001b[43m \u001b[49m\u001b[43m=\u001b[49m\u001b[43m \u001b[49m\u001b[32;43m100\u001b[39;49m\u001b[43m,\u001b[49m\u001b[43m \u001b[49m\u001b[43mbeta\u001b[49m\u001b[43m \u001b[49m\u001b[43m=\u001b[49m\u001b[43m \u001b[49m\u001b[32;43m0.0001\u001b[39;49m\u001b[43m)\u001b[49m \u001b[38;5;66;03m#takes about 2 mins on GPU\u001b[39;00m\n",
            "\u001b[36mCell\u001b[39m\u001b[36m \u001b[39m\u001b[32mIn[30]\u001b[39m\u001b[32m, line 16\u001b[39m, in \u001b[36mtrainVEGA\u001b[39m\u001b[34m(vae, data, epochs, beta, learning_rate)\u001b[39m\n\u001b[32m     13\u001b[39m mse_e = \u001b[32m0\u001b[39m\n\u001b[32m     15\u001b[39m \u001b[38;5;28;01mfor\u001b[39;00m x \u001b[38;5;129;01min\u001b[39;00m data:\n\u001b[32m---> \u001b[39m\u001b[32m16\u001b[39m     x = \u001b[43mx\u001b[49m\u001b[43m.\u001b[49m\u001b[43mto\u001b[49m\u001b[43m(\u001b[49m\u001b[43mdevice\u001b[49m\u001b[43m)\u001b[49m\n\u001b[32m     17\u001b[39m     opt.zero_grad()\n\u001b[32m     18\u001b[39m     x_hat = vae(x)\n",
            "\u001b[31mKeyboardInterrupt\u001b[39m: "
          ]
        }
      ],
      "source": [
        "vega = VEGA(latent_dims= mask_np.shape[1], input_dims = mask_np.shape[0], mask = mask_np.T, z_dropout = 0.5, dropout = 0.3).to(device)\n",
        "# model training\n",
        "vega, vega_losses, vega_klds, vega_mses = trainVEGA(vega, pbmcX, epochs = 100, beta = 0.0001) #takes about 2 mins on GPU"
      ]
    },
    {
      "cell_type": "code",
      "execution_count": null,
      "metadata": {
        "colab": {
          "background_save": true
        },
        "id": "yW5PkK1TVhsj"
      },
      "outputs": [],
      "source": [
        "vega.decoder.sparse_layer[0].weight.count_nonzero()"
      ]
    },
    {
      "cell_type": "code",
      "execution_count": null,
      "metadata": {
        "colab": {
          "background_save": true
        },
        "id": "zjjJRjtgVigl"
      },
      "outputs": [],
      "source": [
        "(vega.decoder.sparse_layer[0].weight > 0).sum()"
      ]
    },
    {
      "cell_type": "code",
      "execution_count": null,
      "metadata": {
        "colab": {
          "background_save": true
        },
        "id": "sKef_kgXWzvH"
      },
      "outputs": [],
      "source": [
        "(vega.decoder.sparse_layer[0].weight < 0).sum()"
      ]
    },
    {
      "cell_type": "code",
      "execution_count": null,
      "metadata": {
        "colab": {
          "background_save": true
        },
        "id": "hUcXoQZrI3RR"
      },
      "outputs": [],
      "source": [
        "plt.plot(vega_losses)"
      ]
    },
    {
      "cell_type": "code",
      "execution_count": null,
      "metadata": {
        "colab": {
          "background_save": true
        },
        "id": "o-tAWfAeI7zO"
      },
      "outputs": [],
      "source": [
        "# plot mse and kld\n",
        "plt.plot(vega_mses, label = \"MSE\")\n",
        "plt.plot(vega_klds, label = \"KLD\")\n",
        "plt.legend()"
      ]
    },
    {
      "cell_type": "code",
      "execution_count": null,
      "metadata": {
        "colab": {
          "background_save": true
        },
        "id": "a-YE9416JNFL"
      },
      "outputs": [],
      "source": [
        "# we can see that all decoder weights are positive:\n",
        "print(torch.sum(vega.state_dict()[\"decoder.sparse_layer.0.weight\"]<0)) # zero negative weights"
      ]
    },
    {
      "cell_type": "code",
      "execution_count": null,
      "metadata": {
        "colab": {
          "background_save": true
        },
        "id": "snZ17wEBJx3a"
      },
      "outputs": [],
      "source": [
        "def to_latent(vae, adata):\n",
        "        latent = []\n",
        "        data = torch.tensor(adata.X.toarray()).to(device)\n",
        "        vae.eval() # we need to set the model to evaluation mode, so that the dropout is no longer considered\n",
        "        z = vae.encoder(data)\n",
        "        latent += [z.to(\"cpu\")]\n",
        "        return torch.cat(latent).detach().numpy()"
      ]
    },
    {
      "cell_type": "code",
      "execution_count": null,
      "metadata": {
        "colab": {
          "background_save": true
        },
        "id": "hLmbBaTBJbUt"
      },
      "outputs": [],
      "source": [
        "pmbc_genes_subset.obsm[\"latent_embedding\"] = to_latent(vega, pmbc_genes_subset) # project the cells to the model's latent space\n",
        "\n",
        "# UMAP based on the latent embedding\n",
        "sc.pp.neighbors(pmbc_genes_subset, use_rep='latent_embedding', n_neighbors=15)\n",
        "\n",
        "sc.tl.umap(pmbc_genes_subset, random_state=1) #set random state to ensure reproducibility\n",
        "\n",
        "sc.pl.umap(pmbc_genes_subset, color=[\"cell_type\"], size=10, ncols = 1)"
      ]
    },
    {
      "cell_type": "code",
      "execution_count": null,
      "metadata": {
        "colab": {
          "background_save": true
        },
        "id": "waVkVKU_KuQP"
      },
      "outputs": [],
      "source": [
        "sc.pl.umap(pmbc_genes_subset, color=[\"condition\"], size=10, ncols = 1)"
      ]
    },
    {
      "cell_type": "code",
      "execution_count": null,
      "metadata": {
        "colab": {
          "background_save": true
        },
        "id": "cqju7j6jMqT5"
      },
      "outputs": [],
      "source": [
        "def plot_ranked_gene_weights(model: VEGA, adata,\n",
        "                        gmv,\n",
        "                        n_genes: int = 10):\n",
        "    \"\"\"\n",
        "    Plot gene members of input GMVs according to their magnitude.\n",
        "    \"\"\"\n",
        "    w = vega.state_dict()[\"decoder.sparse_layer.0.weight\"].to(\"cpu\")\n",
        "    gmv_names = list(adata.uns['_vega']['gmv_names'])\n",
        "    gene_names = adata.var.index.tolist()\n",
        "\n",
        "\n",
        "    # Get values\n",
        "    i = gmv_names.index(gmv)\n",
        "    w_i = w[:,i].detach().numpy()\n",
        "    sort_idx = np.argsort(w_i)[::-1]\n",
        "    sort_w = w_i[sort_idx][:n_genes]\n",
        "    genes = np.array(gene_names)[sort_idx][:n_genes]\n",
        "\n",
        "    # Set plot params\n",
        "    ymin = np.min(sort_w)\n",
        "    ymax = np.max(sort_w)\n",
        "    ymax += 0.3*(ymax - ymin)\n",
        "\n",
        "    # Plot\n",
        "    for ig, gene_name in enumerate(genes):\n",
        "        plt.text(\n",
        "            ig,\n",
        "            sort_w[ig],\n",
        "            gene_name,\n",
        "            rotation='vertical',\n",
        "            verticalalignment='bottom',\n",
        "            horizontalalignment='center',\n",
        "            color=\"black\"\n",
        "        )\n",
        "    plt.title(gmv)\n",
        "    plt.ylim(ymin, ymax)\n",
        "    plt.xlim(-0.9, n_genes - 0.1)\n",
        "    plt.xlabel('Ranking')\n",
        "    plt.ylabel('Weight magnitude')\n",
        "    plt.xticks(np.arange(0, n_genes, step=1), labels = np.arange(1, n_genes+1, step=1))\n",
        "\n",
        "    plt.show()\n",
        "\n",
        "plot_ranked_gene_weights(vega, gmv= \"STAT1\", adata = pmbc_genes_subset, n_genes = 20)"
      ]
    },
    {
      "cell_type": "code",
      "execution_count": null,
      "metadata": {
        "colab": {
          "background_save": true
        },
        "id": "Fi5XlUAnxr_B"
      },
      "outputs": [],
      "source": [
        "import pandas as pd\n",
        "\n",
        "def Dataframecombined_2(pbmc, trans, rep, nome):\n",
        "    mask = create_mask(pbmc).drop(\"target\").to_numpy()\n",
        "    print(\"mask done\")\n",
        "    # Estrai nome condizione (modifica se la chiave è diversa)\n",
        "    cond_name = nome\n",
        "\n",
        "    # Crea DataLoader\n",
        "    pbmcX = torch.utils.data.DataLoader(pbmc.X.toarray(), batch_size=128)\n",
        "\n",
        "    # DataFrame finale\n",
        "    dfs = pd.DataFrame(columns=['iteration', 'tf', 'gene', 'wei', 'cond'])\n",
        "\n",
        "    for i in range(rep):\n",
        "        if i % 2 == 0:\n",
        "            print(f\"Iteration: {i}\")\n",
        "\n",
        "        # Inizializza e addestra VEGA\n",
        "        vega = VEGA(latent_dims= mask.shape[1], input_dims = mask.shape[0], mask = mask.T, z_dropout = 0.5, dropout = 0.3).to(device)\n",
        "        # model training\n",
        "        vega, vega_losses, vega_klds, vega_mses = trainVEGA(vega, pbmcX, epochs = 100, beta = 0.0001) #takes about 2 mins on GPU\n",
        "        pbmc.obsm[\"latent_embedding\"] = to_latent(vega, pbmc) # project the cells to the model's latent space\n",
        "\n",
        "# UMAP based on the latent embedding\n",
        "        #sc.pp.neighbors(pbmc, use_rep='latent_embedding', n_neighbors=15)\n",
        "\n",
        "        #sc.tl.umap(pbmc, random_state=1) #set random state to ensure reproducibility\n",
        "\n",
        "        #sc.pl.umap(pbmc, color=[\"cell_type\"], size=10, ncols = 1)\n",
        "        #sc.pl.umap(pbmc, color=[\"condition\"], size=10, ncols = 1)\n",
        "        # Ottieni pesi\n",
        "        weights = vega.decoder.weights().detach().cpu().numpy()\n",
        "\n",
        "        # Assumi che tf_names e gmv_names siano disponibili\n",
        "        tf_names = pbmc.uns[\"_vega\"][\"gmv_names\"]\n",
        "        gene_names = pbmc.var_names\n",
        "\n",
        "        # Verifica le dimensioni\n",
        "        assert len(gene_names) == weights.shape[0], \"Mismatch tra numero geni e righe dei pesi\"\n",
        "        assert len(tf_names) == weights.shape[1], \"Mismatch tra numero TF e colonne dei pesi\"\n",
        "\n",
        "        # Costruzione delle righe\n",
        "        rows = [\n",
        "            {\n",
        "                'iteration': i,\n",
        "                'tf': tf_names[tf_idx],\n",
        "                'gene': gene_names[gene_idx],\n",
        "                'wei': weights[gene_idx][tf_idx],\n",
        "                'cond': cond_name\n",
        "            }\n",
        "            for gene_idx in range(len(gene_names))\n",
        "            for tf_idx in range(len(tf_names))\n",
        "        ]\n",
        "\n",
        "        df = pd.DataFrame(rows)\n",
        "        dfs = pd.concat([dfs, df], ignore_index=True)\n",
        "\n",
        "    return dfs"
      ]
    },
    {
      "cell_type": "code",
      "execution_count": null,
      "metadata": {
        "colab": {
          "background_save": true
        },
        "id": "KvH14qCqxsqc"
      },
      "outputs": [],
      "source": [
        "pmbc_control=pmbc_genes_subset[pmbc_genes_subset.obs[\"condition\"] == \"control\"]\n",
        "pmbc_stimulated=pmbc_genes_subset[pmbc_genes_subset.obs[\"condition\"] == \"stimulated\"]\n",
        "combined_df_c=Dataframecombined_2(pmbc_control,filtered_regulons, 20, \"control\")\n",
        "combined_df_s=Dataframecombined_2(pmbc_stimulated,filtered_regulons, 20, \"stimulated\")\n",
        "union=pd.concat([combined_df_c,combined_df_s])\n",
        "union"
      ]
    },
    {
      "cell_type": "code",
      "execution_count": null,
      "metadata": {
        "colab": {
          "background_save": true
        },
        "id": "MR0pC8TQ2BJV"
      },
      "outputs": [],
      "source": [
        "import seaborn as sns\n",
        "sns.boxplot(union, x=\"tf\", y=\"wei\", hue=\"cond\")"
      ]
    },
    {
      "cell_type": "code",
      "execution_count": null,
      "metadata": {
        "colab": {
          "background_save": true
        },
        "id": "2588vjwS6smG"
      },
      "outputs": [],
      "source": [
        "pl.from_pandas(union).write_csv(\"vega_weights.csv\", separator=\"\\t\")"
      ]
    }
  ],
  "metadata": {
    "accelerator": "TPU",
    "colab": {
      "gpuType": "V28",
      "provenance": [],
      "toc_visible": true
    },
    "kernelspec": {
      "display_name": ".venv",
      "language": "python",
      "name": "python3"
    },
    "language_info": {
      "codemirror_mode": {
        "name": "ipython",
        "version": 3
      },
      "file_extension": ".py",
      "mimetype": "text/x-python",
      "name": "python",
      "nbconvert_exporter": "python",
      "pygments_lexer": "ipython3",
      "version": "3.13.3"
    }
  },
  "nbformat": 4,
  "nbformat_minor": 0
}
