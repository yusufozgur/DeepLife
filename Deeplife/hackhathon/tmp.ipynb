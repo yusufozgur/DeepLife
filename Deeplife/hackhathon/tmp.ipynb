{
 "cells": [
  {
   "cell_type": "code",
   "execution_count": 2,
   "id": "a5399cc6",
   "metadata": {},
   "outputs": [],
   "source": [
    "import polars as pl"
   ]
  },
  {
   "cell_type": "code",
   "execution_count": 7,
   "id": "dd4d7163",
   "metadata": {},
   "outputs": [
    {
     "data": {
      "text/html": [
       "<div><style>\n",
       ".dataframe > thead > tr,\n",
       ".dataframe > tbody > tr {\n",
       "  text-align: right;\n",
       "  white-space: pre-wrap;\n",
       "}\n",
       "</style>\n",
       "<small>shape: (9, 5)</small><table border=\"1\" class=\"dataframe\"><thead><tr><th>statistic</th><th>target</th><th>tf</th><th>weight</th><th>iteration</th></tr><tr><td>str</td><td>str</td><td>str</td><td>f64</td><td>f64</td></tr></thead><tbody><tr><td>&quot;count&quot;</td><td>&quot;146010&quot;</td><td>&quot;146010&quot;</td><td>146010.0</td><td>146010.0</td></tr><tr><td>&quot;null_count&quot;</td><td>&quot;0&quot;</td><td>&quot;0&quot;</td><td>0.0</td><td>0.0</td></tr><tr><td>&quot;mean&quot;</td><td>null</td><td>null</td><td>0.000093</td><td>4.5</td></tr><tr><td>&quot;std&quot;</td><td>null</td><td>null</td><td>0.00793</td><td>2.872291</td></tr><tr><td>&quot;min&quot;</td><td>&quot;AATF&quot;</td><td>&quot;ADNP2&quot;</td><td>-0.36594</td><td>0.0</td></tr><tr><td>&quot;25%&quot;</td><td>null</td><td>null</td><td>-0.0</td><td>2.0</td></tr><tr><td>&quot;50%&quot;</td><td>null</td><td>null</td><td>-0.0</td><td>5.0</td></tr><tr><td>&quot;75%&quot;</td><td>null</td><td>null</td><td>-0.0</td><td>7.0</td></tr><tr><td>&quot;max&quot;</td><td>&quot;ZNF655&quot;</td><td>&quot;unannotated_1&quot;</td><td>0.174855</td><td>9.0</td></tr></tbody></table></div>"
      ],
      "text/plain": [
       "shape: (9, 5)\n",
       "┌────────────┬────────┬───────────────┬──────────┬───────────┐\n",
       "│ statistic  ┆ target ┆ tf            ┆ weight   ┆ iteration │\n",
       "│ ---        ┆ ---    ┆ ---           ┆ ---      ┆ ---       │\n",
       "│ str        ┆ str    ┆ str           ┆ f64      ┆ f64       │\n",
       "╞════════════╪════════╪═══════════════╪══════════╪═══════════╡\n",
       "│ count      ┆ 146010 ┆ 146010        ┆ 146010.0 ┆ 146010.0  │\n",
       "│ null_count ┆ 0      ┆ 0             ┆ 0.0      ┆ 0.0       │\n",
       "│ mean       ┆ null   ┆ null          ┆ 0.000093 ┆ 4.5       │\n",
       "│ std        ┆ null   ┆ null          ┆ 0.00793  ┆ 2.872291  │\n",
       "│ min        ┆ AATF   ┆ ADNP2         ┆ -0.36594 ┆ 0.0       │\n",
       "│ 25%        ┆ null   ┆ null          ┆ -0.0     ┆ 2.0       │\n",
       "│ 50%        ┆ null   ┆ null          ┆ -0.0     ┆ 5.0       │\n",
       "│ 75%        ┆ null   ┆ null          ┆ -0.0     ┆ 7.0       │\n",
       "│ max        ┆ ZNF655 ┆ unannotated_1 ┆ 0.174855 ┆ 9.0       │\n",
       "└────────────┴────────┴───────────────┴──────────┴───────────┘"
      ]
     },
     "execution_count": 7,
     "metadata": {},
     "output_type": "execute_result"
    }
   ],
   "source": [
    "pl.read_csv(\"/home/yusuf/Projects/PyTorch/Deeplife/hackhathon/save_model/vega/control_vega_all_weights_iterations.tsv\",\n",
    "            separator=\",\").describe()"
   ]
  }
 ],
 "metadata": {
  "kernelspec": {
   "display_name": ".venv",
   "language": "python",
   "name": "python3"
  },
  "language_info": {
   "codemirror_mode": {
    "name": "ipython",
    "version": 3
   },
   "file_extension": ".py",
   "mimetype": "text/x-python",
   "name": "python",
   "nbconvert_exporter": "python",
   "pygments_lexer": "ipython3",
   "version": "3.13.3"
  }
 },
 "nbformat": 4,
 "nbformat_minor": 5
}
