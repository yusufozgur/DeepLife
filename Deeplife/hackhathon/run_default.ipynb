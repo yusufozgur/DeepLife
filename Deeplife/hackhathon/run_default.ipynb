{
 "cells": [
  {
   "cell_type": "markdown",
   "id": "a78ab4c7",
   "metadata": {},
   "source": [
    "### Data"
   ]
  },
  {
   "cell_type": "code",
   "execution_count": null,
   "id": "33b993af",
   "metadata": {},
   "outputs": [
    {
     "name": "stdout",
     "output_type": "stream",
     "text": [
      "Printing mask:\n",
      "shape: (357, 16)\n",
      "┌─────────┬────────┬────────┬───────┬───┬───────┬──────┬──────┬───────────────┐\n",
      "│ target  ┆ STAT5A ┆ STAT5B ┆ STAT4 ┆ … ┆ STAT2 ┆ IRF7 ┆ IRF9 ┆ unannotated_1 │\n",
      "│ ---     ┆ ---    ┆ ---    ┆ ---   ┆   ┆ ---   ┆ ---  ┆ ---  ┆ ---           │\n",
      "│ str     ┆ f64    ┆ f64    ┆ f64   ┆   ┆ f64   ┆ f64  ┆ f64  ┆ i32           │\n",
      "╞═════════╪════════╪════════╪═══════╪═══╪═══════╪══════╪══════╪═══════════════╡\n",
      "│ IL2     ┆ 1.0    ┆ 1.0    ┆ 0.0   ┆ … ┆ 0.0   ┆ 0.0  ┆ 0.0  ┆ 1             │\n",
      "│ IRF1    ┆ 1.0    ┆ 1.0    ┆ 1.0   ┆ … ┆ 1.0   ┆ 0.0  ┆ 0.0  ┆ 1             │\n",
      "│ CCND1   ┆ 1.0    ┆ 1.0    ┆ 0.0   ┆ … ┆ 0.0   ┆ 0.0  ┆ 0.0  ┆ 1             │\n",
      "│ PRF1    ┆ 1.0    ┆ 1.0    ┆ 1.0   ┆ … ┆ 0.0   ┆ 0.0  ┆ 0.0  ┆ 1             │\n",
      "│ IFNG    ┆ 1.0    ┆ 1.0    ┆ 1.0   ┆ … ┆ 1.0   ┆ 0.0  ┆ 1.0  ┆ 1             │\n",
      "│ …       ┆ …      ┆ …      ┆ …     ┆ … ┆ …     ┆ …    ┆ …    ┆ …             │\n",
      "│ ZC3HAV1 ┆ 0.0    ┆ 0.0    ┆ 0.0   ┆ … ┆ 0.0   ┆ 0.0  ┆ 0.0  ┆ 1             │\n",
      "│ ZNF181  ┆ 0.0    ┆ 0.0    ┆ 0.0   ┆ … ┆ 0.0   ┆ 0.0  ┆ 0.0  ┆ 1             │\n",
      "│ ZNF230  ┆ 0.0    ┆ 0.0    ┆ 0.0   ┆ … ┆ 0.0   ┆ 0.0  ┆ 0.0  ┆ 1             │\n",
      "│ ZNF302  ┆ 0.0    ┆ 0.0    ┆ 0.0   ┆ … ┆ 0.0   ┆ 0.0  ┆ 0.0  ┆ 1             │\n",
      "│ ZNF655  ┆ 0.0    ┆ 0.0    ┆ 0.0   ┆ … ┆ 0.0   ┆ 0.0  ┆ 0.0  ┆ 1             │\n",
      "└─────────┴────────┴────────┴───────┴───┴───────┴──────┴──────┴───────────────┘\n",
      "\n",
      "Printing train:\n",
      "AnnData object with n_obs × n_vars = 13515 × 357\n",
      "    obs: 'condition', 'n_counts', 'n_genes', 'mt_frac', 'cell_type'\n",
      "    var: 'gene_symbol', 'n_cells'\n",
      "    uns: 'cell_type_colors', 'condition_colors', 'neighbors'\n",
      "    obsm: 'X_pca', 'X_tsne', 'X_umap'\n",
      "    obsp: 'connectivities', 'distances'\n",
      "\n",
      "Printing valid:\n",
      "AnnData object with n_obs × n_vars = 3378 × 357\n",
      "    obs: 'condition', 'n_counts', 'n_genes', 'mt_frac', 'cell_type'\n",
      "    var: 'gene_symbol', 'n_cells'\n",
      "    uns: 'cell_type_colors', 'condition_colors', 'neighbors'\n",
      "    obsm: 'X_pca', 'X_tsne', 'X_umap'\n",
      "    obsp: 'connectivities', 'distances'\n"
     ]
    }
   ],
   "source": [
    "from data_process_and_get_mask import create_mask\n",
    "from get_data import pbmc_train, pbmc_val\n",
    "\n",
    "tf_list = [\n",
    "    'IRF1', 'IRF2', 'IRF2BPL', 'IRF3', 'IRF4', 'IRF5', 'IRF6', 'IRF7', 'IRF8', 'IRF9', 'STAT1', 'STAT2', 'STAT3', 'STAT4', 'STAT5A','STAT5B', 'STAT6'\n",
    "]\n",
    "#[\"GTF2I\",\"GTF3A\",\"NRF1\",\"ELF1\",\"STAT1\",\"STAT2\",\"IRF9\",\"STAT3\",\"STAT4\",\"STAT5A\",\"STAT5B\",\"IRF3\",\"IRF7\",\"IRF1\",\"IRF5\",\"IRF8\"]\n",
    "\n",
    "mask, train, valid = create_mask(pbmc_train, pbmc_val, tf_list)\n",
    "print(\"Printing mask:\")\n",
    "print(mask)\n",
    "print(\"\\nPrinting train:\")\n",
    "print(train)\n",
    "print(\"\\nPrinting valid:\")\n",
    "print(valid)"
   ]
  },
  {
   "cell_type": "code",
   "execution_count": 12,
   "id": "420a46fe",
   "metadata": {},
   "outputs": [],
   "source": [
    "import torch\n",
    "from device import device\n",
    "#training loop\n",
    "def trainVEGA(vae, data, epochs=60, beta = 0.0001, learning_rate = 0.001):\n",
    "  #epochs 60 looked enough when we tried 100\n",
    "  data = torch.utils.data.DataLoader(data.X.toarray(), batch_size=128)\n",
    "  opt = torch.optim.Adam(vae.parameters(), lr = learning_rate, weight_decay = 5e-4)\n",
    "  vae.train() #train mode\n",
    "  losses = []\n",
    "  klds = []\n",
    "  mses = []\n",
    "\n",
    "  for epoch in range(epochs):\n",
    "      loss_e = 0\n",
    "      kld_e = 0\n",
    "      mse_e = 0\n",
    "\n",
    "      for x in data:\n",
    "          x = x.to(device)\n",
    "          opt.zero_grad()\n",
    "          x_hat = vae(x)\n",
    "          mse = ((x - x_hat)**2).sum()\n",
    "          kld = beta* vae.encoder.kl\n",
    "          loss = mse +  kld # loss calculation\n",
    "          loss.backward()\n",
    "          opt.step()\n",
    "          loss_e += loss.to('cpu').detach().numpy()\n",
    "          kld_e += kld.to('cpu').detach().numpy()\n",
    "          mse_e += mse.to('cpu').detach().numpy()\n",
    "          vae.decoder.weights() # this used to be positive_weights\n",
    "          vae.encoder.clamp_mu() # this used to be positive_weights\n",
    "\n",
    "      losses.append(loss_e/(len(data)*128))\n",
    "      klds.append(kld_e/(len(data)*128))\n",
    "      mses.append(mse_e/(len(data)*128))\n",
    "\n",
    "      print(\"epoch: \", epoch, \" loss: \", loss_e/(len(data)*128))\n",
    "\n",
    "  return vae, losses, klds, mses"
   ]
  },
  {
   "cell_type": "code",
   "execution_count": 21,
   "id": "cd42900c",
   "metadata": {},
   "outputs": [],
   "source": [
    "from model.vega import VEGA\n",
    "from model.decoder_default import DecoderVEGA\n",
    "from model.encoder_with_mu_clamp import Encoder\n",
    "\n",
    "mask_np = mask.drop(\"target\").to_numpy()\n",
    "\n",
    "latent_dims= mask_np.shape[1]\n",
    "input_dims = mask_np.shape[0]\n",
    "dropout = 0.3\n",
    "z_dropout = 0.5\n",
    "vega = VEGA(\n",
    "    encoder=Encoder(latent_dims, input_dims, dropout, z_dropout),\n",
    "    decoder=DecoderVEGA(mask_np.T)\n",
    "    ).to(device)"
   ]
  },
  {
   "cell_type": "code",
   "execution_count": 22,
   "id": "8a518338",
   "metadata": {},
   "outputs": [
    {
     "name": "stdout",
     "output_type": "stream",
     "text": [
      "epoch:  0  loss:  83.86034\n",
      "epoch:  1  loss:  62.688946\n",
      "epoch:  2  loss:  50.798916\n",
      "epoch:  3  loss:  47.324947\n",
      "epoch:  4  loss:  44.367134\n",
      "epoch:  5  loss:  42.468143\n",
      "epoch:  6  loss:  41.829674\n",
      "epoch:  7  loss:  41.599037\n",
      "epoch:  8  loss:  40.101185\n",
      "epoch:  9  loss:  39.86486\n",
      "epoch:  10  loss:  40.877087\n",
      "epoch:  11  loss:  40.34149\n",
      "epoch:  12  loss:  40.60262\n",
      "epoch:  13  loss:  39.786972\n",
      "epoch:  14  loss:  37.985283\n",
      "epoch:  15  loss:  37.17095\n",
      "epoch:  16  loss:  37.727222\n",
      "epoch:  17  loss:  36.522495\n",
      "epoch:  18  loss:  36.338856\n",
      "epoch:  19  loss:  37.105186\n"
     ]
    }
   ],
   "source": [
    "# model training\n",
    "vega, vega_losses, vega_klds, vega_mses = trainVEGA(vega, train, epochs = 20, beta = 0.0001) #takes about 2 mins on GPU # epoch 100"
   ]
  },
  {
   "cell_type": "code",
   "execution_count": null,
   "id": "0cf550af",
   "metadata": {},
   "outputs": [],
   "source": []
  }
 ],
 "metadata": {
  "kernelspec": {
   "display_name": ".venv",
   "language": "python",
   "name": "python3"
  },
  "language_info": {
   "codemirror_mode": {
    "name": "ipython",
    "version": 3
   },
   "file_extension": ".py",
   "mimetype": "text/x-python",
   "name": "python",
   "nbconvert_exporter": "python",
   "pygments_lexer": "ipython3",
   "version": "3.13.2"
  }
 },
 "nbformat": 4,
 "nbformat_minor": 5
}
