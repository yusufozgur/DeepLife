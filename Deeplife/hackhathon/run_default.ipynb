{
 "cells": [
  {
   "cell_type": "markdown",
   "id": "ff0845d0",
   "metadata": {},
   "source": [
    "needed to reload modules, otherwise you will have nan errors"
   ]
  },
  {
   "cell_type": "code",
   "execution_count": 1,
   "id": "5c83b151",
   "metadata": {},
   "outputs": [],
   "source": [
    "#%load_ext autoreload\n",
    "#%autoreload 2"
   ]
  },
  {
   "cell_type": "markdown",
   "id": "a78ab4c7",
   "metadata": {},
   "source": [
    "### Data"
   ]
  },
  {
   "cell_type": "code",
   "execution_count": 2,
   "id": "33b993af",
   "metadata": {},
   "outputs": [
    {
     "name": "stdout",
     "output_type": "stream",
     "text": [
      "Printing mask:\n",
      "shape: (471, 32)\n",
      "┌────────┬────────┬────────┬───────┬───┬────────┬───────┬───────┬───────────────┐\n",
      "│ target ┆ STAT5A ┆ STAT5B ┆ STAT4 ┆ … ┆ ARID1A ┆ ADNP2 ┆ APBB1 ┆ unannotated_1 │\n",
      "│ ---    ┆ ---    ┆ ---    ┆ ---   ┆   ┆ ---    ┆ ---   ┆ ---   ┆ ---           │\n",
      "│ str    ┆ f64    ┆ f64    ┆ f64   ┆   ┆ f64    ┆ f64   ┆ f64   ┆ i32           │\n",
      "╞════════╪════════╪════════╪═══════╪═══╪════════╪═══════╪═══════╪═══════════════╡\n",
      "│ IL2    ┆ 1.0    ┆ 1.0    ┆ 0.0   ┆ … ┆ 0.0    ┆ 0.0   ┆ 0.0   ┆ 1             │\n",
      "│ IRF1   ┆ 1.0    ┆ 1.0    ┆ 1.0   ┆ … ┆ 0.0    ┆ 0.0   ┆ 0.0   ┆ 1             │\n",
      "│ CCND1  ┆ 1.0    ┆ 1.0    ┆ 0.0   ┆ … ┆ 0.0    ┆ 0.0   ┆ 0.0   ┆ 1             │\n",
      "│ PRF1   ┆ 1.0    ┆ 1.0    ┆ 1.0   ┆ … ┆ 0.0    ┆ 0.0   ┆ 0.0   ┆ 1             │\n",
      "│ IFNG   ┆ 1.0    ┆ 1.0    ┆ 1.0   ┆ … ┆ 0.0    ┆ 0.0   ┆ 0.0   ┆ 1             │\n",
      "│ …      ┆ …      ┆ …      ┆ …     ┆ … ┆ …      ┆ …     ┆ …     ┆ …             │\n",
      "│ ZNF181 ┆ 0.0    ┆ 0.0    ┆ 0.0   ┆ … ┆ 0.0    ┆ 0.0   ┆ 0.0   ┆ 1             │\n",
      "│ ZNF230 ┆ 0.0    ┆ 0.0    ┆ 0.0   ┆ … ┆ 0.0    ┆ 0.0   ┆ 0.0   ┆ 1             │\n",
      "│ ZNF302 ┆ 0.0    ┆ 0.0    ┆ 0.0   ┆ … ┆ 0.0    ┆ 0.0   ┆ 0.0   ┆ 1             │\n",
      "│ ZNF655 ┆ 0.0    ┆ 0.0    ┆ 0.0   ┆ … ┆ 0.0    ┆ 0.0   ┆ 0.0   ┆ 1             │\n",
      "│ PRR5L  ┆ 0.0    ┆ 0.0    ┆ 0.0   ┆ … ┆ 0.0    ┆ 0.0   ┆ 0.0   ┆ 1             │\n",
      "└────────┴────────┴────────┴───────┴───┴────────┴───────┴───────┴───────────────┘\n",
      "\n",
      "Printing train:\n",
      "AnnData object with n_obs × n_vars = 13515 × 471\n",
      "    obs: 'condition', 'n_counts', 'n_genes', 'mt_frac', 'cell_type'\n",
      "    var: 'gene_symbol', 'n_cells'\n",
      "    uns: 'cell_type_colors', 'condition_colors', 'neighbors'\n",
      "    obsm: 'X_pca', 'X_tsne', 'X_umap'\n",
      "    obsp: 'connectivities', 'distances'\n",
      "\n",
      "Printing valid:\n",
      "AnnData object with n_obs × n_vars = 3378 × 471\n",
      "    obs: 'condition', 'n_counts', 'n_genes', 'mt_frac', 'cell_type'\n",
      "    var: 'gene_symbol', 'n_cells'\n",
      "    uns: 'cell_type_colors', 'condition_colors', 'neighbors'\n",
      "    obsm: 'X_pca', 'X_tsne', 'X_umap'\n",
      "    obsp: 'connectivities', 'distances'\n"
     ]
    }
   ],
   "source": [
    "from data_process_and_get_mask import create_mask\n",
    "from get_data import pbmc_train, pbmc_val\n",
    "\n",
    "tf_list = ['IRF1', 'IRF2', 'IRF2BPL', 'IRF3', 'IRF4', 'IRF5', 'IRF6', 'IRF7',\n",
    "       'IRF8', 'IRF9', 'STAT1', 'STAT2', 'STAT3', 'STAT4', 'STAT5A',\n",
    "       'STAT5B','STAT6','GTF2I','RUNX1', 'MYOD1', 'SOX2','KLF4', 'THAP11','ADNP2', 'AEBP1','AHRR', 'ALX4','APBB1','APEX1', 'ARHGAP35','ARID1A']\n",
    "\n",
    "#['IRF1', 'IRF2', 'IRF2BPL', 'IRF3', 'IRF4', 'IRF5', 'IRF6', 'IRF7', 'IRF8', 'IRF9', 'STAT1', 'STAT2', 'STAT3', 'STAT4', 'STAT5A','STAT5B', 'STAT6']\n",
    "#[\"GTF2I\",\"GTF3A\",\"NRF1\",\"ELF1\",\"STAT1\",\"STAT2\",\"IRF9\",\"STAT3\",\"STAT4\",\"STAT5A\",\"STAT5B\",\"IRF3\",\"IRF7\",\"IRF1\",\"IRF5\",\"IRF8\"]\n",
    "\n",
    "mask, train, valid = create_mask(pbmc_train, pbmc_val, tf_list)\n",
    "print(\"Printing mask:\")\n",
    "print(mask)\n",
    "print(\"\\nPrinting train:\")\n",
    "print(train)\n",
    "print(\"\\nPrinting valid:\")\n",
    "print(valid)"
   ]
  },
  {
   "cell_type": "code",
   "execution_count": null,
   "id": "cd42900c",
   "metadata": {},
   "outputs": [],
   "source": []
  },
  {
   "cell_type": "code",
   "execution_count": 3,
   "id": "8a518338",
   "metadata": {},
   "outputs": [],
   "source": [
    "# model training\n",
    "#vega, vega_losses, vega_klds, vega_mses = trainVEGA(vega, train, epochs = 20, beta = 0.0001) #takes about 2 mins on GPU # epoch 100"
   ]
  },
  {
   "cell_type": "markdown",
   "id": "0cf550af",
   "metadata": {},
   "source": [
    "now use the common training functions"
   ]
  },
  {
   "cell_type": "code",
   "execution_count": 4,
   "id": "900ae080",
   "metadata": {},
   "outputs": [
    {
     "data": {
      "text/html": [
       "<div><style>\n",
       ".dataframe > thead > tr,\n",
       ".dataframe > tbody > tr {\n",
       "  text-align: right;\n",
       "  white-space: pre-wrap;\n",
       "}\n",
       "</style>\n",
       "<small>shape: (471, 32)</small><table border=\"1\" class=\"dataframe\"><thead><tr><th>target</th><th>STAT5A</th><th>STAT5B</th><th>STAT4</th><th>IRF1</th><th>STAT3</th><th>RUNX1</th><th>GTF2I</th><th>IRF2</th><th>STAT1</th><th>IRF8</th><th>STAT6</th><th>APEX1</th><th>IRF4</th><th>MYOD1</th><th>ARHGAP35</th><th>IRF3</th><th>IRF5</th><th>ALX4</th><th>STAT2</th><th>IRF7</th><th>KLF4</th><th>IRF9</th><th>AHRR</th><th>AEBP1</th><th>SOX2</th><th>THAP11</th><th>IRF6</th><th>ARID1A</th><th>ADNP2</th><th>APBB1</th><th>unannotated_1</th></tr><tr><td>str</td><td>f64</td><td>f64</td><td>f64</td><td>f64</td><td>f64</td><td>f64</td><td>f64</td><td>f64</td><td>f64</td><td>f64</td><td>f64</td><td>f64</td><td>f64</td><td>f64</td><td>f64</td><td>f64</td><td>f64</td><td>f64</td><td>f64</td><td>f64</td><td>f64</td><td>f64</td><td>f64</td><td>f64</td><td>f64</td><td>f64</td><td>f64</td><td>f64</td><td>f64</td><td>f64</td><td>i32</td></tr></thead><tbody><tr><td>&quot;IL2&quot;</td><td>1.0</td><td>1.0</td><td>0.0</td><td>0.0</td><td>1.0</td><td>1.0</td><td>0.0</td><td>0.0</td><td>0.0</td><td>0.0</td><td>0.0</td><td>0.0</td><td>1.0</td><td>0.0</td><td>0.0</td><td>0.0</td><td>0.0</td><td>0.0</td><td>0.0</td><td>0.0</td><td>0.0</td><td>0.0</td><td>0.0</td><td>0.0</td><td>0.0</td><td>0.0</td><td>0.0</td><td>0.0</td><td>0.0</td><td>0.0</td><td>1</td></tr><tr><td>&quot;IRF1&quot;</td><td>1.0</td><td>1.0</td><td>1.0</td><td>1.0</td><td>1.0</td><td>0.0</td><td>0.0</td><td>1.0</td><td>1.0</td><td>1.0</td><td>1.0</td><td>0.0</td><td>1.0</td><td>0.0</td><td>0.0</td><td>1.0</td><td>0.0</td><td>0.0</td><td>1.0</td><td>0.0</td><td>0.0</td><td>0.0</td><td>0.0</td><td>0.0</td><td>0.0</td><td>0.0</td><td>0.0</td><td>0.0</td><td>0.0</td><td>0.0</td><td>1</td></tr><tr><td>&quot;CCND1&quot;</td><td>1.0</td><td>1.0</td><td>0.0</td><td>1.0</td><td>1.0</td><td>0.0</td><td>1.0</td><td>0.0</td><td>1.0</td><td>0.0</td><td>0.0</td><td>0.0</td><td>0.0</td><td>1.0</td><td>0.0</td><td>0.0</td><td>0.0</td><td>0.0</td><td>0.0</td><td>0.0</td><td>1.0</td><td>0.0</td><td>0.0</td><td>0.0</td><td>1.0</td><td>1.0</td><td>0.0</td><td>0.0</td><td>0.0</td><td>0.0</td><td>1</td></tr><tr><td>&quot;PRF1&quot;</td><td>1.0</td><td>1.0</td><td>1.0</td><td>0.0</td><td>1.0</td><td>0.0</td><td>0.0</td><td>0.0</td><td>1.0</td><td>0.0</td><td>0.0</td><td>0.0</td><td>0.0</td><td>0.0</td><td>0.0</td><td>0.0</td><td>0.0</td><td>0.0</td><td>0.0</td><td>0.0</td><td>0.0</td><td>0.0</td><td>0.0</td><td>0.0</td><td>0.0</td><td>0.0</td><td>0.0</td><td>0.0</td><td>0.0</td><td>0.0</td><td>1</td></tr><tr><td>&quot;IFNG&quot;</td><td>1.0</td><td>1.0</td><td>1.0</td><td>1.0</td><td>1.0</td><td>1.0</td><td>0.0</td><td>1.0</td><td>1.0</td><td>1.0</td><td>1.0</td><td>0.0</td><td>1.0</td><td>0.0</td><td>0.0</td><td>1.0</td><td>1.0</td><td>0.0</td><td>1.0</td><td>0.0</td><td>0.0</td><td>1.0</td><td>0.0</td><td>0.0</td><td>0.0</td><td>0.0</td><td>0.0</td><td>0.0</td><td>0.0</td><td>0.0</td><td>1</td></tr><tr><td>&hellip;</td><td>&hellip;</td><td>&hellip;</td><td>&hellip;</td><td>&hellip;</td><td>&hellip;</td><td>&hellip;</td><td>&hellip;</td><td>&hellip;</td><td>&hellip;</td><td>&hellip;</td><td>&hellip;</td><td>&hellip;</td><td>&hellip;</td><td>&hellip;</td><td>&hellip;</td><td>&hellip;</td><td>&hellip;</td><td>&hellip;</td><td>&hellip;</td><td>&hellip;</td><td>&hellip;</td><td>&hellip;</td><td>&hellip;</td><td>&hellip;</td><td>&hellip;</td><td>&hellip;</td><td>&hellip;</td><td>&hellip;</td><td>&hellip;</td><td>&hellip;</td><td>&hellip;</td></tr><tr><td>&quot;ZNF181&quot;</td><td>0.0</td><td>0.0</td><td>0.0</td><td>0.0</td><td>0.0</td><td>0.0</td><td>0.0</td><td>0.0</td><td>1.0</td><td>0.0</td><td>0.0</td><td>0.0</td><td>0.0</td><td>0.0</td><td>0.0</td><td>0.0</td><td>0.0</td><td>0.0</td><td>0.0</td><td>0.0</td><td>0.0</td><td>0.0</td><td>0.0</td><td>0.0</td><td>0.0</td><td>0.0</td><td>0.0</td><td>0.0</td><td>0.0</td><td>0.0</td><td>1</td></tr><tr><td>&quot;ZNF230&quot;</td><td>0.0</td><td>0.0</td><td>0.0</td><td>0.0</td><td>0.0</td><td>0.0</td><td>0.0</td><td>0.0</td><td>1.0</td><td>0.0</td><td>0.0</td><td>0.0</td><td>0.0</td><td>0.0</td><td>0.0</td><td>0.0</td><td>0.0</td><td>0.0</td><td>0.0</td><td>0.0</td><td>0.0</td><td>0.0</td><td>0.0</td><td>0.0</td><td>0.0</td><td>0.0</td><td>0.0</td><td>0.0</td><td>0.0</td><td>0.0</td><td>1</td></tr><tr><td>&quot;ZNF302&quot;</td><td>0.0</td><td>0.0</td><td>0.0</td><td>0.0</td><td>0.0</td><td>0.0</td><td>0.0</td><td>0.0</td><td>1.0</td><td>0.0</td><td>0.0</td><td>0.0</td><td>0.0</td><td>0.0</td><td>0.0</td><td>0.0</td><td>0.0</td><td>0.0</td><td>0.0</td><td>0.0</td><td>0.0</td><td>0.0</td><td>0.0</td><td>0.0</td><td>0.0</td><td>0.0</td><td>0.0</td><td>0.0</td><td>0.0</td><td>0.0</td><td>1</td></tr><tr><td>&quot;ZNF655&quot;</td><td>0.0</td><td>0.0</td><td>0.0</td><td>0.0</td><td>0.0</td><td>0.0</td><td>0.0</td><td>0.0</td><td>1.0</td><td>0.0</td><td>0.0</td><td>0.0</td><td>0.0</td><td>0.0</td><td>0.0</td><td>0.0</td><td>0.0</td><td>0.0</td><td>0.0</td><td>0.0</td><td>0.0</td><td>0.0</td><td>0.0</td><td>0.0</td><td>0.0</td><td>0.0</td><td>0.0</td><td>0.0</td><td>0.0</td><td>0.0</td><td>1</td></tr><tr><td>&quot;PRR5L&quot;</td><td>0.0</td><td>0.0</td><td>0.0</td><td>0.0</td><td>0.0</td><td>1.0</td><td>0.0</td><td>0.0</td><td>0.0</td><td>0.0</td><td>0.0</td><td>0.0</td><td>0.0</td><td>0.0</td><td>0.0</td><td>0.0</td><td>0.0</td><td>0.0</td><td>0.0</td><td>0.0</td><td>0.0</td><td>0.0</td><td>0.0</td><td>0.0</td><td>0.0</td><td>0.0</td><td>0.0</td><td>0.0</td><td>0.0</td><td>0.0</td><td>1</td></tr></tbody></table></div>"
      ],
      "text/plain": [
       "shape: (471, 32)\n",
       "┌────────┬────────┬────────┬───────┬───┬────────┬───────┬───────┬───────────────┐\n",
       "│ target ┆ STAT5A ┆ STAT5B ┆ STAT4 ┆ … ┆ ARID1A ┆ ADNP2 ┆ APBB1 ┆ unannotated_1 │\n",
       "│ ---    ┆ ---    ┆ ---    ┆ ---   ┆   ┆ ---    ┆ ---   ┆ ---   ┆ ---           │\n",
       "│ str    ┆ f64    ┆ f64    ┆ f64   ┆   ┆ f64    ┆ f64   ┆ f64   ┆ i32           │\n",
       "╞════════╪════════╪════════╪═══════╪═══╪════════╪═══════╪═══════╪═══════════════╡\n",
       "│ IL2    ┆ 1.0    ┆ 1.0    ┆ 0.0   ┆ … ┆ 0.0    ┆ 0.0   ┆ 0.0   ┆ 1             │\n",
       "│ IRF1   ┆ 1.0    ┆ 1.0    ┆ 1.0   ┆ … ┆ 0.0    ┆ 0.0   ┆ 0.0   ┆ 1             │\n",
       "│ CCND1  ┆ 1.0    ┆ 1.0    ┆ 0.0   ┆ … ┆ 0.0    ┆ 0.0   ┆ 0.0   ┆ 1             │\n",
       "│ PRF1   ┆ 1.0    ┆ 1.0    ┆ 1.0   ┆ … ┆ 0.0    ┆ 0.0   ┆ 0.0   ┆ 1             │\n",
       "│ IFNG   ┆ 1.0    ┆ 1.0    ┆ 1.0   ┆ … ┆ 0.0    ┆ 0.0   ┆ 0.0   ┆ 1             │\n",
       "│ …      ┆ …      ┆ …      ┆ …     ┆ … ┆ …      ┆ …     ┆ …     ┆ …             │\n",
       "│ ZNF181 ┆ 0.0    ┆ 0.0    ┆ 0.0   ┆ … ┆ 0.0    ┆ 0.0   ┆ 0.0   ┆ 1             │\n",
       "│ ZNF230 ┆ 0.0    ┆ 0.0    ┆ 0.0   ┆ … ┆ 0.0    ┆ 0.0   ┆ 0.0   ┆ 1             │\n",
       "│ ZNF302 ┆ 0.0    ┆ 0.0    ┆ 0.0   ┆ … ┆ 0.0    ┆ 0.0   ┆ 0.0   ┆ 1             │\n",
       "│ ZNF655 ┆ 0.0    ┆ 0.0    ┆ 0.0   ┆ … ┆ 0.0    ┆ 0.0   ┆ 0.0   ┆ 1             │\n",
       "│ PRR5L  ┆ 0.0    ┆ 0.0    ┆ 0.0   ┆ … ┆ 0.0    ┆ 0.0   ┆ 0.0   ┆ 1             │\n",
       "└────────┴────────┴────────┴───────┴───┴────────┴───────┴───────┴───────────────┘"
      ]
     },
     "execution_count": 4,
     "metadata": {},
     "output_type": "execute_result"
    }
   ],
   "source": [
    "mask"
   ]
  },
  {
   "cell_type": "code",
   "execution_count": 5,
   "id": "ede11dba",
   "metadata": {},
   "outputs": [],
   "source": [
    "#from training.training import run_vega_model\n",
    "#run_vega_model(\n",
    "#    model_type=\"vega\",\n",
    "#    train_data=train,\n",
    "#    valid_data=valid,\n",
    "#    mask_df=mask,\n",
    "#    epochs=30,\n",
    "#    N=10\n",
    "#)"
   ]
  },
  {
   "cell_type": "markdown",
   "id": "cfc75a7e",
   "metadata": {},
   "source": [
    "bayes"
   ]
  },
  {
   "cell_type": "code",
   "execution_count": null,
   "id": "80edee9c",
   "metadata": {},
   "outputs": [],
   "source": []
  },
  {
   "cell_type": "code",
   "execution_count": 6,
   "id": "8898fe42",
   "metadata": {},
   "outputs": [
    {
     "name": "stdout",
     "output_type": "stream",
     "text": [
      "epoch:  0  train_loss:  93.65196   valid_loss:  71.929726\n",
      "epoch:  10  train_loss:  51.207146   valid_loss:  38.871284\n",
      "epoch:  20  train_loss:  45.961964   valid_loss:  36.034492\n",
      "epoch:  0  train_loss:  93.110146   valid_loss:  71.604774\n",
      "epoch:  10  train_loss:  50.837154   valid_loss:  38.35185\n",
      "epoch:  20  train_loss:  45.810917   valid_loss:  36.29114\n",
      "epoch:  0  train_loss:  94.50183   valid_loss:  73.312515\n",
      "epoch:  10  train_loss:  51.29058   valid_loss:  39.29935\n",
      "epoch:  20  train_loss:  46.02352   valid_loss:  36.22412\n",
      "epoch:  0  train_loss:  94.5676   valid_loss:  74.014275\n",
      "epoch:  10  train_loss:  50.956654   valid_loss:  39.86448\n",
      "epoch:  20  train_loss:  46.013603   valid_loss:  35.826496\n",
      "epoch:  0  train_loss:  93.69887   valid_loss:  69.334595\n",
      "epoch:  10  train_loss:  51.067204   valid_loss:  38.698273\n",
      "epoch:  20  train_loss:  46.000305   valid_loss:  36.84873\n",
      "epoch:  0  train_loss:  94.69654   valid_loss:  72.91773\n",
      "epoch:  10  train_loss:  51.477207   valid_loss:  38.835526\n",
      "epoch:  20  train_loss:  46.02576   valid_loss:  35.52172\n",
      "epoch:  0  train_loss:  93.755554   valid_loss:  71.49947\n",
      "epoch:  10  train_loss:  51.287605   valid_loss:  39.356976\n",
      "epoch:  20  train_loss:  46.038044   valid_loss:  36.411808\n",
      "epoch:  0  train_loss:  93.32196   valid_loss:  70.38698\n",
      "epoch:  10  train_loss:  50.997063   valid_loss:  39.473392\n",
      "epoch:  20  train_loss:  46.158497   valid_loss:  36.525406\n",
      "epoch:  0  train_loss:  95.51336   valid_loss:  72.70372\n",
      "epoch:  10  train_loss:  51.074066   valid_loss:  39.09763\n",
      "epoch:  20  train_loss:  46.0807   valid_loss:  36.04913\n",
      "epoch:  0  train_loss:  91.21008   valid_loss:  68.72548\n",
      "epoch:  10  train_loss:  50.768085   valid_loss:  38.512867\n",
      "epoch:  20  train_loss:  46.0029   valid_loss:  36.223297\n"
     ]
    },
    {
     "data": {
      "text/plain": [
       "(VEGA(\n",
       "   (decoder): DecoderBayes(\n",
       "     (sparse_layer): BayesianSparseLayer()\n",
       "   )\n",
       "   (encoder): Encoder(\n",
       "     (encoder): Sequential(\n",
       "       (0): Linear(in_features=471, out_features=800, bias=True)\n",
       "       (1): ReLU()\n",
       "       (2): Dropout(p=0.3, inplace=False)\n",
       "       (3): Linear(in_features=800, out_features=800, bias=True)\n",
       "       (4): ReLU()\n",
       "       (5): Dropout(p=0.3, inplace=False)\n",
       "     )\n",
       "     (mu): Sequential(\n",
       "       (0): Linear(in_features=800, out_features=31, bias=True)\n",
       "       (1): Dropout(p=0.5, inplace=False)\n",
       "     )\n",
       "     (sigma): Sequential(\n",
       "       (0): Linear(in_features=800, out_features=31, bias=True)\n",
       "       (1): Dropout(p=0.5, inplace=False)\n",
       "     )\n",
       "   )\n",
       " ),\n",
       "           STAT5A    STAT5B     STAT4      IRF1     STAT3     RUNX1     GTF2I  \\\n",
       " IL2     0.000336 -0.000427  0.000000  0.000000  0.001085 -0.001001  0.000000   \n",
       " IRF1   -0.004470  0.002973  0.000031  0.002583 -0.007155  0.000000  0.000000   \n",
       " CCND1  -0.002153  0.000368  0.000000 -0.000956 -0.001332  0.000000  0.002277   \n",
       " PRF1   -0.007564 -0.001889  0.005664  0.000000 -0.018455  0.000000  0.000000   \n",
       " IFNG   -0.000983 -0.002167  0.001160 -0.002108 -0.001699 -0.002341  0.000000   \n",
       " ...          ...       ...       ...       ...       ...       ...       ...   \n",
       " ZNF181  0.000000  0.000000  0.000000  0.000000  0.000000  0.000000  0.000000   \n",
       " ZNF230  0.000000  0.000000  0.000000  0.000000  0.000000  0.000000  0.000000   \n",
       " ZNF302  0.000000  0.000000  0.000000  0.000000  0.000000  0.000000  0.000000   \n",
       " ZNF655  0.000000  0.000000  0.000000  0.000000  0.000000  0.000000  0.000000   \n",
       " PRR5L   0.000000  0.000000  0.000000  0.000000  0.000000 -0.000434  0.000000   \n",
       " \n",
       "             IRF2     STAT1      IRF8  ...      IRF9  AHRR  AEBP1      SOX2  \\\n",
       " IL2     0.000000  0.000000  0.000000  ...  0.000000   0.0    0.0  0.000000   \n",
       " IRF1    0.005362  0.006033 -0.002202  ...  0.000000   0.0    0.0  0.000000   \n",
       " CCND1   0.000000 -0.000712  0.000000  ...  0.000000   0.0    0.0 -0.001482   \n",
       " PRF1    0.000000  0.010007  0.000000  ...  0.000000   0.0    0.0  0.000000   \n",
       " IFNG   -0.001165  0.000190 -0.002577  ... -0.000349   0.0    0.0  0.000000   \n",
       " ...          ...       ...       ...  ...       ...   ...    ...       ...   \n",
       " ZNF181  0.000000 -0.001669  0.000000  ...  0.000000   0.0    0.0  0.000000   \n",
       " ZNF230  0.000000  0.001587  0.000000  ...  0.000000   0.0    0.0  0.000000   \n",
       " ZNF302  0.000000  0.000036  0.000000  ...  0.000000   0.0    0.0  0.000000   \n",
       " ZNF655  0.000000 -0.001512  0.000000  ...  0.000000   0.0    0.0  0.000000   \n",
       " PRR5L   0.000000  0.000000  0.000000  ...  0.000000   0.0    0.0  0.000000   \n",
       " \n",
       "          THAP11  IRF6  ARID1A  ADNP2  APBB1  unannotated_1  \n",
       " IL2     0.00000   0.0     0.0    0.0    0.0       0.000721  \n",
       " IRF1    0.00000   0.0     0.0    0.0    0.0      -0.001310  \n",
       " CCND1   0.00075   0.0     0.0    0.0    0.0      -0.000768  \n",
       " PRF1    0.00000   0.0     0.0    0.0    0.0      -0.001625  \n",
       " IFNG    0.00000   0.0     0.0    0.0    0.0      -0.001415  \n",
       " ...         ...   ...     ...    ...    ...            ...  \n",
       " ZNF181  0.00000   0.0     0.0    0.0    0.0      -0.003762  \n",
       " ZNF230  0.00000   0.0     0.0    0.0    0.0      -0.000764  \n",
       " ZNF302  0.00000   0.0     0.0    0.0    0.0      -0.002276  \n",
       " ZNF655  0.00000   0.0     0.0    0.0    0.0      -0.001329  \n",
       " PRR5L   0.00000   0.0     0.0    0.0    0.0      -0.000691  \n",
       " \n",
       " [471 rows x 31 columns],\n",
       "           STAT5A    STAT5B     STAT4      IRF1     STAT3     RUNX1     GTF2I  \\\n",
       " IL2     0.005076  0.003959  0.000000  0.000000  0.004789  0.002823  0.000000   \n",
       " IRF1    0.005478  0.005281  0.009095  0.004716  0.004078  0.000000  0.000000   \n",
       " CCND1   0.004105  0.005401  0.000000  0.004483  0.003618  0.000000  0.005226   \n",
       " PRF1    0.011475  0.004612  0.017398  0.000000  0.012975  0.000000  0.000000   \n",
       " IFNG    0.005460  0.004161  0.002976  0.003246  0.003460  0.004618  0.000000   \n",
       " ...          ...       ...       ...       ...       ...       ...       ...   \n",
       " ZNF181  0.000000  0.000000  0.000000  0.000000  0.000000  0.000000  0.000000   \n",
       " ZNF230  0.000000  0.000000  0.000000  0.000000  0.000000  0.000000  0.000000   \n",
       " ZNF302  0.000000  0.000000  0.000000  0.000000  0.000000  0.000000  0.000000   \n",
       " ZNF655  0.000000  0.000000  0.000000  0.000000  0.000000  0.000000  0.000000   \n",
       " PRR5L   0.000000  0.000000  0.000000  0.000000  0.000000  0.003276  0.000000   \n",
       " \n",
       "             IRF2     STAT1      IRF8  ...      IRF9  AHRR  AEBP1      SOX2  \\\n",
       " IL2     0.000000  0.000000  0.000000  ...  0.000000   0.0    0.0  0.000000   \n",
       " IRF1    0.003824  0.010505  0.005713  ...  0.000000   0.0    0.0  0.000000   \n",
       " CCND1   0.000000  0.003619  0.000000  ...  0.000000   0.0    0.0  0.005925   \n",
       " PRF1    0.000000  0.015013  0.000000  ...  0.000000   0.0    0.0  0.000000   \n",
       " IFNG    0.003792  0.003151  0.004689  ...  0.003582   0.0    0.0  0.000000   \n",
       " ...          ...       ...       ...  ...       ...   ...    ...       ...   \n",
       " ZNF181  0.000000  0.003203  0.000000  ...  0.000000   0.0    0.0  0.000000   \n",
       " ZNF230  0.000000  0.003714  0.000000  ...  0.000000   0.0    0.0  0.000000   \n",
       " ZNF302  0.000000  0.004731  0.000000  ...  0.000000   0.0    0.0  0.000000   \n",
       " ZNF655  0.000000  0.005392  0.000000  ...  0.000000   0.0    0.0  0.000000   \n",
       " PRR5L   0.000000  0.000000  0.000000  ...  0.000000   0.0    0.0  0.000000   \n",
       " \n",
       "          THAP11  IRF6  ARID1A  ADNP2  APBB1  unannotated_1  \n",
       " IL2     0.00000   0.0     0.0    0.0    0.0       0.004150  \n",
       " IRF1    0.00000   0.0     0.0    0.0    0.0       0.006025  \n",
       " CCND1   0.00425   0.0     0.0    0.0    0.0       0.006427  \n",
       " PRF1    0.00000   0.0     0.0    0.0    0.0       0.021449  \n",
       " IFNG    0.00000   0.0     0.0    0.0    0.0       0.004260  \n",
       " ...         ...   ...     ...    ...    ...            ...  \n",
       " ZNF181  0.00000   0.0     0.0    0.0    0.0       0.006613  \n",
       " ZNF230  0.00000   0.0     0.0    0.0    0.0       0.004557  \n",
       " ZNF302  0.00000   0.0     0.0    0.0    0.0       0.009265  \n",
       " ZNF655  0.00000   0.0     0.0    0.0    0.0       0.003848  \n",
       " PRR5L   0.00000   0.0     0.0    0.0    0.0       0.004304  \n",
       " \n",
       " [471 rows x 31 columns])"
      ]
     },
     "execution_count": 6,
     "metadata": {},
     "output_type": "execute_result"
    }
   ],
   "source": [
    "from training.training import run_vega_model\n",
    "run_vega_model(\n",
    "    model_type=\"bayes\",\n",
    "    train_data=train,\n",
    "    valid_data=valid,\n",
    "    mask_df=mask,\n",
    "    epochs=30,\n",
    "    N=10\n",
    ")"
   ]
  }
 ],
 "metadata": {
  "kernelspec": {
   "display_name": ".venv",
   "language": "python",
   "name": "python3"
  },
  "language_info": {
   "codemirror_mode": {
    "name": "ipython",
    "version": 3
   },
   "file_extension": ".py",
   "mimetype": "text/x-python",
   "name": "python",
   "nbconvert_exporter": "python",
   "pygments_lexer": "ipython3",
   "version": "3.13.3"
  }
 },
 "nbformat": 4,
 "nbformat_minor": 5
}
