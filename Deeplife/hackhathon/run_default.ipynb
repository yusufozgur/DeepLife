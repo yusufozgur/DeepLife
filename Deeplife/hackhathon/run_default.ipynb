{
 "cells": [
  {
   "cell_type": "markdown",
   "id": "ff0845d0",
   "metadata": {},
   "source": [
    "needed to reload modules, otherwise you will have nan errors"
   ]
  },
  {
   "cell_type": "code",
   "execution_count": 1,
   "id": "5c83b151",
   "metadata": {},
   "outputs": [],
   "source": [
    "#%load_ext autoreload\n",
    "#%autoreload 2"
   ]
  },
  {
   "cell_type": "markdown",
   "id": "a78ab4c7",
   "metadata": {},
   "source": [
    "### Data"
   ]
  },
  {
   "cell_type": "code",
   "execution_count": 2,
   "id": "33b993af",
   "metadata": {},
   "outputs": [
    {
     "name": "stdout",
     "output_type": "stream",
     "text": [
      "Printing mask:\n",
      "shape: (471, 32)\n",
      "┌────────┬────────┬────────┬───────┬───┬────────┬───────┬───────┬───────────────┐\n",
      "│ target ┆ STAT5A ┆ STAT5B ┆ STAT4 ┆ … ┆ ARID1A ┆ ADNP2 ┆ APBB1 ┆ unannotated_1 │\n",
      "│ ---    ┆ ---    ┆ ---    ┆ ---   ┆   ┆ ---    ┆ ---   ┆ ---   ┆ ---           │\n",
      "│ str    ┆ f64    ┆ f64    ┆ f64   ┆   ┆ f64    ┆ f64   ┆ f64   ┆ i32           │\n",
      "╞════════╪════════╪════════╪═══════╪═══╪════════╪═══════╪═══════╪═══════════════╡\n",
      "│ IL2    ┆ 1.0    ┆ 1.0    ┆ 0.0   ┆ … ┆ 0.0    ┆ 0.0   ┆ 0.0   ┆ 1             │\n",
      "│ IRF1   ┆ 1.0    ┆ 1.0    ┆ 1.0   ┆ … ┆ 0.0    ┆ 0.0   ┆ 0.0   ┆ 1             │\n",
      "│ CCND1  ┆ 1.0    ┆ 1.0    ┆ 0.0   ┆ … ┆ 0.0    ┆ 0.0   ┆ 0.0   ┆ 1             │\n",
      "│ PRF1   ┆ 1.0    ┆ 1.0    ┆ 1.0   ┆ … ┆ 0.0    ┆ 0.0   ┆ 0.0   ┆ 1             │\n",
      "│ IFNG   ┆ 1.0    ┆ 1.0    ┆ 1.0   ┆ … ┆ 0.0    ┆ 0.0   ┆ 0.0   ┆ 1             │\n",
      "│ …      ┆ …      ┆ …      ┆ …     ┆ … ┆ …      ┆ …     ┆ …     ┆ …             │\n",
      "│ ZNF181 ┆ 0.0    ┆ 0.0    ┆ 0.0   ┆ … ┆ 0.0    ┆ 0.0   ┆ 0.0   ┆ 1             │\n",
      "│ ZNF230 ┆ 0.0    ┆ 0.0    ┆ 0.0   ┆ … ┆ 0.0    ┆ 0.0   ┆ 0.0   ┆ 1             │\n",
      "│ ZNF302 ┆ 0.0    ┆ 0.0    ┆ 0.0   ┆ … ┆ 0.0    ┆ 0.0   ┆ 0.0   ┆ 1             │\n",
      "│ ZNF655 ┆ 0.0    ┆ 0.0    ┆ 0.0   ┆ … ┆ 0.0    ┆ 0.0   ┆ 0.0   ┆ 1             │\n",
      "│ PRR5L  ┆ 0.0    ┆ 0.0    ┆ 0.0   ┆ … ┆ 0.0    ┆ 0.0   ┆ 0.0   ┆ 1             │\n",
      "└────────┴────────┴────────┴───────┴───┴────────┴───────┴───────┴───────────────┘\n",
      "\n",
      "Printing train:\n",
      "AnnData object with n_obs × n_vars = 13515 × 471\n",
      "    obs: 'condition', 'n_counts', 'n_genes', 'mt_frac', 'cell_type'\n",
      "    var: 'gene_symbol', 'n_cells'\n",
      "    uns: 'cell_type_colors', 'condition_colors', 'neighbors'\n",
      "    obsm: 'X_pca', 'X_tsne', 'X_umap'\n",
      "    obsp: 'connectivities', 'distances'\n",
      "\n",
      "Printing valid:\n",
      "AnnData object with n_obs × n_vars = 3378 × 471\n",
      "    obs: 'condition', 'n_counts', 'n_genes', 'mt_frac', 'cell_type'\n",
      "    var: 'gene_symbol', 'n_cells'\n",
      "    uns: 'cell_type_colors', 'condition_colors', 'neighbors'\n",
      "    obsm: 'X_pca', 'X_tsne', 'X_umap'\n",
      "    obsp: 'connectivities', 'distances'\n"
     ]
    }
   ],
   "source": [
    "from data_process_and_get_mask import create_mask\n",
    "from get_data import pbmc_train, pbmc_val\n",
    "\n",
    "tf_list = ['IRF1', 'IRF2', 'IRF2BPL', 'IRF3', 'IRF4', 'IRF5', 'IRF6', 'IRF7',\n",
    "       'IRF8', 'IRF9', 'STAT1', 'STAT2', 'STAT3', 'STAT4', 'STAT5A',\n",
    "       'STAT5B','STAT6','GTF2I','RUNX1', 'MYOD1', 'SOX2','KLF4', 'THAP11','ADNP2', 'AEBP1','AHRR', 'ALX4','APBB1','APEX1', 'ARHGAP35','ARID1A']\n",
    "\n",
    "#['IRF1', 'IRF2', 'IRF2BPL', 'IRF3', 'IRF4', 'IRF5', 'IRF6', 'IRF7', 'IRF8', 'IRF9', 'STAT1', 'STAT2', 'STAT3', 'STAT4', 'STAT5A','STAT5B', 'STAT6']\n",
    "#[\"GTF2I\",\"GTF3A\",\"NRF1\",\"ELF1\",\"STAT1\",\"STAT2\",\"IRF9\",\"STAT3\",\"STAT4\",\"STAT5A\",\"STAT5B\",\"IRF3\",\"IRF7\",\"IRF1\",\"IRF5\",\"IRF8\"]\n",
    "\n",
    "mask, train, valid = create_mask(pbmc_train, pbmc_val, tf_list)\n",
    "print(\"Printing mask:\")\n",
    "print(mask)\n",
    "print(\"\\nPrinting train:\")\n",
    "print(train)\n",
    "print(\"\\nPrinting valid:\")\n",
    "print(valid)"
   ]
  },
  {
   "cell_type": "code",
   "execution_count": null,
   "id": "cd42900c",
   "metadata": {},
   "outputs": [],
   "source": []
  },
  {
   "cell_type": "code",
   "execution_count": 3,
   "id": "8a518338",
   "metadata": {},
   "outputs": [],
   "source": [
    "# model training\n",
    "#vega, vega_losses, vega_klds, vega_mses = trainVEGA(vega, train, epochs = 20, beta = 0.0001) #takes about 2 mins on GPU # epoch 100"
   ]
  },
  {
   "cell_type": "markdown",
   "id": "0cf550af",
   "metadata": {},
   "source": [
    "now use the common training functions"
   ]
  },
  {
   "cell_type": "code",
   "execution_count": 4,
   "id": "900ae080",
   "metadata": {},
   "outputs": [
    {
     "data": {
      "text/html": [
       "<div><style>\n",
       ".dataframe > thead > tr,\n",
       ".dataframe > tbody > tr {\n",
       "  text-align: right;\n",
       "  white-space: pre-wrap;\n",
       "}\n",
       "</style>\n",
       "<small>shape: (471, 32)</small><table border=\"1\" class=\"dataframe\"><thead><tr><th>target</th><th>STAT5A</th><th>STAT5B</th><th>STAT4</th><th>IRF1</th><th>STAT3</th><th>RUNX1</th><th>GTF2I</th><th>IRF2</th><th>STAT1</th><th>IRF8</th><th>STAT6</th><th>APEX1</th><th>IRF4</th><th>MYOD1</th><th>ARHGAP35</th><th>IRF3</th><th>IRF5</th><th>ALX4</th><th>STAT2</th><th>IRF7</th><th>KLF4</th><th>IRF9</th><th>AHRR</th><th>AEBP1</th><th>SOX2</th><th>THAP11</th><th>IRF6</th><th>ARID1A</th><th>ADNP2</th><th>APBB1</th><th>unannotated_1</th></tr><tr><td>str</td><td>f64</td><td>f64</td><td>f64</td><td>f64</td><td>f64</td><td>f64</td><td>f64</td><td>f64</td><td>f64</td><td>f64</td><td>f64</td><td>f64</td><td>f64</td><td>f64</td><td>f64</td><td>f64</td><td>f64</td><td>f64</td><td>f64</td><td>f64</td><td>f64</td><td>f64</td><td>f64</td><td>f64</td><td>f64</td><td>f64</td><td>f64</td><td>f64</td><td>f64</td><td>f64</td><td>i32</td></tr></thead><tbody><tr><td>&quot;IL2&quot;</td><td>1.0</td><td>1.0</td><td>0.0</td><td>0.0</td><td>1.0</td><td>1.0</td><td>0.0</td><td>0.0</td><td>0.0</td><td>0.0</td><td>0.0</td><td>0.0</td><td>1.0</td><td>0.0</td><td>0.0</td><td>0.0</td><td>0.0</td><td>0.0</td><td>0.0</td><td>0.0</td><td>0.0</td><td>0.0</td><td>0.0</td><td>0.0</td><td>0.0</td><td>0.0</td><td>0.0</td><td>0.0</td><td>0.0</td><td>0.0</td><td>1</td></tr><tr><td>&quot;IRF1&quot;</td><td>1.0</td><td>1.0</td><td>1.0</td><td>1.0</td><td>1.0</td><td>0.0</td><td>0.0</td><td>1.0</td><td>1.0</td><td>1.0</td><td>1.0</td><td>0.0</td><td>1.0</td><td>0.0</td><td>0.0</td><td>1.0</td><td>0.0</td><td>0.0</td><td>1.0</td><td>0.0</td><td>0.0</td><td>0.0</td><td>0.0</td><td>0.0</td><td>0.0</td><td>0.0</td><td>0.0</td><td>0.0</td><td>0.0</td><td>0.0</td><td>1</td></tr><tr><td>&quot;CCND1&quot;</td><td>1.0</td><td>1.0</td><td>0.0</td><td>1.0</td><td>1.0</td><td>0.0</td><td>1.0</td><td>0.0</td><td>1.0</td><td>0.0</td><td>0.0</td><td>0.0</td><td>0.0</td><td>1.0</td><td>0.0</td><td>0.0</td><td>0.0</td><td>0.0</td><td>0.0</td><td>0.0</td><td>1.0</td><td>0.0</td><td>0.0</td><td>0.0</td><td>1.0</td><td>1.0</td><td>0.0</td><td>0.0</td><td>0.0</td><td>0.0</td><td>1</td></tr><tr><td>&quot;PRF1&quot;</td><td>1.0</td><td>1.0</td><td>1.0</td><td>0.0</td><td>1.0</td><td>0.0</td><td>0.0</td><td>0.0</td><td>1.0</td><td>0.0</td><td>0.0</td><td>0.0</td><td>0.0</td><td>0.0</td><td>0.0</td><td>0.0</td><td>0.0</td><td>0.0</td><td>0.0</td><td>0.0</td><td>0.0</td><td>0.0</td><td>0.0</td><td>0.0</td><td>0.0</td><td>0.0</td><td>0.0</td><td>0.0</td><td>0.0</td><td>0.0</td><td>1</td></tr><tr><td>&quot;IFNG&quot;</td><td>1.0</td><td>1.0</td><td>1.0</td><td>1.0</td><td>1.0</td><td>1.0</td><td>0.0</td><td>1.0</td><td>1.0</td><td>1.0</td><td>1.0</td><td>0.0</td><td>1.0</td><td>0.0</td><td>0.0</td><td>1.0</td><td>1.0</td><td>0.0</td><td>1.0</td><td>0.0</td><td>0.0</td><td>1.0</td><td>0.0</td><td>0.0</td><td>0.0</td><td>0.0</td><td>0.0</td><td>0.0</td><td>0.0</td><td>0.0</td><td>1</td></tr><tr><td>&hellip;</td><td>&hellip;</td><td>&hellip;</td><td>&hellip;</td><td>&hellip;</td><td>&hellip;</td><td>&hellip;</td><td>&hellip;</td><td>&hellip;</td><td>&hellip;</td><td>&hellip;</td><td>&hellip;</td><td>&hellip;</td><td>&hellip;</td><td>&hellip;</td><td>&hellip;</td><td>&hellip;</td><td>&hellip;</td><td>&hellip;</td><td>&hellip;</td><td>&hellip;</td><td>&hellip;</td><td>&hellip;</td><td>&hellip;</td><td>&hellip;</td><td>&hellip;</td><td>&hellip;</td><td>&hellip;</td><td>&hellip;</td><td>&hellip;</td><td>&hellip;</td><td>&hellip;</td></tr><tr><td>&quot;ZNF181&quot;</td><td>0.0</td><td>0.0</td><td>0.0</td><td>0.0</td><td>0.0</td><td>0.0</td><td>0.0</td><td>0.0</td><td>1.0</td><td>0.0</td><td>0.0</td><td>0.0</td><td>0.0</td><td>0.0</td><td>0.0</td><td>0.0</td><td>0.0</td><td>0.0</td><td>0.0</td><td>0.0</td><td>0.0</td><td>0.0</td><td>0.0</td><td>0.0</td><td>0.0</td><td>0.0</td><td>0.0</td><td>0.0</td><td>0.0</td><td>0.0</td><td>1</td></tr><tr><td>&quot;ZNF230&quot;</td><td>0.0</td><td>0.0</td><td>0.0</td><td>0.0</td><td>0.0</td><td>0.0</td><td>0.0</td><td>0.0</td><td>1.0</td><td>0.0</td><td>0.0</td><td>0.0</td><td>0.0</td><td>0.0</td><td>0.0</td><td>0.0</td><td>0.0</td><td>0.0</td><td>0.0</td><td>0.0</td><td>0.0</td><td>0.0</td><td>0.0</td><td>0.0</td><td>0.0</td><td>0.0</td><td>0.0</td><td>0.0</td><td>0.0</td><td>0.0</td><td>1</td></tr><tr><td>&quot;ZNF302&quot;</td><td>0.0</td><td>0.0</td><td>0.0</td><td>0.0</td><td>0.0</td><td>0.0</td><td>0.0</td><td>0.0</td><td>1.0</td><td>0.0</td><td>0.0</td><td>0.0</td><td>0.0</td><td>0.0</td><td>0.0</td><td>0.0</td><td>0.0</td><td>0.0</td><td>0.0</td><td>0.0</td><td>0.0</td><td>0.0</td><td>0.0</td><td>0.0</td><td>0.0</td><td>0.0</td><td>0.0</td><td>0.0</td><td>0.0</td><td>0.0</td><td>1</td></tr><tr><td>&quot;ZNF655&quot;</td><td>0.0</td><td>0.0</td><td>0.0</td><td>0.0</td><td>0.0</td><td>0.0</td><td>0.0</td><td>0.0</td><td>1.0</td><td>0.0</td><td>0.0</td><td>0.0</td><td>0.0</td><td>0.0</td><td>0.0</td><td>0.0</td><td>0.0</td><td>0.0</td><td>0.0</td><td>0.0</td><td>0.0</td><td>0.0</td><td>0.0</td><td>0.0</td><td>0.0</td><td>0.0</td><td>0.0</td><td>0.0</td><td>0.0</td><td>0.0</td><td>1</td></tr><tr><td>&quot;PRR5L&quot;</td><td>0.0</td><td>0.0</td><td>0.0</td><td>0.0</td><td>0.0</td><td>1.0</td><td>0.0</td><td>0.0</td><td>0.0</td><td>0.0</td><td>0.0</td><td>0.0</td><td>0.0</td><td>0.0</td><td>0.0</td><td>0.0</td><td>0.0</td><td>0.0</td><td>0.0</td><td>0.0</td><td>0.0</td><td>0.0</td><td>0.0</td><td>0.0</td><td>0.0</td><td>0.0</td><td>0.0</td><td>0.0</td><td>0.0</td><td>0.0</td><td>1</td></tr></tbody></table></div>"
      ],
      "text/plain": [
       "shape: (471, 32)\n",
       "┌────────┬────────┬────────┬───────┬───┬────────┬───────┬───────┬───────────────┐\n",
       "│ target ┆ STAT5A ┆ STAT5B ┆ STAT4 ┆ … ┆ ARID1A ┆ ADNP2 ┆ APBB1 ┆ unannotated_1 │\n",
       "│ ---    ┆ ---    ┆ ---    ┆ ---   ┆   ┆ ---    ┆ ---   ┆ ---   ┆ ---           │\n",
       "│ str    ┆ f64    ┆ f64    ┆ f64   ┆   ┆ f64    ┆ f64   ┆ f64   ┆ i32           │\n",
       "╞════════╪════════╪════════╪═══════╪═══╪════════╪═══════╪═══════╪═══════════════╡\n",
       "│ IL2    ┆ 1.0    ┆ 1.0    ┆ 0.0   ┆ … ┆ 0.0    ┆ 0.0   ┆ 0.0   ┆ 1             │\n",
       "│ IRF1   ┆ 1.0    ┆ 1.0    ┆ 1.0   ┆ … ┆ 0.0    ┆ 0.0   ┆ 0.0   ┆ 1             │\n",
       "│ CCND1  ┆ 1.0    ┆ 1.0    ┆ 0.0   ┆ … ┆ 0.0    ┆ 0.0   ┆ 0.0   ┆ 1             │\n",
       "│ PRF1   ┆ 1.0    ┆ 1.0    ┆ 1.0   ┆ … ┆ 0.0    ┆ 0.0   ┆ 0.0   ┆ 1             │\n",
       "│ IFNG   ┆ 1.0    ┆ 1.0    ┆ 1.0   ┆ … ┆ 0.0    ┆ 0.0   ┆ 0.0   ┆ 1             │\n",
       "│ …      ┆ …      ┆ …      ┆ …     ┆ … ┆ …      ┆ …     ┆ …     ┆ …             │\n",
       "│ ZNF181 ┆ 0.0    ┆ 0.0    ┆ 0.0   ┆ … ┆ 0.0    ┆ 0.0   ┆ 0.0   ┆ 1             │\n",
       "│ ZNF230 ┆ 0.0    ┆ 0.0    ┆ 0.0   ┆ … ┆ 0.0    ┆ 0.0   ┆ 0.0   ┆ 1             │\n",
       "│ ZNF302 ┆ 0.0    ┆ 0.0    ┆ 0.0   ┆ … ┆ 0.0    ┆ 0.0   ┆ 0.0   ┆ 1             │\n",
       "│ ZNF655 ┆ 0.0    ┆ 0.0    ┆ 0.0   ┆ … ┆ 0.0    ┆ 0.0   ┆ 0.0   ┆ 1             │\n",
       "│ PRR5L  ┆ 0.0    ┆ 0.0    ┆ 0.0   ┆ … ┆ 0.0    ┆ 0.0   ┆ 0.0   ┆ 1             │\n",
       "└────────┴────────┴────────┴───────┴───┴────────┴───────┴───────┴───────────────┘"
      ]
     },
     "execution_count": 4,
     "metadata": {},
     "output_type": "execute_result"
    }
   ],
   "source": [
    "mask"
   ]
  },
  {
   "cell_type": "code",
   "execution_count": 5,
   "id": "ede11dba",
   "metadata": {},
   "outputs": [
    {
     "name": "stdout",
     "output_type": "stream",
     "text": [
      "epoch:  0  train_loss:  83.97045   valid_loss:  57.35237\n",
      "epoch:  10  train_loss:  41.03598   valid_loss:  33.39432\n",
      "epoch:  20  train_loss:  37.82006   valid_loss:  30.682905\n",
      "epoch:  0  train_loss:  85.77435   valid_loss:  63.373245\n",
      "epoch:  10  train_loss:  41.576485   valid_loss:  34.028824\n",
      "epoch:  20  train_loss:  38.172825   valid_loss:  31.280102\n",
      "epoch:  0  train_loss:  81.15408   valid_loss:  50.72145\n",
      "epoch:  10  train_loss:  39.86297   valid_loss:  32.52399\n",
      "epoch:  20  train_loss:  37.6357   valid_loss:  30.73659\n",
      "epoch:  0  train_loss:  82.99302   valid_loss:  53.191326\n",
      "epoch:  10  train_loss:  40.722507   valid_loss:  33.205173\n",
      "epoch:  20  train_loss:  38.184315   valid_loss:  32.13211\n",
      "epoch:  0  train_loss:  83.08233   valid_loss:  51.3127\n",
      "epoch:  10  train_loss:  40.713707   valid_loss:  32.855022\n",
      "epoch:  20  train_loss:  37.644836   valid_loss:  30.665873\n",
      "epoch:  0  train_loss:  84.491806   valid_loss:  56.651585\n",
      "epoch:  10  train_loss:  40.406445   valid_loss:  32.29798\n",
      "epoch:  20  train_loss:  37.698357   valid_loss:  31.38112\n",
      "epoch:  0  train_loss:  83.79391   valid_loss:  57.695408\n",
      "epoch:  10  train_loss:  40.61889   valid_loss:  32.648712\n",
      "epoch:  20  train_loss:  37.79321   valid_loss:  31.057919\n",
      "epoch:  0  train_loss:  84.85534   valid_loss:  55.313656\n",
      "epoch:  10  train_loss:  41.2031   valid_loss:  33.218372\n",
      "epoch:  20  train_loss:  38.40306   valid_loss:  31.65582\n",
      "epoch:  0  train_loss:  81.95556   valid_loss:  53.712257\n",
      "epoch:  10  train_loss:  40.429317   valid_loss:  33.224648\n",
      "epoch:  20  train_loss:  37.941757   valid_loss:  31.756884\n",
      "epoch:  0  train_loss:  83.618286   valid_loss:  54.22447\n",
      "epoch:  10  train_loss:  41.175056   valid_loss:  33.124905\n",
      "epoch:  20  train_loss:  38.232513   valid_loss:  31.577482\n"
     ]
    },
    {
     "data": {
      "text/plain": [
       "(VEGA(\n",
       "   (decoder): DecoderVEGA(\n",
       "     (sparse_layer): Sequential(\n",
       "       (0): SparseLayer()\n",
       "     )\n",
       "   )\n",
       "   (encoder): Encoder(\n",
       "     (encoder): Sequential(\n",
       "       (0): Linear(in_features=471, out_features=800, bias=True)\n",
       "       (1): ReLU()\n",
       "       (2): Dropout(p=0.3, inplace=False)\n",
       "       (3): Linear(in_features=800, out_features=800, bias=True)\n",
       "       (4): ReLU()\n",
       "       (5): Dropout(p=0.3, inplace=False)\n",
       "     )\n",
       "     (mu): Sequential(\n",
       "       (0): Linear(in_features=800, out_features=31, bias=True)\n",
       "       (1): Dropout(p=0.5, inplace=False)\n",
       "     )\n",
       "     (sigma): Sequential(\n",
       "       (0): Linear(in_features=800, out_features=31, bias=True)\n",
       "       (1): Dropout(p=0.5, inplace=False)\n",
       "     )\n",
       "   )\n",
       " ),\n",
       "           STAT5A    STAT5B     STAT4      IRF1     STAT3     RUNX1     GTF2I  \\\n",
       " IL2    -0.000042  0.000096  0.000000  0.000000 -0.000096  0.000003  0.000000   \n",
       " IRF1   -0.000547  0.007368  0.002736 -0.001101 -0.000275  0.000000  0.000000   \n",
       " CCND1  -0.000112 -0.000099  0.000000  0.000126 -0.000131  0.000000  0.000415   \n",
       " PRF1    0.001300  0.019332  0.002901  0.000000 -0.002731  0.000000  0.000000   \n",
       " IFNG    0.000042  0.001129  0.000130 -0.000251 -0.000052  0.000025  0.000000   \n",
       " ...          ...       ...       ...       ...       ...       ...       ...   \n",
       " ZNF181  0.000000  0.000000  0.000000  0.000000  0.000000  0.000000  0.000000   \n",
       " ZNF230  0.000000  0.000000  0.000000  0.000000  0.000000  0.000000  0.000000   \n",
       " ZNF302  0.000000  0.000000  0.000000  0.000000  0.000000  0.000000  0.000000   \n",
       " ZNF655  0.000000  0.000000  0.000000  0.000000  0.000000  0.000000  0.000000   \n",
       " PRR5L   0.000000  0.000000  0.000000  0.000000  0.000000  0.000346  0.000000   \n",
       " \n",
       "             IRF2     STAT1      IRF8  ...      IRF9  AHRR  AEBP1      SOX2  \\\n",
       " IL2     0.000000  0.000000  0.000000  ...  0.000000   0.0    0.0  0.000000   \n",
       " IRF1    0.003066  0.001170  0.000911  ...  0.000000   0.0    0.0  0.000000   \n",
       " CCND1   0.000000 -0.000198  0.000000  ...  0.000000   0.0    0.0 -0.000128   \n",
       " PRF1    0.000000  0.003318  0.000000  ...  0.000000   0.0    0.0  0.000000   \n",
       " IFNG   -0.000392  0.000185 -0.000041  ... -0.000155   0.0    0.0  0.000000   \n",
       " ...          ...       ...       ...  ...       ...   ...    ...       ...   \n",
       " ZNF181  0.000000 -0.000517  0.000000  ...  0.000000   0.0    0.0  0.000000   \n",
       " ZNF230  0.000000  0.000263  0.000000  ...  0.000000   0.0    0.0  0.000000   \n",
       " ZNF302  0.000000 -0.000508  0.000000  ...  0.000000   0.0    0.0  0.000000   \n",
       " ZNF655  0.000000 -0.000362  0.000000  ...  0.000000   0.0    0.0  0.000000   \n",
       " PRR5L   0.000000  0.000000  0.000000  ...  0.000000   0.0    0.0  0.000000   \n",
       " \n",
       "           THAP11  IRF6  ARID1A  ADNP2  APBB1  unannotated_1  \n",
       " IL2     0.000000   0.0     0.0    0.0    0.0      -0.000051  \n",
       " IRF1    0.000000   0.0     0.0    0.0    0.0      -0.001574  \n",
       " CCND1   0.000205   0.0     0.0    0.0    0.0      -0.000113  \n",
       " PRF1    0.000000   0.0     0.0    0.0    0.0      -0.004534  \n",
       " IFNG    0.000000   0.0     0.0    0.0    0.0      -0.000264  \n",
       " ...          ...   ...     ...    ...    ...            ...  \n",
       " ZNF181  0.000000   0.0     0.0    0.0    0.0      -0.000547  \n",
       " ZNF230  0.000000   0.0     0.0    0.0    0.0      -0.000061  \n",
       " ZNF302  0.000000   0.0     0.0    0.0    0.0      -0.001081  \n",
       " ZNF655  0.000000   0.0     0.0    0.0    0.0       0.000619  \n",
       " PRR5L   0.000000   0.0     0.0    0.0    0.0      -0.000879  \n",
       " \n",
       " [471 rows x 31 columns],\n",
       "           STAT5A    STAT5B     STAT4      IRF1     STAT3     RUNX1     GTF2I  \\\n",
       " IL2     0.000079  0.000314  0.000000  0.000000  0.000298  0.000263  0.000000   \n",
       " IRF1    0.003350  0.002284  0.003730  0.002981  0.003699  0.000000  0.000000   \n",
       " CCND1   0.000289  0.000477  0.000000  0.000561  0.000360  0.000000  0.000875   \n",
       " PRF1    0.013459  0.037638  0.006264  0.000000  0.006723  0.000000  0.000000   \n",
       " IFNG    0.001113  0.002261  0.001175  0.001083  0.000874  0.001134  0.000000   \n",
       " ...          ...       ...       ...       ...       ...       ...       ...   \n",
       " ZNF181  0.000000  0.000000  0.000000  0.000000  0.000000  0.000000  0.000000   \n",
       " ZNF230  0.000000  0.000000  0.000000  0.000000  0.000000  0.000000  0.000000   \n",
       " ZNF302  0.000000  0.000000  0.000000  0.000000  0.000000  0.000000  0.000000   \n",
       " ZNF655  0.000000  0.000000  0.000000  0.000000  0.000000  0.000000  0.000000   \n",
       " PRR5L   0.000000  0.000000  0.000000  0.000000  0.000000  0.001842  0.000000   \n",
       " \n",
       "             IRF2     STAT1      IRF8  ...      IRF9  AHRR  AEBP1      SOX2  \\\n",
       " IL2     0.000000  0.000000  0.000000  ...  0.000000   0.0    0.0  0.000000   \n",
       " IRF1    0.002315  0.005971  0.001989  ...  0.000000   0.0    0.0  0.000000   \n",
       " CCND1   0.000000  0.000395  0.000000  ...  0.000000   0.0    0.0  0.000494   \n",
       " PRF1    0.000000  0.012170  0.000000  ...  0.000000   0.0    0.0  0.000000   \n",
       " IFNG    0.000732  0.001106  0.001101  ...  0.000665   0.0    0.0  0.000000   \n",
       " ...          ...       ...       ...  ...       ...   ...    ...       ...   \n",
       " ZNF181  0.000000  0.000914  0.000000  ...  0.000000   0.0    0.0  0.000000   \n",
       " ZNF230  0.000000  0.000617  0.000000  ...  0.000000   0.0    0.0  0.000000   \n",
       " ZNF302  0.000000  0.000960  0.000000  ...  0.000000   0.0    0.0  0.000000   \n",
       " ZNF655  0.000000  0.002880  0.000000  ...  0.000000   0.0    0.0  0.000000   \n",
       " PRR5L   0.000000  0.000000  0.000000  ...  0.000000   0.0    0.0  0.000000   \n",
       " \n",
       "          THAP11  IRF6  ARID1A  ADNP2  APBB1  unannotated_1  \n",
       " IL2     0.00000   0.0     0.0    0.0    0.0       0.000228  \n",
       " IRF1    0.00000   0.0     0.0    0.0    0.0       0.003794  \n",
       " CCND1   0.00063   0.0     0.0    0.0    0.0       0.000701  \n",
       " PRF1    0.00000   0.0     0.0    0.0    0.0       0.005807  \n",
       " IFNG    0.00000   0.0     0.0    0.0    0.0       0.000845  \n",
       " ...         ...   ...     ...    ...    ...            ...  \n",
       " ZNF181  0.00000   0.0     0.0    0.0    0.0       0.001663  \n",
       " ZNF230  0.00000   0.0     0.0    0.0    0.0       0.001799  \n",
       " ZNF302  0.00000   0.0     0.0    0.0    0.0       0.003324  \n",
       " ZNF655  0.00000   0.0     0.0    0.0    0.0       0.001535  \n",
       " PRR5L   0.00000   0.0     0.0    0.0    0.0       0.000981  \n",
       " \n",
       " [471 rows x 31 columns])"
      ]
     },
     "execution_count": 5,
     "metadata": {},
     "output_type": "execute_result"
    }
   ],
   "source": [
    "from training.training import run_vega_model\n",
    "run_vega_model(\n",
    "    model_type=\"vega\",\n",
    "    train_data=train,\n",
    "    valid_data=valid,\n",
    "    mask_df=mask,\n",
    "    epochs=30,\n",
    "    N=10\n",
    ")"
   ]
  },
  {
   "cell_type": "markdown",
   "id": "cfc75a7e",
   "metadata": {},
   "source": [
    "bayes"
   ]
  },
  {
   "cell_type": "code",
   "execution_count": null,
   "id": "80edee9c",
   "metadata": {},
   "outputs": [],
   "source": []
  },
  {
   "cell_type": "code",
   "execution_count": 6,
   "id": "8898fe42",
   "metadata": {},
   "outputs": [
    {
     "ename": "AttributeError",
     "evalue": "'Tensor' object has no attribute 'drop'",
     "output_type": "error",
     "traceback": [
      "\u001b[31m---------------------------------------------------------------------------\u001b[39m",
      "\u001b[31mAttributeError\u001b[39m                            Traceback (most recent call last)",
      "\u001b[36mCell\u001b[39m\u001b[36m \u001b[39m\u001b[32mIn[6]\u001b[39m\u001b[32m, line 2\u001b[39m\n\u001b[32m      1\u001b[39m \u001b[38;5;28;01mfrom\u001b[39;00m\u001b[38;5;250m \u001b[39m\u001b[34;01mtraining\u001b[39;00m\u001b[34;01m.\u001b[39;00m\u001b[34;01mtraining\u001b[39;00m\u001b[38;5;250m \u001b[39m\u001b[38;5;28;01mimport\u001b[39;00m run_vega_model\n\u001b[32m----> \u001b[39m\u001b[32m2\u001b[39m \u001b[43mrun_vega_model\u001b[49m\u001b[43m(\u001b[49m\n\u001b[32m      3\u001b[39m \u001b[43m    \u001b[49m\u001b[43mmodel_type\u001b[49m\u001b[43m=\u001b[49m\u001b[33;43m\"\u001b[39;49m\u001b[33;43mbayes\u001b[39;49m\u001b[33;43m\"\u001b[39;49m\u001b[43m,\u001b[49m\n\u001b[32m      4\u001b[39m \u001b[43m    \u001b[49m\u001b[43mtrain_data\u001b[49m\u001b[43m=\u001b[49m\u001b[43mtrain\u001b[49m\u001b[43m,\u001b[49m\n\u001b[32m      5\u001b[39m \u001b[43m    \u001b[49m\u001b[43mvalid_data\u001b[49m\u001b[43m=\u001b[49m\u001b[43mvalid\u001b[49m\u001b[43m,\u001b[49m\n\u001b[32m      6\u001b[39m \u001b[43m    \u001b[49m\u001b[43mmask_df\u001b[49m\u001b[43m=\u001b[49m\u001b[43mmask\u001b[49m\u001b[43m,\u001b[49m\n\u001b[32m      7\u001b[39m \u001b[43m    \u001b[49m\u001b[43mepochs\u001b[49m\u001b[43m=\u001b[49m\u001b[32;43m50\u001b[39;49m\u001b[43m,\u001b[49m\n\u001b[32m      8\u001b[39m \u001b[43m    \u001b[49m\u001b[43mN\u001b[49m\u001b[43m=\u001b[49m\u001b[32;43m1\u001b[39;49m\n\u001b[32m      9\u001b[39m \u001b[43m)\u001b[49m\n",
      "\u001b[36mFile \u001b[39m\u001b[32m~/Projects/PyTorch/Deeplife/hackhathon/training/training.py:77\u001b[39m, in \u001b[36mrun_vega_model\u001b[39m\u001b[34m(model_type, train_data, valid_data, mask_df, path_to_save, cond, cell_type, N, epochs)\u001b[39m\n\u001b[32m     74\u001b[39m \u001b[38;5;28;01mfor\u001b[39;00m _ \u001b[38;5;129;01min\u001b[39;00m \u001b[38;5;28mrange\u001b[39m(N):\n\u001b[32m     75\u001b[39m     \u001b[38;5;28;01mfrom\u001b[39;00m\u001b[38;5;250m \u001b[39m\u001b[34;01mmodel\u001b[39;00m\u001b[34;01m.\u001b[39;00m\u001b[34;01mdecoder_bayes\u001b[39;00m\u001b[38;5;250m \u001b[39m\u001b[38;5;28;01mimport\u001b[39;00m DecoderBayes\n\u001b[32m---> \u001b[39m\u001b[32m77\u001b[39m     mask_np = \u001b[43mmask\u001b[49m\u001b[43m.\u001b[49m\u001b[43mdrop\u001b[49m(\u001b[33m\"\u001b[39m\u001b[33mtarget\u001b[39m\u001b[33m\"\u001b[39m).to_numpy()\n\u001b[32m     79\u001b[39m     latent_dims= mask_np.shape[\u001b[32m1\u001b[39m]\n\u001b[32m     80\u001b[39m     input_dims = mask_np.shape[\u001b[32m0\u001b[39m]\n",
      "\u001b[31mAttributeError\u001b[39m: 'Tensor' object has no attribute 'drop'"
     ]
    }
   ],
   "source": [
    "from training.training import run_vega_model\n",
    "run_vega_model(\n",
    "    model_type=\"bayes\",\n",
    "    train_data=train,\n",
    "    valid_data=valid,\n",
    "    mask_df=mask,\n",
    "    epochs=50,\n",
    "    N=1\n",
    ")"
   ]
  }
 ],
 "metadata": {
  "kernelspec": {
   "display_name": ".venv",
   "language": "python",
   "name": "python3"
  },
  "language_info": {
   "codemirror_mode": {
    "name": "ipython",
    "version": 3
   },
   "file_extension": ".py",
   "mimetype": "text/x-python",
   "name": "python",
   "nbconvert_exporter": "python",
   "pygments_lexer": "ipython3",
   "version": "3.13.3"
  }
 },
 "nbformat": 4,
 "nbformat_minor": 5
}
