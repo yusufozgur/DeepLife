{
 "cells": [
  {
   "cell_type": "markdown",
   "id": "ff0845d0",
   "metadata": {},
   "source": [
    "needed to reload modules, otherwise you will have nan errors"
   ]
  },
  {
   "cell_type": "code",
   "execution_count": 1,
   "id": "5c83b151",
   "metadata": {},
   "outputs": [],
   "source": [
    "#%load_ext autoreload\n",
    "#%autoreload 2"
   ]
  },
  {
   "cell_type": "markdown",
   "id": "a78ab4c7",
   "metadata": {},
   "source": [
    "### Data"
   ]
  },
  {
   "cell_type": "code",
   "execution_count": 2,
   "id": "33b993af",
   "metadata": {},
   "outputs": [
    {
     "name": "stdout",
     "output_type": "stream",
     "text": [
      "Printing mask:\n",
      "shape: (471, 32)\n",
      "┌────────┬────────┬────────┬───────┬───┬────────┬───────┬───────┬───────────────┐\n",
      "│ target ┆ STAT5A ┆ STAT5B ┆ STAT4 ┆ … ┆ ARID1A ┆ ADNP2 ┆ APBB1 ┆ unannotated_1 │\n",
      "│ ---    ┆ ---    ┆ ---    ┆ ---   ┆   ┆ ---    ┆ ---   ┆ ---   ┆ ---           │\n",
      "│ str    ┆ f64    ┆ f64    ┆ f64   ┆   ┆ f64    ┆ f64   ┆ f64   ┆ i32           │\n",
      "╞════════╪════════╪════════╪═══════╪═══╪════════╪═══════╪═══════╪═══════════════╡\n",
      "│ IL2    ┆ 1.0    ┆ 1.0    ┆ 0.0   ┆ … ┆ 0.0    ┆ 0.0   ┆ 0.0   ┆ 1             │\n",
      "│ IRF1   ┆ 1.0    ┆ 1.0    ┆ 1.0   ┆ … ┆ 0.0    ┆ 0.0   ┆ 0.0   ┆ 1             │\n",
      "│ CCND1  ┆ 1.0    ┆ 1.0    ┆ 0.0   ┆ … ┆ 0.0    ┆ 0.0   ┆ 0.0   ┆ 1             │\n",
      "│ PRF1   ┆ 1.0    ┆ 1.0    ┆ 1.0   ┆ … ┆ 0.0    ┆ 0.0   ┆ 0.0   ┆ 1             │\n",
      "│ IFNG   ┆ 1.0    ┆ 1.0    ┆ 1.0   ┆ … ┆ 0.0    ┆ 0.0   ┆ 0.0   ┆ 1             │\n",
      "│ …      ┆ …      ┆ …      ┆ …     ┆ … ┆ …      ┆ …     ┆ …     ┆ …             │\n",
      "│ ZNF181 ┆ 0.0    ┆ 0.0    ┆ 0.0   ┆ … ┆ 0.0    ┆ 0.0   ┆ 0.0   ┆ 1             │\n",
      "│ ZNF230 ┆ 0.0    ┆ 0.0    ┆ 0.0   ┆ … ┆ 0.0    ┆ 0.0   ┆ 0.0   ┆ 1             │\n",
      "│ ZNF302 ┆ 0.0    ┆ 0.0    ┆ 0.0   ┆ … ┆ 0.0    ┆ 0.0   ┆ 0.0   ┆ 1             │\n",
      "│ ZNF655 ┆ 0.0    ┆ 0.0    ┆ 0.0   ┆ … ┆ 0.0    ┆ 0.0   ┆ 0.0   ┆ 1             │\n",
      "│ PRR5L  ┆ 0.0    ┆ 0.0    ┆ 0.0   ┆ … ┆ 0.0    ┆ 0.0   ┆ 0.0   ┆ 1             │\n",
      "└────────┴────────┴────────┴───────┴───┴────────┴───────┴───────┴───────────────┘\n",
      "\n",
      "Printing train:\n",
      "AnnData object with n_obs × n_vars = 13515 × 471\n",
      "    obs: 'condition', 'n_counts', 'n_genes', 'mt_frac', 'cell_type'\n",
      "    var: 'gene_symbol', 'n_cells'\n",
      "    uns: 'cell_type_colors', 'condition_colors', 'neighbors'\n",
      "    obsm: 'X_pca', 'X_tsne', 'X_umap'\n",
      "    obsp: 'connectivities', 'distances'\n",
      "\n",
      "Printing valid:\n",
      "AnnData object with n_obs × n_vars = 3378 × 471\n",
      "    obs: 'condition', 'n_counts', 'n_genes', 'mt_frac', 'cell_type'\n",
      "    var: 'gene_symbol', 'n_cells'\n",
      "    uns: 'cell_type_colors', 'condition_colors', 'neighbors'\n",
      "    obsm: 'X_pca', 'X_tsne', 'X_umap'\n",
      "    obsp: 'connectivities', 'distances'\n"
     ]
    }
   ],
   "source": [
    "from data_process_and_get_mask import create_mask\n",
    "from get_data import pbmc_train, pbmc_val\n",
    "\n",
    "tf_list = ['IRF1', 'IRF2', 'IRF2BPL', 'IRF3', 'IRF4', 'IRF5', 'IRF6', 'IRF7',\n",
    "       'IRF8', 'IRF9', 'STAT1', 'STAT2', 'STAT3', 'STAT4', 'STAT5A',\n",
    "       'STAT5B','STAT6','GTF2I','RUNX1', 'MYOD1', 'SOX2','KLF4', 'THAP11','ADNP2', 'AEBP1','AHRR', 'ALX4','APBB1','APEX1', 'ARHGAP35','ARID1A']\n",
    "\n",
    "#['IRF1', 'IRF2', 'IRF2BPL', 'IRF3', 'IRF4', 'IRF5', 'IRF6', 'IRF7', 'IRF8', 'IRF9', 'STAT1', 'STAT2', 'STAT3', 'STAT4', 'STAT5A','STAT5B', 'STAT6']\n",
    "#[\"GTF2I\",\"GTF3A\",\"NRF1\",\"ELF1\",\"STAT1\",\"STAT2\",\"IRF9\",\"STAT3\",\"STAT4\",\"STAT5A\",\"STAT5B\",\"IRF3\",\"IRF7\",\"IRF1\",\"IRF5\",\"IRF8\"]\n",
    "\n",
    "mask, train, valid = create_mask(pbmc_train, pbmc_val, tf_list)\n",
    "print(\"Printing mask:\")\n",
    "print(mask)\n",
    "print(\"\\nPrinting train:\")\n",
    "print(train)\n",
    "print(\"\\nPrinting valid:\")\n",
    "print(valid)"
   ]
  },
  {
   "cell_type": "code",
   "execution_count": null,
   "id": "cd42900c",
   "metadata": {},
   "outputs": [],
   "source": []
  },
  {
   "cell_type": "code",
   "execution_count": 3,
   "id": "8a518338",
   "metadata": {},
   "outputs": [],
   "source": [
    "# model training\n",
    "#vega, vega_losses, vega_klds, vega_mses = trainVEGA(vega, train, epochs = 20, beta = 0.0001) #takes about 2 mins on GPU # epoch 100"
   ]
  },
  {
   "cell_type": "markdown",
   "id": "0cf550af",
   "metadata": {},
   "source": [
    "now use the common training functions"
   ]
  },
  {
   "cell_type": "code",
   "execution_count": 4,
   "id": "900ae080",
   "metadata": {},
   "outputs": [
    {
     "data": {
      "text/html": [
       "<div><style>\n",
       ".dataframe > thead > tr,\n",
       ".dataframe > tbody > tr {\n",
       "  text-align: right;\n",
       "  white-space: pre-wrap;\n",
       "}\n",
       "</style>\n",
       "<small>shape: (471, 32)</small><table border=\"1\" class=\"dataframe\"><thead><tr><th>target</th><th>STAT5A</th><th>STAT5B</th><th>STAT4</th><th>IRF1</th><th>STAT3</th><th>RUNX1</th><th>GTF2I</th><th>IRF2</th><th>STAT1</th><th>IRF8</th><th>STAT6</th><th>APEX1</th><th>IRF4</th><th>MYOD1</th><th>ARHGAP35</th><th>IRF3</th><th>IRF5</th><th>ALX4</th><th>STAT2</th><th>IRF7</th><th>KLF4</th><th>IRF9</th><th>AHRR</th><th>AEBP1</th><th>SOX2</th><th>THAP11</th><th>IRF6</th><th>ARID1A</th><th>ADNP2</th><th>APBB1</th><th>unannotated_1</th></tr><tr><td>str</td><td>f64</td><td>f64</td><td>f64</td><td>f64</td><td>f64</td><td>f64</td><td>f64</td><td>f64</td><td>f64</td><td>f64</td><td>f64</td><td>f64</td><td>f64</td><td>f64</td><td>f64</td><td>f64</td><td>f64</td><td>f64</td><td>f64</td><td>f64</td><td>f64</td><td>f64</td><td>f64</td><td>f64</td><td>f64</td><td>f64</td><td>f64</td><td>f64</td><td>f64</td><td>f64</td><td>i32</td></tr></thead><tbody><tr><td>&quot;IL2&quot;</td><td>1.0</td><td>1.0</td><td>0.0</td><td>0.0</td><td>1.0</td><td>1.0</td><td>0.0</td><td>0.0</td><td>0.0</td><td>0.0</td><td>0.0</td><td>0.0</td><td>1.0</td><td>0.0</td><td>0.0</td><td>0.0</td><td>0.0</td><td>0.0</td><td>0.0</td><td>0.0</td><td>0.0</td><td>0.0</td><td>0.0</td><td>0.0</td><td>0.0</td><td>0.0</td><td>0.0</td><td>0.0</td><td>0.0</td><td>0.0</td><td>1</td></tr><tr><td>&quot;IRF1&quot;</td><td>1.0</td><td>1.0</td><td>1.0</td><td>1.0</td><td>1.0</td><td>0.0</td><td>0.0</td><td>1.0</td><td>1.0</td><td>1.0</td><td>1.0</td><td>0.0</td><td>1.0</td><td>0.0</td><td>0.0</td><td>1.0</td><td>0.0</td><td>0.0</td><td>1.0</td><td>0.0</td><td>0.0</td><td>0.0</td><td>0.0</td><td>0.0</td><td>0.0</td><td>0.0</td><td>0.0</td><td>0.0</td><td>0.0</td><td>0.0</td><td>1</td></tr><tr><td>&quot;CCND1&quot;</td><td>1.0</td><td>1.0</td><td>0.0</td><td>1.0</td><td>1.0</td><td>0.0</td><td>1.0</td><td>0.0</td><td>1.0</td><td>0.0</td><td>0.0</td><td>0.0</td><td>0.0</td><td>1.0</td><td>0.0</td><td>0.0</td><td>0.0</td><td>0.0</td><td>0.0</td><td>0.0</td><td>1.0</td><td>0.0</td><td>0.0</td><td>0.0</td><td>1.0</td><td>1.0</td><td>0.0</td><td>0.0</td><td>0.0</td><td>0.0</td><td>1</td></tr><tr><td>&quot;PRF1&quot;</td><td>1.0</td><td>1.0</td><td>1.0</td><td>0.0</td><td>1.0</td><td>0.0</td><td>0.0</td><td>0.0</td><td>1.0</td><td>0.0</td><td>0.0</td><td>0.0</td><td>0.0</td><td>0.0</td><td>0.0</td><td>0.0</td><td>0.0</td><td>0.0</td><td>0.0</td><td>0.0</td><td>0.0</td><td>0.0</td><td>0.0</td><td>0.0</td><td>0.0</td><td>0.0</td><td>0.0</td><td>0.0</td><td>0.0</td><td>0.0</td><td>1</td></tr><tr><td>&quot;IFNG&quot;</td><td>1.0</td><td>1.0</td><td>1.0</td><td>1.0</td><td>1.0</td><td>1.0</td><td>0.0</td><td>1.0</td><td>1.0</td><td>1.0</td><td>1.0</td><td>0.0</td><td>1.0</td><td>0.0</td><td>0.0</td><td>1.0</td><td>1.0</td><td>0.0</td><td>1.0</td><td>0.0</td><td>0.0</td><td>1.0</td><td>0.0</td><td>0.0</td><td>0.0</td><td>0.0</td><td>0.0</td><td>0.0</td><td>0.0</td><td>0.0</td><td>1</td></tr><tr><td>&hellip;</td><td>&hellip;</td><td>&hellip;</td><td>&hellip;</td><td>&hellip;</td><td>&hellip;</td><td>&hellip;</td><td>&hellip;</td><td>&hellip;</td><td>&hellip;</td><td>&hellip;</td><td>&hellip;</td><td>&hellip;</td><td>&hellip;</td><td>&hellip;</td><td>&hellip;</td><td>&hellip;</td><td>&hellip;</td><td>&hellip;</td><td>&hellip;</td><td>&hellip;</td><td>&hellip;</td><td>&hellip;</td><td>&hellip;</td><td>&hellip;</td><td>&hellip;</td><td>&hellip;</td><td>&hellip;</td><td>&hellip;</td><td>&hellip;</td><td>&hellip;</td><td>&hellip;</td></tr><tr><td>&quot;ZNF181&quot;</td><td>0.0</td><td>0.0</td><td>0.0</td><td>0.0</td><td>0.0</td><td>0.0</td><td>0.0</td><td>0.0</td><td>1.0</td><td>0.0</td><td>0.0</td><td>0.0</td><td>0.0</td><td>0.0</td><td>0.0</td><td>0.0</td><td>0.0</td><td>0.0</td><td>0.0</td><td>0.0</td><td>0.0</td><td>0.0</td><td>0.0</td><td>0.0</td><td>0.0</td><td>0.0</td><td>0.0</td><td>0.0</td><td>0.0</td><td>0.0</td><td>1</td></tr><tr><td>&quot;ZNF230&quot;</td><td>0.0</td><td>0.0</td><td>0.0</td><td>0.0</td><td>0.0</td><td>0.0</td><td>0.0</td><td>0.0</td><td>1.0</td><td>0.0</td><td>0.0</td><td>0.0</td><td>0.0</td><td>0.0</td><td>0.0</td><td>0.0</td><td>0.0</td><td>0.0</td><td>0.0</td><td>0.0</td><td>0.0</td><td>0.0</td><td>0.0</td><td>0.0</td><td>0.0</td><td>0.0</td><td>0.0</td><td>0.0</td><td>0.0</td><td>0.0</td><td>1</td></tr><tr><td>&quot;ZNF302&quot;</td><td>0.0</td><td>0.0</td><td>0.0</td><td>0.0</td><td>0.0</td><td>0.0</td><td>0.0</td><td>0.0</td><td>1.0</td><td>0.0</td><td>0.0</td><td>0.0</td><td>0.0</td><td>0.0</td><td>0.0</td><td>0.0</td><td>0.0</td><td>0.0</td><td>0.0</td><td>0.0</td><td>0.0</td><td>0.0</td><td>0.0</td><td>0.0</td><td>0.0</td><td>0.0</td><td>0.0</td><td>0.0</td><td>0.0</td><td>0.0</td><td>1</td></tr><tr><td>&quot;ZNF655&quot;</td><td>0.0</td><td>0.0</td><td>0.0</td><td>0.0</td><td>0.0</td><td>0.0</td><td>0.0</td><td>0.0</td><td>1.0</td><td>0.0</td><td>0.0</td><td>0.0</td><td>0.0</td><td>0.0</td><td>0.0</td><td>0.0</td><td>0.0</td><td>0.0</td><td>0.0</td><td>0.0</td><td>0.0</td><td>0.0</td><td>0.0</td><td>0.0</td><td>0.0</td><td>0.0</td><td>0.0</td><td>0.0</td><td>0.0</td><td>0.0</td><td>1</td></tr><tr><td>&quot;PRR5L&quot;</td><td>0.0</td><td>0.0</td><td>0.0</td><td>0.0</td><td>0.0</td><td>1.0</td><td>0.0</td><td>0.0</td><td>0.0</td><td>0.0</td><td>0.0</td><td>0.0</td><td>0.0</td><td>0.0</td><td>0.0</td><td>0.0</td><td>0.0</td><td>0.0</td><td>0.0</td><td>0.0</td><td>0.0</td><td>0.0</td><td>0.0</td><td>0.0</td><td>0.0</td><td>0.0</td><td>0.0</td><td>0.0</td><td>0.0</td><td>0.0</td><td>1</td></tr></tbody></table></div>"
      ],
      "text/plain": [
       "shape: (471, 32)\n",
       "┌────────┬────────┬────────┬───────┬───┬────────┬───────┬───────┬───────────────┐\n",
       "│ target ┆ STAT5A ┆ STAT5B ┆ STAT4 ┆ … ┆ ARID1A ┆ ADNP2 ┆ APBB1 ┆ unannotated_1 │\n",
       "│ ---    ┆ ---    ┆ ---    ┆ ---   ┆   ┆ ---    ┆ ---   ┆ ---   ┆ ---           │\n",
       "│ str    ┆ f64    ┆ f64    ┆ f64   ┆   ┆ f64    ┆ f64   ┆ f64   ┆ i32           │\n",
       "╞════════╪════════╪════════╪═══════╪═══╪════════╪═══════╪═══════╪═══════════════╡\n",
       "│ IL2    ┆ 1.0    ┆ 1.0    ┆ 0.0   ┆ … ┆ 0.0    ┆ 0.0   ┆ 0.0   ┆ 1             │\n",
       "│ IRF1   ┆ 1.0    ┆ 1.0    ┆ 1.0   ┆ … ┆ 0.0    ┆ 0.0   ┆ 0.0   ┆ 1             │\n",
       "│ CCND1  ┆ 1.0    ┆ 1.0    ┆ 0.0   ┆ … ┆ 0.0    ┆ 0.0   ┆ 0.0   ┆ 1             │\n",
       "│ PRF1   ┆ 1.0    ┆ 1.0    ┆ 1.0   ┆ … ┆ 0.0    ┆ 0.0   ┆ 0.0   ┆ 1             │\n",
       "│ IFNG   ┆ 1.0    ┆ 1.0    ┆ 1.0   ┆ … ┆ 0.0    ┆ 0.0   ┆ 0.0   ┆ 1             │\n",
       "│ …      ┆ …      ┆ …      ┆ …     ┆ … ┆ …      ┆ …     ┆ …     ┆ …             │\n",
       "│ ZNF181 ┆ 0.0    ┆ 0.0    ┆ 0.0   ┆ … ┆ 0.0    ┆ 0.0   ┆ 0.0   ┆ 1             │\n",
       "│ ZNF230 ┆ 0.0    ┆ 0.0    ┆ 0.0   ┆ … ┆ 0.0    ┆ 0.0   ┆ 0.0   ┆ 1             │\n",
       "│ ZNF302 ┆ 0.0    ┆ 0.0    ┆ 0.0   ┆ … ┆ 0.0    ┆ 0.0   ┆ 0.0   ┆ 1             │\n",
       "│ ZNF655 ┆ 0.0    ┆ 0.0    ┆ 0.0   ┆ … ┆ 0.0    ┆ 0.0   ┆ 0.0   ┆ 1             │\n",
       "│ PRR5L  ┆ 0.0    ┆ 0.0    ┆ 0.0   ┆ … ┆ 0.0    ┆ 0.0   ┆ 0.0   ┆ 1             │\n",
       "└────────┴────────┴────────┴───────┴───┴────────┴───────┴───────┴───────────────┘"
      ]
     },
     "execution_count": 4,
     "metadata": {},
     "output_type": "execute_result"
    }
   ],
   "source": [
    "mask"
   ]
  },
  {
   "cell_type": "code",
   "execution_count": 8,
   "id": "8898fe42",
   "metadata": {},
   "outputs": [
    {
     "name": "stdout",
     "output_type": "stream",
     "text": [
      "epoch:  0  train_loss:  113.03845   valid_loss:  93.520485\n",
      "epoch:  10  train_loss:  48.92899   valid_loss:  37.891956\n",
      "epoch:  20  train_loss:  44.352077   valid_loss:  35.37486\n",
      "epoch:  0  train_loss:  109.34229   valid_loss:  86.87133\n",
      "epoch:  10  train_loss:  47.762432   valid_loss:  37.00459\n",
      "epoch:  20  train_loss:  42.899746   valid_loss:  35.05467\n",
      "epoch:  0  train_loss:  115.56035   valid_loss:  96.260574\n",
      "epoch:  10  train_loss:  49.728848   valid_loss:  40.65053\n",
      "epoch:  20  train_loss:  44.375546   valid_loss:  36.232616\n",
      "epoch:  0  train_loss:  112.56797   valid_loss:  91.58539\n",
      "epoch:  10  train_loss:  48.88992   valid_loss:  39.691\n",
      "epoch:  20  train_loss:  43.051384   valid_loss:  35.47816\n",
      "epoch:  0  train_loss:  112.14052   valid_loss:  89.61753\n",
      "epoch:  10  train_loss:  49.29163   valid_loss:  38.18098\n",
      "epoch:  20  train_loss:  44.19376   valid_loss:  35.91959\n",
      "epoch:  0  train_loss:  113.50017   valid_loss:  90.57658\n",
      "epoch:  10  train_loss:  49.198112   valid_loss:  39.91282\n",
      "epoch:  20  train_loss:  43.80288   valid_loss:  36.088047\n",
      "epoch:  0  train_loss:  114.325356   valid_loss:  91.362686\n",
      "epoch:  10  train_loss:  48.29891   valid_loss:  37.130405\n",
      "epoch:  20  train_loss:  42.82938   valid_loss:  35.11418\n",
      "epoch:  0  train_loss:  113.953674   valid_loss:  93.006096\n",
      "epoch:  10  train_loss:  49.19062   valid_loss:  38.906643\n",
      "epoch:  20  train_loss:  43.303444   valid_loss:  34.784695\n",
      "epoch:  0  train_loss:  112.872086   valid_loss:  92.775696\n",
      "epoch:  10  train_loss:  48.457973   valid_loss:  38.488834\n",
      "epoch:  20  train_loss:  42.953472   valid_loss:  34.873787\n",
      "epoch:  0  train_loss:  111.03444   valid_loss:  89.44451\n",
      "epoch:  10  train_loss:  52.054104   valid_loss:  41.917656\n",
      "epoch:  20  train_loss:  45.412086   valid_loss:  36.52767\n"
     ]
    },
    {
     "data": {
      "text/plain": [
       "(VEGA(\n",
       "   (decoder): DecoderVEGA(\n",
       "     (sparse_layer): Sequential(\n",
       "       (0): SparseLayer()\n",
       "     )\n",
       "   )\n",
       "   (encoder): Encoder(\n",
       "     (encoder): Sequential(\n",
       "       (0): Linear(in_features=471, out_features=800, bias=True)\n",
       "       (1): ReLU()\n",
       "       (2): Dropout(p=0.3, inplace=False)\n",
       "       (3): Linear(in_features=800, out_features=800, bias=True)\n",
       "       (4): ReLU()\n",
       "       (5): Dropout(p=0.3, inplace=False)\n",
       "     )\n",
       "     (mu): Sequential(\n",
       "       (0): Linear(in_features=800, out_features=31, bias=True)\n",
       "       (1): Dropout(p=0.5, inplace=False)\n",
       "     )\n",
       "     (sigma): Sequential(\n",
       "       (0): Linear(in_features=800, out_features=31, bias=True)\n",
       "       (1): Dropout(p=0.5, inplace=False)\n",
       "     )\n",
       "   )\n",
       " ),\n",
       "           STAT5A    STAT5B     STAT4      IRF1     STAT3     RUNX1     GTF2I  \\\n",
       " IL2    -0.000010 -0.000012  0.000000  0.000000 -0.000050  0.000094  0.000000   \n",
       " IRF1    0.000601  0.002115  0.003117 -0.001094 -0.000919  0.000000  0.000000   \n",
       " CCND1  -0.000261 -0.000023  0.000000  0.000031  0.000014  0.000000  0.000569   \n",
       " PRF1    0.007221  0.030589  0.037984  0.000000  0.000226  0.000000  0.000000   \n",
       " IFNG    0.000192  0.001530  0.001687 -0.000165 -0.000098 -0.000920  0.000000   \n",
       " ...          ...       ...       ...       ...       ...       ...       ...   \n",
       " ZNF181  0.000000  0.000000  0.000000  0.000000  0.000000  0.000000  0.000000   \n",
       " ZNF230  0.000000  0.000000  0.000000  0.000000  0.000000  0.000000  0.000000   \n",
       " ZNF302  0.000000  0.000000  0.000000  0.000000  0.000000  0.000000  0.000000   \n",
       " ZNF655  0.000000  0.000000  0.000000  0.000000  0.000000  0.000000  0.000000   \n",
       " PRR5L   0.000000  0.000000  0.000000  0.000000  0.000000 -0.000581  0.000000   \n",
       " \n",
       "             IRF2     STAT1      IRF8  ...      IRF9  AHRR  AEBP1      SOX2  \\\n",
       " IL2     0.000000  0.000000  0.000000  ...  0.000000   0.0    0.0  0.000000   \n",
       " IRF1    0.003987 -0.000450 -0.002160  ...  0.000000   0.0    0.0  0.000000   \n",
       " CCND1   0.000000  0.000004  0.000000  ...  0.000000   0.0    0.0 -0.000015   \n",
       " PRF1    0.000000 -0.001563  0.000000  ...  0.000000   0.0    0.0  0.000000   \n",
       " IFNG    0.000456 -0.000103 -0.000483  ...  0.000644   0.0    0.0  0.000000   \n",
       " ...          ...       ...       ...  ...       ...   ...    ...       ...   \n",
       " ZNF181  0.000000 -0.000242  0.000000  ...  0.000000   0.0    0.0  0.000000   \n",
       " ZNF230  0.000000 -0.000355  0.000000  ...  0.000000   0.0    0.0  0.000000   \n",
       " ZNF302  0.000000 -0.000520  0.000000  ...  0.000000   0.0    0.0  0.000000   \n",
       " ZNF655  0.000000 -0.000452  0.000000  ...  0.000000   0.0    0.0  0.000000   \n",
       " PRR5L   0.000000  0.000000  0.000000  ...  0.000000   0.0    0.0  0.000000   \n",
       " \n",
       "           THAP11  IRF6  ARID1A  ADNP2  APBB1  unannotated_1  \n",
       " IL2     0.000000   0.0     0.0    0.0    0.0      -0.000047  \n",
       " IRF1    0.000000   0.0     0.0    0.0    0.0      -0.001794  \n",
       " CCND1   0.000385   0.0     0.0    0.0    0.0       0.000068  \n",
       " PRF1    0.000000   0.0     0.0    0.0    0.0      -0.008704  \n",
       " IFNG    0.000000   0.0     0.0    0.0    0.0      -0.000290  \n",
       " ...          ...   ...     ...    ...    ...            ...  \n",
       " ZNF181  0.000000   0.0     0.0    0.0    0.0      -0.000054  \n",
       " ZNF230  0.000000   0.0     0.0    0.0    0.0      -0.000187  \n",
       " ZNF302  0.000000   0.0     0.0    0.0    0.0       0.000629  \n",
       " ZNF655  0.000000   0.0     0.0    0.0    0.0       0.000139  \n",
       " PRR5L   0.000000   0.0     0.0    0.0    0.0      -0.000441  \n",
       " \n",
       " [471 rows x 31 columns],\n",
       "           STAT5A    STAT5B     STAT4      IRF1     STAT3     RUNX1     GTF2I  \\\n",
       " IL2     0.000192  0.000112  0.000000  0.000000  0.000476  0.000343  0.000000   \n",
       " IRF1    0.005739  0.002908  0.005334  0.001497  0.002319  0.000000  0.000000   \n",
       " CCND1   0.000277  0.000291  0.000000  0.000447  0.000374  0.000000  0.001218   \n",
       " PRF1    0.021959  0.043821  0.042768  0.000000  0.008913  0.000000  0.000000   \n",
       " IFNG    0.000926  0.002767  0.002242  0.000661  0.001338  0.001505  0.000000   \n",
       " ...          ...       ...       ...       ...       ...       ...       ...   \n",
       " ZNF181  0.000000  0.000000  0.000000  0.000000  0.000000  0.000000  0.000000   \n",
       " ZNF230  0.000000  0.000000  0.000000  0.000000  0.000000  0.000000  0.000000   \n",
       " ZNF302  0.000000  0.000000  0.000000  0.000000  0.000000  0.000000  0.000000   \n",
       " ZNF655  0.000000  0.000000  0.000000  0.000000  0.000000  0.000000  0.000000   \n",
       " PRR5L   0.000000  0.000000  0.000000  0.000000  0.000000  0.000541  0.000000   \n",
       " \n",
       "             IRF2     STAT1      IRF8  ...     IRF9  AHRR  AEBP1      SOX2  \\\n",
       " IL2     0.000000  0.000000  0.000000  ...  0.00000   0.0    0.0  0.000000   \n",
       " IRF1    0.002676  0.002346  0.003680  ...  0.00000   0.0    0.0  0.000000   \n",
       " CCND1   0.000000  0.000256  0.000000  ...  0.00000   0.0    0.0  0.000726   \n",
       " PRF1    0.000000  0.004971  0.000000  ...  0.00000   0.0    0.0  0.000000   \n",
       " IFNG    0.001368  0.000882  0.000981  ...  0.00183   0.0    0.0  0.000000   \n",
       " ...          ...       ...       ...  ...      ...   ...    ...       ...   \n",
       " ZNF181  0.000000  0.000908  0.000000  ...  0.00000   0.0    0.0  0.000000   \n",
       " ZNF230  0.000000  0.000752  0.000000  ...  0.00000   0.0    0.0  0.000000   \n",
       " ZNF302  0.000000  0.001497  0.000000  ...  0.00000   0.0    0.0  0.000000   \n",
       " ZNF655  0.000000  0.002089  0.000000  ...  0.00000   0.0    0.0  0.000000   \n",
       " PRR5L   0.000000  0.000000  0.000000  ...  0.00000   0.0    0.0  0.000000   \n",
       " \n",
       "           THAP11  IRF6  ARID1A  ADNP2  APBB1  unannotated_1  \n",
       " IL2     0.000000   0.0     0.0    0.0    0.0       0.000229  \n",
       " IRF1    0.000000   0.0     0.0    0.0    0.0       0.002177  \n",
       " CCND1   0.001115   0.0     0.0    0.0    0.0       0.000915  \n",
       " PRF1    0.000000   0.0     0.0    0.0    0.0       0.012312  \n",
       " IFNG    0.000000   0.0     0.0    0.0    0.0       0.001299  \n",
       " ...          ...   ...     ...    ...    ...            ...  \n",
       " ZNF181  0.000000   0.0     0.0    0.0    0.0       0.001259  \n",
       " ZNF230  0.000000   0.0     0.0    0.0    0.0       0.000931  \n",
       " ZNF302  0.000000   0.0     0.0    0.0    0.0       0.003052  \n",
       " ZNF655  0.000000   0.0     0.0    0.0    0.0       0.001553  \n",
       " PRR5L   0.000000   0.0     0.0    0.0    0.0       0.000995  \n",
       " \n",
       " [471 rows x 31 columns])"
      ]
     },
     "execution_count": 8,
     "metadata": {},
     "output_type": "execute_result"
    }
   ],
   "source": [
    "from training.training import run_vega_model\n",
    "run_vega_model(\n",
    "    model_type=\"vega\",\n",
    "    train_data=train,\n",
    "    valid_data=valid,\n",
    "    mask_df=mask,\n",
    "    epochs=30,\n",
    "    N=10,\n",
    "    cond=\"stimulated\"\n",
    ")"
   ]
  }
 ],
 "metadata": {
  "kernelspec": {
   "display_name": ".venv",
   "language": "python",
   "name": "python3"
  },
  "language_info": {
   "codemirror_mode": {
    "name": "ipython",
    "version": 3
   },
   "file_extension": ".py",
   "mimetype": "text/x-python",
   "name": "python",
   "nbconvert_exporter": "python",
   "pygments_lexer": "ipython3",
   "version": "3.13.3"
  }
 },
 "nbformat": 4,
 "nbformat_minor": 5
}
