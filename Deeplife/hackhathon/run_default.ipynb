{
 "cells": [
  {
   "cell_type": "markdown",
   "id": "a78ab4c7",
   "metadata": {},
   "source": [
    "### Data"
   ]
  },
  {
   "cell_type": "code",
   "execution_count": 9,
   "id": "33b993af",
   "metadata": {},
   "outputs": [
    {
     "name": "stdout",
     "output_type": "stream",
     "text": [
      "Printing mask:\n",
      "shape: (357, 16)\n",
      "┌─────────┬────────┬────────┬───────┬───┬───────┬──────┬──────┬───────────────┐\n",
      "│ target  ┆ STAT5A ┆ STAT5B ┆ STAT4 ┆ … ┆ STAT2 ┆ IRF7 ┆ IRF9 ┆ unannotated_1 │\n",
      "│ ---     ┆ ---    ┆ ---    ┆ ---   ┆   ┆ ---   ┆ ---  ┆ ---  ┆ ---           │\n",
      "│ str     ┆ f64    ┆ f64    ┆ f64   ┆   ┆ f64   ┆ f64  ┆ f64  ┆ i32           │\n",
      "╞═════════╪════════╪════════╪═══════╪═══╪═══════╪══════╪══════╪═══════════════╡\n",
      "│ IL2     ┆ 1.0    ┆ 1.0    ┆ 0.0   ┆ … ┆ 0.0   ┆ 0.0  ┆ 0.0  ┆ 1             │\n",
      "│ IRF1    ┆ 1.0    ┆ 1.0    ┆ 1.0   ┆ … ┆ 1.0   ┆ 0.0  ┆ 0.0  ┆ 1             │\n",
      "│ CCND1   ┆ 1.0    ┆ 1.0    ┆ 0.0   ┆ … ┆ 0.0   ┆ 0.0  ┆ 0.0  ┆ 1             │\n",
      "│ PRF1    ┆ 1.0    ┆ 1.0    ┆ 1.0   ┆ … ┆ 0.0   ┆ 0.0  ┆ 0.0  ┆ 1             │\n",
      "│ IFNG    ┆ 1.0    ┆ 1.0    ┆ 1.0   ┆ … ┆ 1.0   ┆ 0.0  ┆ 1.0  ┆ 1             │\n",
      "│ …       ┆ …      ┆ …      ┆ …     ┆ … ┆ …     ┆ …    ┆ …    ┆ …             │\n",
      "│ ZC3HAV1 ┆ 0.0    ┆ 0.0    ┆ 0.0   ┆ … ┆ 0.0   ┆ 0.0  ┆ 0.0  ┆ 1             │\n",
      "│ ZNF181  ┆ 0.0    ┆ 0.0    ┆ 0.0   ┆ … ┆ 0.0   ┆ 0.0  ┆ 0.0  ┆ 1             │\n",
      "│ ZNF230  ┆ 0.0    ┆ 0.0    ┆ 0.0   ┆ … ┆ 0.0   ┆ 0.0  ┆ 0.0  ┆ 1             │\n",
      "│ ZNF302  ┆ 0.0    ┆ 0.0    ┆ 0.0   ┆ … ┆ 0.0   ┆ 0.0  ┆ 0.0  ┆ 1             │\n",
      "│ ZNF655  ┆ 0.0    ┆ 0.0    ┆ 0.0   ┆ … ┆ 0.0   ┆ 0.0  ┆ 0.0  ┆ 1             │\n",
      "└─────────┴────────┴────────┴───────┴───┴───────┴──────┴──────┴───────────────┘\n",
      "\n",
      "Printing train:\n",
      "AnnData object with n_obs × n_vars = 13515 × 357\n",
      "    obs: 'condition', 'n_counts', 'n_genes', 'mt_frac', 'cell_type'\n",
      "    var: 'gene_symbol', 'n_cells'\n",
      "    uns: 'cell_type_colors', 'condition_colors', 'neighbors'\n",
      "    obsm: 'X_pca', 'X_tsne', 'X_umap'\n",
      "    obsp: 'connectivities', 'distances'\n",
      "\n",
      "Printing valid:\n",
      "AnnData object with n_obs × n_vars = 3378 × 357\n",
      "    obs: 'condition', 'n_counts', 'n_genes', 'mt_frac', 'cell_type'\n",
      "    var: 'gene_symbol', 'n_cells'\n",
      "    uns: 'cell_type_colors', 'condition_colors', 'neighbors'\n",
      "    obsm: 'X_pca', 'X_tsne', 'X_umap'\n",
      "    obsp: 'connectivities', 'distances'\n"
     ]
    }
   ],
   "source": [
    "from data_and_mask import mask, train, valid\n",
    "# This will print:\n",
    "# 1. The 'mask' DataFrame (shape: 357 rows × 16 columns, polars DataFrame)\n",
    "# 2. The 'train' AnnData object (n_obs=13515, n_vars=357)\n",
    "# 3. The 'valid' AnnData object (n_obs=3378, n_vars=357)\n",
    "print(\"Printing mask:\")\n",
    "print(mask)\n",
    "print(\"\\nPrinting train:\")\n",
    "print(train)\n",
    "print(\"\\nPrinting valid:\")\n",
    "print(valid)"
   ]
  }
 ],
 "metadata": {
  "kernelspec": {
   "display_name": ".venv",
   "language": "python",
   "name": "python3"
  },
  "language_info": {
   "codemirror_mode": {
    "name": "ipython",
    "version": 3
   },
   "file_extension": ".py",
   "mimetype": "text/x-python",
   "name": "python",
   "nbconvert_exporter": "python",
   "pygments_lexer": "ipython3",
   "version": "3.13.3"
  }
 },
 "nbformat": 4,
 "nbformat_minor": 5
}
