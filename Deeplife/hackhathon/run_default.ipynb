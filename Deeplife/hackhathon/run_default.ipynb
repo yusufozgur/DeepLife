{
 "cells": [
  {
   "cell_type": "markdown",
   "id": "ff0845d0",
   "metadata": {},
   "source": [
    "needed to reload modules, otherwise you will have nan errors"
   ]
  },
  {
   "cell_type": "code",
   "execution_count": 1,
   "id": "5c83b151",
   "metadata": {},
   "outputs": [],
   "source": [
    "#%load_ext autoreload\n",
    "#%autoreload 2"
   ]
  },
  {
   "cell_type": "markdown",
   "id": "a78ab4c7",
   "metadata": {},
   "source": [
    "### Data"
   ]
  },
  {
   "cell_type": "code",
   "execution_count": 2,
   "id": "33b993af",
   "metadata": {},
   "outputs": [
    {
     "name": "stdout",
     "output_type": "stream",
     "text": [
      "Printing mask:\n",
      "shape: (471, 32)\n",
      "┌────────┬────────┬────────┬───────┬───┬────────┬───────┬───────┬───────────────┐\n",
      "│ target ┆ STAT5A ┆ STAT5B ┆ STAT4 ┆ … ┆ ARID1A ┆ ADNP2 ┆ APBB1 ┆ unannotated_1 │\n",
      "│ ---    ┆ ---    ┆ ---    ┆ ---   ┆   ┆ ---    ┆ ---   ┆ ---   ┆ ---           │\n",
      "│ str    ┆ f64    ┆ f64    ┆ f64   ┆   ┆ f64    ┆ f64   ┆ f64   ┆ i32           │\n",
      "╞════════╪════════╪════════╪═══════╪═══╪════════╪═══════╪═══════╪═══════════════╡\n",
      "│ IL2    ┆ 1.0    ┆ 1.0    ┆ 0.0   ┆ … ┆ 0.0    ┆ 0.0   ┆ 0.0   ┆ 1             │\n",
      "│ IRF1   ┆ 1.0    ┆ 1.0    ┆ 1.0   ┆ … ┆ 0.0    ┆ 0.0   ┆ 0.0   ┆ 1             │\n",
      "│ CCND1  ┆ 1.0    ┆ 1.0    ┆ 0.0   ┆ … ┆ 0.0    ┆ 0.0   ┆ 0.0   ┆ 1             │\n",
      "│ PRF1   ┆ 1.0    ┆ 1.0    ┆ 1.0   ┆ … ┆ 0.0    ┆ 0.0   ┆ 0.0   ┆ 1             │\n",
      "│ IFNG   ┆ 1.0    ┆ 1.0    ┆ 1.0   ┆ … ┆ 0.0    ┆ 0.0   ┆ 0.0   ┆ 1             │\n",
      "│ …      ┆ …      ┆ …      ┆ …     ┆ … ┆ …      ┆ …     ┆ …     ┆ …             │\n",
      "│ ZNF181 ┆ 0.0    ┆ 0.0    ┆ 0.0   ┆ … ┆ 0.0    ┆ 0.0   ┆ 0.0   ┆ 1             │\n",
      "│ ZNF230 ┆ 0.0    ┆ 0.0    ┆ 0.0   ┆ … ┆ 0.0    ┆ 0.0   ┆ 0.0   ┆ 1             │\n",
      "│ ZNF302 ┆ 0.0    ┆ 0.0    ┆ 0.0   ┆ … ┆ 0.0    ┆ 0.0   ┆ 0.0   ┆ 1             │\n",
      "│ ZNF655 ┆ 0.0    ┆ 0.0    ┆ 0.0   ┆ … ┆ 0.0    ┆ 0.0   ┆ 0.0   ┆ 1             │\n",
      "│ PRR5L  ┆ 0.0    ┆ 0.0    ┆ 0.0   ┆ … ┆ 0.0    ┆ 0.0   ┆ 0.0   ┆ 1             │\n",
      "└────────┴────────┴────────┴───────┴───┴────────┴───────┴───────┴───────────────┘\n",
      "\n",
      "Printing train:\n",
      "AnnData object with n_obs × n_vars = 13515 × 471\n",
      "    obs: 'condition', 'n_counts', 'n_genes', 'mt_frac', 'cell_type'\n",
      "    var: 'gene_symbol', 'n_cells'\n",
      "    uns: 'cell_type_colors', 'condition_colors', 'neighbors'\n",
      "    obsm: 'X_pca', 'X_tsne', 'X_umap'\n",
      "    obsp: 'connectivities', 'distances'\n",
      "\n",
      "Printing valid:\n",
      "AnnData object with n_obs × n_vars = 3378 × 471\n",
      "    obs: 'condition', 'n_counts', 'n_genes', 'mt_frac', 'cell_type'\n",
      "    var: 'gene_symbol', 'n_cells'\n",
      "    uns: 'cell_type_colors', 'condition_colors', 'neighbors'\n",
      "    obsm: 'X_pca', 'X_tsne', 'X_umap'\n",
      "    obsp: 'connectivities', 'distances'\n"
     ]
    }
   ],
   "source": [
    "from data_process_and_get_mask import create_mask\n",
    "from get_data import pbmc_train, pbmc_val\n",
    "\n",
    "tf_list = ['IRF1', 'IRF2', 'IRF2BPL', 'IRF3', 'IRF4', 'IRF5', 'IRF6', 'IRF7',\n",
    "       'IRF8', 'IRF9', 'STAT1', 'STAT2', 'STAT3', 'STAT4', 'STAT5A',\n",
    "       'STAT5B','STAT6','GTF2I','RUNX1', 'MYOD1', 'SOX2','KLF4', 'THAP11','ADNP2', 'AEBP1','AHRR', 'ALX4','APBB1','APEX1', 'ARHGAP35','ARID1A']\n",
    "\n",
    "#['IRF1', 'IRF2', 'IRF2BPL', 'IRF3', 'IRF4', 'IRF5', 'IRF6', 'IRF7', 'IRF8', 'IRF9', 'STAT1', 'STAT2', 'STAT3', 'STAT4', 'STAT5A','STAT5B', 'STAT6']\n",
    "#[\"GTF2I\",\"GTF3A\",\"NRF1\",\"ELF1\",\"STAT1\",\"STAT2\",\"IRF9\",\"STAT3\",\"STAT4\",\"STAT5A\",\"STAT5B\",\"IRF3\",\"IRF7\",\"IRF1\",\"IRF5\",\"IRF8\"]\n",
    "\n",
    "mask, train, valid = create_mask(pbmc_train, pbmc_val, tf_list)\n",
    "print(\"Printing mask:\")\n",
    "print(mask)\n",
    "print(\"\\nPrinting train:\")\n",
    "print(train)\n",
    "print(\"\\nPrinting valid:\")\n",
    "print(valid)"
   ]
  },
  {
   "cell_type": "markdown",
   "id": "0cf550af",
   "metadata": {},
   "source": [
    "now use the common training functions"
   ]
  },
  {
   "cell_type": "code",
   "execution_count": 3,
   "id": "900ae080",
   "metadata": {},
   "outputs": [
    {
     "data": {
      "text/html": [
       "<div><style>\n",
       ".dataframe > thead > tr,\n",
       ".dataframe > tbody > tr {\n",
       "  text-align: right;\n",
       "  white-space: pre-wrap;\n",
       "}\n",
       "</style>\n",
       "<small>shape: (471, 32)</small><table border=\"1\" class=\"dataframe\"><thead><tr><th>target</th><th>STAT5A</th><th>STAT5B</th><th>STAT4</th><th>IRF1</th><th>STAT3</th><th>RUNX1</th><th>GTF2I</th><th>IRF2</th><th>STAT1</th><th>IRF8</th><th>STAT6</th><th>APEX1</th><th>IRF4</th><th>MYOD1</th><th>ARHGAP35</th><th>IRF3</th><th>IRF5</th><th>ALX4</th><th>STAT2</th><th>IRF7</th><th>KLF4</th><th>IRF9</th><th>AHRR</th><th>AEBP1</th><th>SOX2</th><th>THAP11</th><th>IRF6</th><th>ARID1A</th><th>ADNP2</th><th>APBB1</th><th>unannotated_1</th></tr><tr><td>str</td><td>f64</td><td>f64</td><td>f64</td><td>f64</td><td>f64</td><td>f64</td><td>f64</td><td>f64</td><td>f64</td><td>f64</td><td>f64</td><td>f64</td><td>f64</td><td>f64</td><td>f64</td><td>f64</td><td>f64</td><td>f64</td><td>f64</td><td>f64</td><td>f64</td><td>f64</td><td>f64</td><td>f64</td><td>f64</td><td>f64</td><td>f64</td><td>f64</td><td>f64</td><td>f64</td><td>i32</td></tr></thead><tbody><tr><td>&quot;IL2&quot;</td><td>1.0</td><td>1.0</td><td>0.0</td><td>0.0</td><td>1.0</td><td>1.0</td><td>0.0</td><td>0.0</td><td>0.0</td><td>0.0</td><td>0.0</td><td>0.0</td><td>1.0</td><td>0.0</td><td>0.0</td><td>0.0</td><td>0.0</td><td>0.0</td><td>0.0</td><td>0.0</td><td>0.0</td><td>0.0</td><td>0.0</td><td>0.0</td><td>0.0</td><td>0.0</td><td>0.0</td><td>0.0</td><td>0.0</td><td>0.0</td><td>1</td></tr><tr><td>&quot;IRF1&quot;</td><td>1.0</td><td>1.0</td><td>1.0</td><td>1.0</td><td>1.0</td><td>0.0</td><td>0.0</td><td>1.0</td><td>1.0</td><td>1.0</td><td>1.0</td><td>0.0</td><td>1.0</td><td>0.0</td><td>0.0</td><td>1.0</td><td>0.0</td><td>0.0</td><td>1.0</td><td>0.0</td><td>0.0</td><td>0.0</td><td>0.0</td><td>0.0</td><td>0.0</td><td>0.0</td><td>0.0</td><td>0.0</td><td>0.0</td><td>0.0</td><td>1</td></tr><tr><td>&quot;CCND1&quot;</td><td>1.0</td><td>1.0</td><td>0.0</td><td>1.0</td><td>1.0</td><td>0.0</td><td>1.0</td><td>0.0</td><td>1.0</td><td>0.0</td><td>0.0</td><td>0.0</td><td>0.0</td><td>1.0</td><td>0.0</td><td>0.0</td><td>0.0</td><td>0.0</td><td>0.0</td><td>0.0</td><td>1.0</td><td>0.0</td><td>0.0</td><td>0.0</td><td>1.0</td><td>1.0</td><td>0.0</td><td>0.0</td><td>0.0</td><td>0.0</td><td>1</td></tr><tr><td>&quot;PRF1&quot;</td><td>1.0</td><td>1.0</td><td>1.0</td><td>0.0</td><td>1.0</td><td>0.0</td><td>0.0</td><td>0.0</td><td>1.0</td><td>0.0</td><td>0.0</td><td>0.0</td><td>0.0</td><td>0.0</td><td>0.0</td><td>0.0</td><td>0.0</td><td>0.0</td><td>0.0</td><td>0.0</td><td>0.0</td><td>0.0</td><td>0.0</td><td>0.0</td><td>0.0</td><td>0.0</td><td>0.0</td><td>0.0</td><td>0.0</td><td>0.0</td><td>1</td></tr><tr><td>&quot;IFNG&quot;</td><td>1.0</td><td>1.0</td><td>1.0</td><td>1.0</td><td>1.0</td><td>1.0</td><td>0.0</td><td>1.0</td><td>1.0</td><td>1.0</td><td>1.0</td><td>0.0</td><td>1.0</td><td>0.0</td><td>0.0</td><td>1.0</td><td>1.0</td><td>0.0</td><td>1.0</td><td>0.0</td><td>0.0</td><td>1.0</td><td>0.0</td><td>0.0</td><td>0.0</td><td>0.0</td><td>0.0</td><td>0.0</td><td>0.0</td><td>0.0</td><td>1</td></tr><tr><td>&hellip;</td><td>&hellip;</td><td>&hellip;</td><td>&hellip;</td><td>&hellip;</td><td>&hellip;</td><td>&hellip;</td><td>&hellip;</td><td>&hellip;</td><td>&hellip;</td><td>&hellip;</td><td>&hellip;</td><td>&hellip;</td><td>&hellip;</td><td>&hellip;</td><td>&hellip;</td><td>&hellip;</td><td>&hellip;</td><td>&hellip;</td><td>&hellip;</td><td>&hellip;</td><td>&hellip;</td><td>&hellip;</td><td>&hellip;</td><td>&hellip;</td><td>&hellip;</td><td>&hellip;</td><td>&hellip;</td><td>&hellip;</td><td>&hellip;</td><td>&hellip;</td><td>&hellip;</td></tr><tr><td>&quot;ZNF181&quot;</td><td>0.0</td><td>0.0</td><td>0.0</td><td>0.0</td><td>0.0</td><td>0.0</td><td>0.0</td><td>0.0</td><td>1.0</td><td>0.0</td><td>0.0</td><td>0.0</td><td>0.0</td><td>0.0</td><td>0.0</td><td>0.0</td><td>0.0</td><td>0.0</td><td>0.0</td><td>0.0</td><td>0.0</td><td>0.0</td><td>0.0</td><td>0.0</td><td>0.0</td><td>0.0</td><td>0.0</td><td>0.0</td><td>0.0</td><td>0.0</td><td>1</td></tr><tr><td>&quot;ZNF230&quot;</td><td>0.0</td><td>0.0</td><td>0.0</td><td>0.0</td><td>0.0</td><td>0.0</td><td>0.0</td><td>0.0</td><td>1.0</td><td>0.0</td><td>0.0</td><td>0.0</td><td>0.0</td><td>0.0</td><td>0.0</td><td>0.0</td><td>0.0</td><td>0.0</td><td>0.0</td><td>0.0</td><td>0.0</td><td>0.0</td><td>0.0</td><td>0.0</td><td>0.0</td><td>0.0</td><td>0.0</td><td>0.0</td><td>0.0</td><td>0.0</td><td>1</td></tr><tr><td>&quot;ZNF302&quot;</td><td>0.0</td><td>0.0</td><td>0.0</td><td>0.0</td><td>0.0</td><td>0.0</td><td>0.0</td><td>0.0</td><td>1.0</td><td>0.0</td><td>0.0</td><td>0.0</td><td>0.0</td><td>0.0</td><td>0.0</td><td>0.0</td><td>0.0</td><td>0.0</td><td>0.0</td><td>0.0</td><td>0.0</td><td>0.0</td><td>0.0</td><td>0.0</td><td>0.0</td><td>0.0</td><td>0.0</td><td>0.0</td><td>0.0</td><td>0.0</td><td>1</td></tr><tr><td>&quot;ZNF655&quot;</td><td>0.0</td><td>0.0</td><td>0.0</td><td>0.0</td><td>0.0</td><td>0.0</td><td>0.0</td><td>0.0</td><td>1.0</td><td>0.0</td><td>0.0</td><td>0.0</td><td>0.0</td><td>0.0</td><td>0.0</td><td>0.0</td><td>0.0</td><td>0.0</td><td>0.0</td><td>0.0</td><td>0.0</td><td>0.0</td><td>0.0</td><td>0.0</td><td>0.0</td><td>0.0</td><td>0.0</td><td>0.0</td><td>0.0</td><td>0.0</td><td>1</td></tr><tr><td>&quot;PRR5L&quot;</td><td>0.0</td><td>0.0</td><td>0.0</td><td>0.0</td><td>0.0</td><td>1.0</td><td>0.0</td><td>0.0</td><td>0.0</td><td>0.0</td><td>0.0</td><td>0.0</td><td>0.0</td><td>0.0</td><td>0.0</td><td>0.0</td><td>0.0</td><td>0.0</td><td>0.0</td><td>0.0</td><td>0.0</td><td>0.0</td><td>0.0</td><td>0.0</td><td>0.0</td><td>0.0</td><td>0.0</td><td>0.0</td><td>0.0</td><td>0.0</td><td>1</td></tr></tbody></table></div>"
      ],
      "text/plain": [
       "shape: (471, 32)\n",
       "┌────────┬────────┬────────┬───────┬───┬────────┬───────┬───────┬───────────────┐\n",
       "│ target ┆ STAT5A ┆ STAT5B ┆ STAT4 ┆ … ┆ ARID1A ┆ ADNP2 ┆ APBB1 ┆ unannotated_1 │\n",
       "│ ---    ┆ ---    ┆ ---    ┆ ---   ┆   ┆ ---    ┆ ---   ┆ ---   ┆ ---           │\n",
       "│ str    ┆ f64    ┆ f64    ┆ f64   ┆   ┆ f64    ┆ f64   ┆ f64   ┆ i32           │\n",
       "╞════════╪════════╪════════╪═══════╪═══╪════════╪═══════╪═══════╪═══════════════╡\n",
       "│ IL2    ┆ 1.0    ┆ 1.0    ┆ 0.0   ┆ … ┆ 0.0    ┆ 0.0   ┆ 0.0   ┆ 1             │\n",
       "│ IRF1   ┆ 1.0    ┆ 1.0    ┆ 1.0   ┆ … ┆ 0.0    ┆ 0.0   ┆ 0.0   ┆ 1             │\n",
       "│ CCND1  ┆ 1.0    ┆ 1.0    ┆ 0.0   ┆ … ┆ 0.0    ┆ 0.0   ┆ 0.0   ┆ 1             │\n",
       "│ PRF1   ┆ 1.0    ┆ 1.0    ┆ 1.0   ┆ … ┆ 0.0    ┆ 0.0   ┆ 0.0   ┆ 1             │\n",
       "│ IFNG   ┆ 1.0    ┆ 1.0    ┆ 1.0   ┆ … ┆ 0.0    ┆ 0.0   ┆ 0.0   ┆ 1             │\n",
       "│ …      ┆ …      ┆ …      ┆ …     ┆ … ┆ …      ┆ …     ┆ …     ┆ …             │\n",
       "│ ZNF181 ┆ 0.0    ┆ 0.0    ┆ 0.0   ┆ … ┆ 0.0    ┆ 0.0   ┆ 0.0   ┆ 1             │\n",
       "│ ZNF230 ┆ 0.0    ┆ 0.0    ┆ 0.0   ┆ … ┆ 0.0    ┆ 0.0   ┆ 0.0   ┆ 1             │\n",
       "│ ZNF302 ┆ 0.0    ┆ 0.0    ┆ 0.0   ┆ … ┆ 0.0    ┆ 0.0   ┆ 0.0   ┆ 1             │\n",
       "│ ZNF655 ┆ 0.0    ┆ 0.0    ┆ 0.0   ┆ … ┆ 0.0    ┆ 0.0   ┆ 0.0   ┆ 1             │\n",
       "│ PRR5L  ┆ 0.0    ┆ 0.0    ┆ 0.0   ┆ … ┆ 0.0    ┆ 0.0   ┆ 0.0   ┆ 1             │\n",
       "└────────┴────────┴────────┴───────┴───┴────────┴───────┴───────┴───────────────┘"
      ]
     },
     "execution_count": 3,
     "metadata": {},
     "output_type": "execute_result"
    }
   ],
   "source": [
    "mask"
   ]
  },
  {
   "cell_type": "code",
   "execution_count": 5,
   "id": "8898fe42",
   "metadata": {},
   "outputs": [
    {
     "name": "stdout",
     "output_type": "stream",
     "text": [
      "epoch:  0  train_loss:  70.191666   valid_loss:  58.772095\n",
      "epoch:  10  train_loss:  33.525513   valid_loss:  27.969748\n",
      "epoch:  20  train_loss:  30.50974   valid_loss:  25.505272\n",
      "epoch:  0  train_loss:  71.00149   valid_loss:  59.681747\n",
      "epoch:  10  train_loss:  33.183014   valid_loss:  26.705635\n",
      "epoch:  20  train_loss:  30.25709   valid_loss:  25.594612\n",
      "epoch:  0  train_loss:  67.557816   valid_loss:  54.307835\n",
      "epoch:  10  train_loss:  32.430325   valid_loss:  25.721529\n",
      "epoch:  20  train_loss:  30.083357   valid_loss:  25.43004\n",
      "epoch:  0  train_loss:  69.1876   valid_loss:  58.175625\n",
      "epoch:  10  train_loss:  36.463253   valid_loss:  30.75952\n",
      "epoch:  20  train_loss:  31.705791   valid_loss:  26.63643\n",
      "epoch:  0  train_loss:  69.42923   valid_loss:  57.5712\n",
      "epoch:  10  train_loss:  34.71455   valid_loss:  28.832777\n",
      "epoch:  20  train_loss:  30.8514   valid_loss:  25.606018\n",
      "epoch:  0  train_loss:  69.93457   valid_loss:  57.164738\n",
      "epoch:  10  train_loss:  34.787216   valid_loss:  28.330235\n",
      "epoch:  20  train_loss:  31.056593   valid_loss:  26.548374\n",
      "epoch:  0  train_loss:  68.439705   valid_loss:  56.164383\n",
      "epoch:  10  train_loss:  34.177963   valid_loss:  28.739302\n",
      "epoch:  20  train_loss:  30.510126   valid_loss:  25.457146\n",
      "epoch:  0  train_loss:  70.27884   valid_loss:  58.87464\n",
      "epoch:  10  train_loss:  33.708374   valid_loss:  27.347553\n",
      "epoch:  20  train_loss:  30.527073   valid_loss:  25.861677\n",
      "epoch:  0  train_loss:  69.071266   valid_loss:  56.579033\n",
      "epoch:  10  train_loss:  33.965244   valid_loss:  28.611189\n",
      "epoch:  20  train_loss:  32.130863   valid_loss:  26.220734\n",
      "epoch:  0  train_loss:  70.94445   valid_loss:  58.33728\n",
      "epoch:  10  train_loss:  33.891964   valid_loss:  27.966953\n",
      "epoch:  20  train_loss:  30.57392   valid_loss:  25.250343\n"
     ]
    },
    {
     "data": {
      "text/plain": [
       "(VEGA(\n",
       "   (decoder): DecoderVEGA(\n",
       "     (sparse_layer): Sequential(\n",
       "       (0): SparseLayer()\n",
       "     )\n",
       "   )\n",
       "   (encoder): Encoder(\n",
       "     (encoder): Sequential(\n",
       "       (0): Linear(in_features=471, out_features=800, bias=True)\n",
       "       (1): ReLU()\n",
       "       (2): Dropout(p=0.3, inplace=False)\n",
       "       (3): Linear(in_features=800, out_features=800, bias=True)\n",
       "       (4): ReLU()\n",
       "       (5): Dropout(p=0.3, inplace=False)\n",
       "     )\n",
       "     (mu): Sequential(\n",
       "       (0): Linear(in_features=800, out_features=31, bias=True)\n",
       "       (1): Dropout(p=0.5, inplace=False)\n",
       "     )\n",
       "     (sigma): Sequential(\n",
       "       (0): Linear(in_features=800, out_features=31, bias=True)\n",
       "       (1): Dropout(p=0.5, inplace=False)\n",
       "     )\n",
       "   )\n",
       " ),\n",
       "           STAT5A    STAT5B     STAT4      IRF1     STAT3     RUNX1     GTF2I  \\\n",
       " IL2    -0.000004  0.000214  0.000000  0.000000  0.000168 -0.000086  0.000000   \n",
       " IRF1    0.003442  0.008979  0.000055 -0.000071  0.000489  0.000000  0.000000   \n",
       " CCND1  -0.000017  0.000094  0.000000  0.000273 -0.000118  0.000000  0.000174   \n",
       " PRF1    0.013317 -0.000398 -0.000059  0.000000  0.000567  0.000000  0.000000   \n",
       " IFNG   -0.000371  0.000138  0.000142  0.000025  0.000122 -0.000081  0.000000   \n",
       " ...          ...       ...       ...       ...       ...       ...       ...   \n",
       " ZNF181  0.000000  0.000000  0.000000  0.000000  0.000000  0.000000  0.000000   \n",
       " ZNF230  0.000000  0.000000  0.000000  0.000000  0.000000  0.000000  0.000000   \n",
       " ZNF302  0.000000  0.000000  0.000000  0.000000  0.000000  0.000000  0.000000   \n",
       " ZNF655  0.000000  0.000000  0.000000  0.000000  0.000000  0.000000  0.000000   \n",
       " PRR5L   0.000000  0.000000  0.000000  0.000000  0.000000 -0.001155  0.000000   \n",
       " \n",
       "             IRF2     STAT1      IRF8  ...      IRF9  AHRR  AEBP1      SOX2  \\\n",
       " IL2     0.000000  0.000000  0.000000  ...  0.000000   0.0    0.0  0.000000   \n",
       " IRF1    0.002786  0.000665  0.001285  ...  0.000000   0.0    0.0  0.000000   \n",
       " CCND1   0.000000 -0.000324  0.000000  ...  0.000000   0.0    0.0  0.000137   \n",
       " PRF1    0.000000  0.000090  0.000000  ...  0.000000   0.0    0.0  0.000000   \n",
       " IFNG    0.000597 -0.000221  0.000072  ...  0.000362   0.0    0.0  0.000000   \n",
       " ...          ...       ...       ...  ...       ...   ...    ...       ...   \n",
       " ZNF181  0.000000 -0.000269  0.000000  ...  0.000000   0.0    0.0  0.000000   \n",
       " ZNF230  0.000000  0.000352  0.000000  ...  0.000000   0.0    0.0  0.000000   \n",
       " ZNF302  0.000000 -0.000704  0.000000  ...  0.000000   0.0    0.0  0.000000   \n",
       " ZNF655  0.000000  0.000297  0.000000  ...  0.000000   0.0    0.0  0.000000   \n",
       " PRR5L   0.000000  0.000000  0.000000  ...  0.000000   0.0    0.0  0.000000   \n",
       " \n",
       "           THAP11  IRF6  ARID1A  ADNP2  APBB1  unannotated_1  \n",
       " IL2     0.000000   0.0     0.0    0.0    0.0      -0.000016  \n",
       " IRF1    0.000000   0.0     0.0    0.0    0.0      -0.000821  \n",
       " CCND1   0.000167   0.0     0.0    0.0    0.0       0.000023  \n",
       " PRF1    0.000000   0.0     0.0    0.0    0.0       0.002074  \n",
       " IFNG    0.000000   0.0     0.0    0.0    0.0       0.000030  \n",
       " ...          ...   ...     ...    ...    ...            ...  \n",
       " ZNF181  0.000000   0.0     0.0    0.0    0.0      -0.000002  \n",
       " ZNF230  0.000000   0.0     0.0    0.0    0.0       0.001296  \n",
       " ZNF302  0.000000   0.0     0.0    0.0    0.0       0.000267  \n",
       " ZNF655  0.000000   0.0     0.0    0.0    0.0      -0.001472  \n",
       " PRR5L   0.000000   0.0     0.0    0.0    0.0      -0.000324  \n",
       " \n",
       " [471 rows x 31 columns],\n",
       "           STAT5A    STAT5B     STAT4      IRF1     STAT3     RUNX1   GTF2I  \\\n",
       " IL2     0.000164  0.001319  0.000000  0.000000  0.000639  0.000173  0.0000   \n",
       " IRF1    0.003253  0.005738  0.002175  0.001322  0.001387  0.000000  0.0000   \n",
       " CCND1   0.000505  0.001182  0.000000  0.000671  0.000280  0.000000  0.0008   \n",
       " PRF1    0.009285  0.002315  0.001324  0.000000  0.003630  0.000000  0.0000   \n",
       " IFNG    0.000407  0.000976  0.000456  0.000467  0.000744  0.000630  0.0000   \n",
       " ...          ...       ...       ...       ...       ...       ...     ...   \n",
       " ZNF181  0.000000  0.000000  0.000000  0.000000  0.000000  0.000000  0.0000   \n",
       " ZNF230  0.000000  0.000000  0.000000  0.000000  0.000000  0.000000  0.0000   \n",
       " ZNF302  0.000000  0.000000  0.000000  0.000000  0.000000  0.000000  0.0000   \n",
       " ZNF655  0.000000  0.000000  0.000000  0.000000  0.000000  0.000000  0.0000   \n",
       " PRR5L   0.000000  0.000000  0.000000  0.000000  0.000000  0.001499  0.0000   \n",
       " \n",
       "             IRF2     STAT1      IRF8  ...      IRF9  AHRR  AEBP1      SOX2  \\\n",
       " IL2     0.000000  0.000000  0.000000  ...  0.000000   0.0    0.0  0.000000   \n",
       " IRF1    0.003791  0.001650  0.001698  ...  0.000000   0.0    0.0  0.000000   \n",
       " CCND1   0.000000  0.000503  0.000000  ...  0.000000   0.0    0.0  0.000815   \n",
       " PRF1    0.000000  0.004179  0.000000  ...  0.000000   0.0    0.0  0.000000   \n",
       " IFNG    0.000980  0.000507  0.000744  ...  0.000804   0.0    0.0  0.000000   \n",
       " ...          ...       ...       ...  ...       ...   ...    ...       ...   \n",
       " ZNF181  0.000000  0.000854  0.000000  ...  0.000000   0.0    0.0  0.000000   \n",
       " ZNF230  0.000000  0.000660  0.000000  ...  0.000000   0.0    0.0  0.000000   \n",
       " ZNF302  0.000000  0.001856  0.000000  ...  0.000000   0.0    0.0  0.000000   \n",
       " ZNF655  0.000000  0.001200  0.000000  ...  0.000000   0.0    0.0  0.000000   \n",
       " PRR5L   0.000000  0.000000  0.000000  ...  0.000000   0.0    0.0  0.000000   \n",
       " \n",
       "           THAP11  IRF6  ARID1A  ADNP2  APBB1  unannotated_1  \n",
       " IL2     0.000000   0.0     0.0    0.0    0.0       0.000263  \n",
       " IRF1    0.000000   0.0     0.0    0.0    0.0       0.001744  \n",
       " CCND1   0.001088   0.0     0.0    0.0    0.0       0.000553  \n",
       " PRF1    0.000000   0.0     0.0    0.0    0.0       0.005515  \n",
       " IFNG    0.000000   0.0     0.0    0.0    0.0       0.000283  \n",
       " ...          ...   ...     ...    ...    ...            ...  \n",
       " ZNF181  0.000000   0.0     0.0    0.0    0.0       0.001653  \n",
       " ZNF230  0.000000   0.0     0.0    0.0    0.0       0.002434  \n",
       " ZNF302  0.000000   0.0     0.0    0.0    0.0       0.003839  \n",
       " ZNF655  0.000000   0.0     0.0    0.0    0.0       0.001294  \n",
       " PRR5L   0.000000   0.0     0.0    0.0    0.0       0.001703  \n",
       " \n",
       " [471 rows x 31 columns])"
      ]
     },
     "execution_count": 5,
     "metadata": {},
     "output_type": "execute_result"
    }
   ],
   "source": [
    "from training.training import run_vega_model\n",
    "run_vega_model(\n",
    "    model_type=\"vega\",\n",
    "    train_data=train,\n",
    "    valid_data=valid,\n",
    "    mask_df=mask,\n",
    "    epochs=30,#30\n",
    "    N=10,#10\n",
    "    cond=\"control\"\n",
    ")"
   ]
  }
 ],
 "metadata": {
  "kernelspec": {
   "display_name": ".venv",
   "language": "python",
   "name": "python3"
  },
  "language_info": {
   "codemirror_mode": {
    "name": "ipython",
    "version": 3
   },
   "file_extension": ".py",
   "mimetype": "text/x-python",
   "name": "python",
   "nbconvert_exporter": "python",
   "pygments_lexer": "ipython3",
   "version": "3.13.3"
  }
 },
 "nbformat": 4,
 "nbformat_minor": 5
}
