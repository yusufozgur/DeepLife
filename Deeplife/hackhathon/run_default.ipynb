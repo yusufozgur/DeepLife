{
 "cells": [
  {
   "cell_type": "markdown",
   "id": "ff0845d0",
   "metadata": {},
   "source": [
    "needed to reload modules, otherwise you will have nan errors"
   ]
  },
  {
   "cell_type": "code",
   "execution_count": 10,
   "id": "5c83b151",
   "metadata": {},
   "outputs": [],
   "source": [
    "#%load_ext autoreload\n",
    "#%autoreload 2"
   ]
  },
  {
   "cell_type": "markdown",
   "id": "a78ab4c7",
   "metadata": {},
   "source": [
    "### Data"
   ]
  },
  {
   "cell_type": "code",
   "execution_count": 11,
   "id": "33b993af",
   "metadata": {},
   "outputs": [
    {
     "name": "stdout",
     "output_type": "stream",
     "text": [
      "Printing mask:\n",
      "shape: (363, 18)\n",
      "┌─────────┬────────┬────────┬───────┬───┬──────┬──────┬──────┬───────────────┐\n",
      "│ target  ┆ STAT5A ┆ STAT5B ┆ STAT4 ┆ … ┆ IRF7 ┆ IRF9 ┆ IRF6 ┆ unannotated_1 │\n",
      "│ ---     ┆ ---    ┆ ---    ┆ ---   ┆   ┆ ---  ┆ ---  ┆ ---  ┆ ---           │\n",
      "│ str     ┆ f64    ┆ f64    ┆ f64   ┆   ┆ f64  ┆ f64  ┆ f64  ┆ i32           │\n",
      "╞═════════╪════════╪════════╪═══════╪═══╪══════╪══════╪══════╪═══════════════╡\n",
      "│ IL2     ┆ 1.0    ┆ 1.0    ┆ 0.0   ┆ … ┆ 0.0  ┆ 0.0  ┆ 0.0  ┆ 1             │\n",
      "│ IRF1    ┆ 1.0    ┆ 1.0    ┆ 1.0   ┆ … ┆ 0.0  ┆ 0.0  ┆ 0.0  ┆ 1             │\n",
      "│ CCND1   ┆ 1.0    ┆ 1.0    ┆ 0.0   ┆ … ┆ 0.0  ┆ 0.0  ┆ 0.0  ┆ 1             │\n",
      "│ PRF1    ┆ 1.0    ┆ 1.0    ┆ 1.0   ┆ … ┆ 0.0  ┆ 0.0  ┆ 0.0  ┆ 1             │\n",
      "│ IFNG    ┆ 1.0    ┆ 1.0    ┆ 1.0   ┆ … ┆ 0.0  ┆ 1.0  ┆ 0.0  ┆ 1             │\n",
      "│ …       ┆ …      ┆ …      ┆ …     ┆ … ┆ …    ┆ …    ┆ …    ┆ …             │\n",
      "│ ZC3HAV1 ┆ 0.0    ┆ 0.0    ┆ 0.0   ┆ … ┆ 0.0  ┆ 0.0  ┆ 0.0  ┆ 1             │\n",
      "│ ZNF181  ┆ 0.0    ┆ 0.0    ┆ 0.0   ┆ … ┆ 0.0  ┆ 0.0  ┆ 0.0  ┆ 1             │\n",
      "│ ZNF230  ┆ 0.0    ┆ 0.0    ┆ 0.0   ┆ … ┆ 0.0  ┆ 0.0  ┆ 0.0  ┆ 1             │\n",
      "│ ZNF302  ┆ 0.0    ┆ 0.0    ┆ 0.0   ┆ … ┆ 0.0  ┆ 0.0  ┆ 0.0  ┆ 1             │\n",
      "│ ZNF655  ┆ 0.0    ┆ 0.0    ┆ 0.0   ┆ … ┆ 0.0  ┆ 0.0  ┆ 0.0  ┆ 1             │\n",
      "└─────────┴────────┴────────┴───────┴───┴──────┴──────┴──────┴───────────────┘\n",
      "\n",
      "Printing train:\n",
      "AnnData object with n_obs × n_vars = 13515 × 363\n",
      "    obs: 'condition', 'n_counts', 'n_genes', 'mt_frac', 'cell_type'\n",
      "    var: 'gene_symbol', 'n_cells'\n",
      "    uns: 'cell_type_colors', 'condition_colors', 'neighbors'\n",
      "    obsm: 'X_pca', 'X_tsne', 'X_umap'\n",
      "    obsp: 'connectivities', 'distances'\n",
      "\n",
      "Printing valid:\n",
      "AnnData object with n_obs × n_vars = 3378 × 363\n",
      "    obs: 'condition', 'n_counts', 'n_genes', 'mt_frac', 'cell_type'\n",
      "    var: 'gene_symbol', 'n_cells'\n",
      "    uns: 'cell_type_colors', 'condition_colors', 'neighbors'\n",
      "    obsm: 'X_pca', 'X_tsne', 'X_umap'\n",
      "    obsp: 'connectivities', 'distances'\n"
     ]
    }
   ],
   "source": [
    "from data_process_and_get_mask import create_mask\n",
    "from get_data import pbmc_train, pbmc_val\n",
    "\n",
    "tf_list = [\n",
    "    'IRF1', 'IRF2', 'IRF2BPL', 'IRF3', 'IRF4', 'IRF5', 'IRF6', 'IRF7', 'IRF8', 'IRF9', 'STAT1', 'STAT2', 'STAT3', 'STAT4', 'STAT5A','STAT5B', 'STAT6'\n",
    "]\n",
    "#[\"GTF2I\",\"GTF3A\",\"NRF1\",\"ELF1\",\"STAT1\",\"STAT2\",\"IRF9\",\"STAT3\",\"STAT4\",\"STAT5A\",\"STAT5B\",\"IRF3\",\"IRF7\",\"IRF1\",\"IRF5\",\"IRF8\"]\n",
    "\n",
    "mask, train, valid = create_mask(pbmc_train, pbmc_val, tf_list)\n",
    "print(\"Printing mask:\")\n",
    "print(mask)\n",
    "print(\"\\nPrinting train:\")\n",
    "print(train)\n",
    "print(\"\\nPrinting valid:\")\n",
    "print(valid)"
   ]
  },
  {
   "cell_type": "code",
   "execution_count": 12,
   "id": "cd42900c",
   "metadata": {},
   "outputs": [],
   "source": [
    "from model.vega import VEGA\n",
    "from model.decoder_default import DecoderVEGA\n",
    "from model.encoder_with_mu_clamp import Encoder\n",
    "from device import device\n",
    "\n",
    "mask_np = mask.drop(\"target\").to_numpy()\n",
    "\n",
    "latent_dims= mask_np.shape[1]\n",
    "input_dims = mask_np.shape[0]\n",
    "dropout = 0.3\n",
    "z_dropout = 0.5\n",
    "\n",
    "vega = VEGA(\n",
    "    encoder=Encoder(latent_dims, input_dims, dropout, z_dropout),\n",
    "    decoder=DecoderVEGA(mask_np.T)\n",
    "    ).to(device)"
   ]
  },
  {
   "cell_type": "code",
   "execution_count": 13,
   "id": "8a518338",
   "metadata": {},
   "outputs": [],
   "source": [
    "# model training\n",
    "#vega, vega_losses, vega_klds, vega_mses = trainVEGA(vega, train, epochs = 20, beta = 0.0001) #takes about 2 mins on GPU # epoch 100"
   ]
  },
  {
   "cell_type": "markdown",
   "id": "0cf550af",
   "metadata": {},
   "source": [
    "now use the common training functions"
   ]
  },
  {
   "cell_type": "code",
   "execution_count": 14,
   "id": "900ae080",
   "metadata": {},
   "outputs": [
    {
     "data": {
      "text/html": [
       "<div><style>\n",
       ".dataframe > thead > tr,\n",
       ".dataframe > tbody > tr {\n",
       "  text-align: right;\n",
       "  white-space: pre-wrap;\n",
       "}\n",
       "</style>\n",
       "<small>shape: (363, 18)</small><table border=\"1\" class=\"dataframe\"><thead><tr><th>target</th><th>STAT5A</th><th>STAT5B</th><th>STAT4</th><th>IRF1</th><th>STAT3</th><th>IRF2</th><th>STAT1</th><th>IRF8</th><th>STAT6</th><th>IRF4</th><th>IRF3</th><th>IRF5</th><th>STAT2</th><th>IRF7</th><th>IRF9</th><th>IRF6</th><th>unannotated_1</th></tr><tr><td>str</td><td>f64</td><td>f64</td><td>f64</td><td>f64</td><td>f64</td><td>f64</td><td>f64</td><td>f64</td><td>f64</td><td>f64</td><td>f64</td><td>f64</td><td>f64</td><td>f64</td><td>f64</td><td>f64</td><td>i32</td></tr></thead><tbody><tr><td>&quot;IL2&quot;</td><td>1.0</td><td>1.0</td><td>0.0</td><td>0.0</td><td>1.0</td><td>0.0</td><td>0.0</td><td>0.0</td><td>0.0</td><td>1.0</td><td>0.0</td><td>0.0</td><td>0.0</td><td>0.0</td><td>0.0</td><td>0.0</td><td>1</td></tr><tr><td>&quot;IRF1&quot;</td><td>1.0</td><td>1.0</td><td>1.0</td><td>1.0</td><td>1.0</td><td>1.0</td><td>1.0</td><td>1.0</td><td>1.0</td><td>1.0</td><td>1.0</td><td>0.0</td><td>1.0</td><td>0.0</td><td>0.0</td><td>0.0</td><td>1</td></tr><tr><td>&quot;CCND1&quot;</td><td>1.0</td><td>1.0</td><td>0.0</td><td>1.0</td><td>1.0</td><td>0.0</td><td>1.0</td><td>0.0</td><td>0.0</td><td>0.0</td><td>0.0</td><td>0.0</td><td>0.0</td><td>0.0</td><td>0.0</td><td>0.0</td><td>1</td></tr><tr><td>&quot;PRF1&quot;</td><td>1.0</td><td>1.0</td><td>1.0</td><td>0.0</td><td>1.0</td><td>0.0</td><td>1.0</td><td>0.0</td><td>0.0</td><td>0.0</td><td>0.0</td><td>0.0</td><td>0.0</td><td>0.0</td><td>0.0</td><td>0.0</td><td>1</td></tr><tr><td>&quot;IFNG&quot;</td><td>1.0</td><td>1.0</td><td>1.0</td><td>1.0</td><td>1.0</td><td>1.0</td><td>1.0</td><td>1.0</td><td>1.0</td><td>1.0</td><td>1.0</td><td>1.0</td><td>1.0</td><td>0.0</td><td>1.0</td><td>0.0</td><td>1</td></tr><tr><td>&hellip;</td><td>&hellip;</td><td>&hellip;</td><td>&hellip;</td><td>&hellip;</td><td>&hellip;</td><td>&hellip;</td><td>&hellip;</td><td>&hellip;</td><td>&hellip;</td><td>&hellip;</td><td>&hellip;</td><td>&hellip;</td><td>&hellip;</td><td>&hellip;</td><td>&hellip;</td><td>&hellip;</td><td>&hellip;</td></tr><tr><td>&quot;ZC3HAV1&quot;</td><td>0.0</td><td>0.0</td><td>0.0</td><td>0.0</td><td>0.0</td><td>0.0</td><td>1.0</td><td>0.0</td><td>0.0</td><td>0.0</td><td>0.0</td><td>0.0</td><td>0.0</td><td>0.0</td><td>0.0</td><td>0.0</td><td>1</td></tr><tr><td>&quot;ZNF181&quot;</td><td>0.0</td><td>0.0</td><td>0.0</td><td>0.0</td><td>0.0</td><td>0.0</td><td>1.0</td><td>0.0</td><td>0.0</td><td>0.0</td><td>0.0</td><td>0.0</td><td>0.0</td><td>0.0</td><td>0.0</td><td>0.0</td><td>1</td></tr><tr><td>&quot;ZNF230&quot;</td><td>0.0</td><td>0.0</td><td>0.0</td><td>0.0</td><td>0.0</td><td>0.0</td><td>1.0</td><td>0.0</td><td>0.0</td><td>0.0</td><td>0.0</td><td>0.0</td><td>0.0</td><td>0.0</td><td>0.0</td><td>0.0</td><td>1</td></tr><tr><td>&quot;ZNF302&quot;</td><td>0.0</td><td>0.0</td><td>0.0</td><td>0.0</td><td>0.0</td><td>0.0</td><td>1.0</td><td>0.0</td><td>0.0</td><td>0.0</td><td>0.0</td><td>0.0</td><td>0.0</td><td>0.0</td><td>0.0</td><td>0.0</td><td>1</td></tr><tr><td>&quot;ZNF655&quot;</td><td>0.0</td><td>0.0</td><td>0.0</td><td>0.0</td><td>0.0</td><td>0.0</td><td>1.0</td><td>0.0</td><td>0.0</td><td>0.0</td><td>0.0</td><td>0.0</td><td>0.0</td><td>0.0</td><td>0.0</td><td>0.0</td><td>1</td></tr></tbody></table></div>"
      ],
      "text/plain": [
       "shape: (363, 18)\n",
       "┌─────────┬────────┬────────┬───────┬───┬──────┬──────┬──────┬───────────────┐\n",
       "│ target  ┆ STAT5A ┆ STAT5B ┆ STAT4 ┆ … ┆ IRF7 ┆ IRF9 ┆ IRF6 ┆ unannotated_1 │\n",
       "│ ---     ┆ ---    ┆ ---    ┆ ---   ┆   ┆ ---  ┆ ---  ┆ ---  ┆ ---           │\n",
       "│ str     ┆ f64    ┆ f64    ┆ f64   ┆   ┆ f64  ┆ f64  ┆ f64  ┆ i32           │\n",
       "╞═════════╪════════╪════════╪═══════╪═══╪══════╪══════╪══════╪═══════════════╡\n",
       "│ IL2     ┆ 1.0    ┆ 1.0    ┆ 0.0   ┆ … ┆ 0.0  ┆ 0.0  ┆ 0.0  ┆ 1             │\n",
       "│ IRF1    ┆ 1.0    ┆ 1.0    ┆ 1.0   ┆ … ┆ 0.0  ┆ 0.0  ┆ 0.0  ┆ 1             │\n",
       "│ CCND1   ┆ 1.0    ┆ 1.0    ┆ 0.0   ┆ … ┆ 0.0  ┆ 0.0  ┆ 0.0  ┆ 1             │\n",
       "│ PRF1    ┆ 1.0    ┆ 1.0    ┆ 1.0   ┆ … ┆ 0.0  ┆ 0.0  ┆ 0.0  ┆ 1             │\n",
       "│ IFNG    ┆ 1.0    ┆ 1.0    ┆ 1.0   ┆ … ┆ 0.0  ┆ 1.0  ┆ 0.0  ┆ 1             │\n",
       "│ …       ┆ …      ┆ …      ┆ …     ┆ … ┆ …    ┆ …    ┆ …    ┆ …             │\n",
       "│ ZC3HAV1 ┆ 0.0    ┆ 0.0    ┆ 0.0   ┆ … ┆ 0.0  ┆ 0.0  ┆ 0.0  ┆ 1             │\n",
       "│ ZNF181  ┆ 0.0    ┆ 0.0    ┆ 0.0   ┆ … ┆ 0.0  ┆ 0.0  ┆ 0.0  ┆ 1             │\n",
       "│ ZNF230  ┆ 0.0    ┆ 0.0    ┆ 0.0   ┆ … ┆ 0.0  ┆ 0.0  ┆ 0.0  ┆ 1             │\n",
       "│ ZNF302  ┆ 0.0    ┆ 0.0    ┆ 0.0   ┆ … ┆ 0.0  ┆ 0.0  ┆ 0.0  ┆ 1             │\n",
       "│ ZNF655  ┆ 0.0    ┆ 0.0    ┆ 0.0   ┆ … ┆ 0.0  ┆ 0.0  ┆ 0.0  ┆ 1             │\n",
       "└─────────┴────────┴────────┴───────┴───┴──────┴──────┴──────┴───────────────┘"
      ]
     },
     "execution_count": 14,
     "metadata": {},
     "output_type": "execute_result"
    }
   ],
   "source": [
    "mask"
   ]
  },
  {
   "cell_type": "code",
   "execution_count": 15,
   "id": "ede11dba",
   "metadata": {},
   "outputs": [],
   "source": [
    "from training.training import run_vega_model\n",
    "#run_vega_model(\n",
    "#    vega=vega,\n",
    "#    model_type=\"vega\",\n",
    "#    train_data=train,\n",
    "#    valid_data=valid,\n",
    "#    mask_df=mask,\n",
    "#    epochs=5,\n",
    "#    N=5\n",
    "#)"
   ]
  },
  {
   "cell_type": "markdown",
   "id": "cfc75a7e",
   "metadata": {},
   "source": [
    "bayes"
   ]
  },
  {
   "cell_type": "code",
   "execution_count": 16,
   "id": "80edee9c",
   "metadata": {},
   "outputs": [],
   "source": [
    "from model.decoder_bayes import DecoderBayes\n",
    "\n",
    "mask_np = mask.drop(\"target\").to_numpy()\n",
    "\n",
    "latent_dims= mask_np.shape[1]\n",
    "input_dims = mask_np.shape[0]\n",
    "dropout = 0.3\n",
    "z_dropout = 0.5\n",
    "\n",
    "vega_bayes = VEGA(\n",
    "    encoder=Encoder(latent_dims, input_dims, dropout, z_dropout),\n",
    "    decoder=DecoderBayes(mask_np.T)\n",
    "    ).to(device)"
   ]
  },
  {
   "cell_type": "code",
   "execution_count": 17,
   "id": "8898fe42",
   "metadata": {},
   "outputs": [
    {
     "name": "stdout",
     "output_type": "stream",
     "text": [
      "epoch:  0  train_loss:  88.55581   valid_loss:  68.31195\n",
      "epoch:  0  train_loss:  50.475914   valid_loss:  38.785492\n",
      "epoch:  0  train_loss:  43.56707   valid_loss:  33.424503\n",
      "epoch:  0  train_loss:  40.885036   valid_loss:  31.99989\n",
      "epoch:  0  train_loss:  39.394745   valid_loss:  30.909739\n"
     ]
    },
    {
     "data": {
      "text/plain": [
       "(VEGA(\n",
       "   (decoder): DecoderBayes(\n",
       "     (sparse_layer): BayesianSparseLayer()\n",
       "   )\n",
       "   (encoder): Encoder(\n",
       "     (encoder): Sequential(\n",
       "       (0): Linear(in_features=363, out_features=800, bias=True)\n",
       "       (1): ReLU()\n",
       "       (2): Dropout(p=0.3, inplace=False)\n",
       "       (3): Linear(in_features=800, out_features=800, bias=True)\n",
       "       (4): ReLU()\n",
       "       (5): Dropout(p=0.3, inplace=False)\n",
       "     )\n",
       "     (mu): Sequential(\n",
       "       (0): Linear(in_features=800, out_features=17, bias=True)\n",
       "       (1): Dropout(p=0.5, inplace=False)\n",
       "     )\n",
       "     (sigma): Sequential(\n",
       "       (0): Linear(in_features=800, out_features=17, bias=True)\n",
       "       (1): Dropout(p=0.5, inplace=False)\n",
       "     )\n",
       "   )\n",
       " ),\n",
       "            STAT5A    STAT5B     STAT4          IRF1         STAT3      IRF2  \\\n",
       " IL2      0.001956  0.002147  0.000000  0.000000e+00  5.430671e-03 -0.000413   \n",
       " IRF1     0.015535 -0.001655  0.011112 -2.620842e-03 -9.450587e-04  0.005701   \n",
       " CCND1    0.001824  0.001388  0.000000 -1.387092e-03  9.261805e-04  0.000000   \n",
       " PRF1     0.071777  0.006901  0.024996  0.000000e+00 -1.785165e-02  0.000018   \n",
       " IFNG     0.004638 -0.001973  0.001988 -1.071788e-03 -4.032211e-03 -0.003581   \n",
       " ...           ...       ...       ...           ...           ...       ...   \n",
       " ZC3HAV1 -0.000582  0.000000  0.000000 -7.367217e-07  0.000000e+00  0.000000   \n",
       " ZNF181   0.000000  0.000000  0.000176  0.000000e+00 -5.721797e-07  0.000000   \n",
       " ZNF230   0.000034  0.000000  0.000000  6.806628e-07  0.000000e+00  0.000000   \n",
       " ZNF302   0.000095 -0.000003  0.000006  2.637313e-07  0.000000e+00  0.000000   \n",
       " ZNF655   0.000000  0.000000 -0.000432  2.132064e-08  0.000000e+00  0.000000   \n",
       " \n",
       "             STAT1      IRF8     STAT6      IRF4          IRF3      IRF5  \\\n",
       " IL2      0.000000  0.000000  0.000000 -0.001672 -4.764120e-04  0.000000   \n",
       " IRF1    -0.014408  0.004146  0.001203  0.031713  1.705497e-02  0.000046   \n",
       " CCND1    0.003151 -0.000057  0.000000  0.000000  0.000000e+00  0.000000   \n",
       " PRF1    -0.021904  0.000000 -0.000005  0.000000 -1.608632e-04  0.000000   \n",
       " IFNG    -0.000364  0.011124  0.001195 -0.000777 -1.264639e-03 -0.000110   \n",
       " ...           ...       ...       ...       ...           ...       ...   \n",
       " ZC3HAV1 -0.012722  0.000000  0.000000  0.000000  0.000000e+00  0.000000   \n",
       " ZNF181   0.000583  0.000000  0.000191  0.000000 -4.395272e-07  0.000000   \n",
       " ZNF230   0.003619  0.000000  0.000000  0.000004  1.712095e-05 -0.000003   \n",
       " ZNF302  -0.000994  0.000011  0.000000 -0.000031  0.000000e+00  0.000051   \n",
       " ZNF655   0.003006  0.000000 -0.000549  0.000003  0.000000e+00  0.000000   \n",
       " \n",
       "             STAT2      IRF7          IRF9          IRF6  unannotated_1  \n",
       " IL2      0.000011  0.000047  7.486952e-07 -1.135883e-07       0.005254  \n",
       " IRF1     0.016433  0.000000  0.000000e+00  0.000000e+00       0.003609  \n",
       " CCND1   -0.000341  0.000000  7.580642e-04 -1.034841e-04      -0.001072  \n",
       " PRF1     0.000000  0.000000  5.863769e-05 -1.188083e-04      -0.015092  \n",
       " IFNG     0.003558 -0.000224 -3.752643e-03  0.000000e+00      -0.001023  \n",
       " ...           ...       ...           ...           ...            ...  \n",
       " ZC3HAV1 -0.000403  0.000000  0.000000e+00  1.606547e-04       0.004763  \n",
       " ZNF181   0.000190  0.000000  0.000000e+00  0.000000e+00      -0.004857  \n",
       " ZNF230   0.000000  0.000000  0.000000e+00  1.003109e-04      -0.005209  \n",
       " ZNF302   0.000000  0.000000  0.000000e+00  0.000000e+00      -0.009139  \n",
       " ZNF655  -0.000515  0.000391  0.000000e+00 -1.291603e-04      -0.001670  \n",
       " \n",
       " [363 rows x 17 columns],\n",
       "            STAT5A    STAT5B     STAT4          IRF1     STAT3      IRF2  \\\n",
       " IL2      0.004221  0.003077  0.000000  0.000000e+00  0.000882  0.000826   \n",
       " IRF1     0.007292  0.003658  0.014257  5.908605e-03  0.008683  0.004111   \n",
       " CCND1    0.003978  0.004703  0.000000  3.720962e-03  0.002896  0.000000   \n",
       " PRF1     0.048944  0.006101  0.006156  0.000000e+00  0.003718  0.000036   \n",
       " IFNG     0.008098  0.006578  0.007804  6.246521e-03  0.006559  0.003680   \n",
       " ...           ...       ...       ...           ...       ...       ...   \n",
       " ZC3HAV1  0.001165  0.000000  0.000000  1.473443e-06  0.000000  0.000000   \n",
       " ZNF181   0.000000  0.000000  0.000352  0.000000e+00  0.000001  0.000000   \n",
       " ZNF230   0.000068  0.000000  0.000000  1.361326e-06  0.000000  0.000000   \n",
       " ZNF302   0.000190  0.000005  0.000013  5.274626e-07  0.000000  0.000000   \n",
       " ZNF655   0.000000  0.000000  0.000864  4.264128e-08  0.000000  0.000000   \n",
       " \n",
       "             STAT1      IRF8     STAT6      IRF4          IRF3      IRF5  \\\n",
       " IL2      0.000000  0.000000  0.000000  0.004161  9.528240e-04  0.000000   \n",
       " IRF1     0.006102  0.003786  0.009399  0.016725  6.302782e-03  0.000092   \n",
       " CCND1    0.002987  0.000114  0.000000  0.000000  0.000000e+00  0.000000   \n",
       " PRF1     0.007379  0.000000  0.000010  0.000000  3.217264e-04  0.000000   \n",
       " IFNG     0.005470  0.005512  0.003469  0.006722  2.132500e-03  0.004350   \n",
       " ...           ...       ...       ...       ...           ...       ...   \n",
       " ZC3HAV1  0.004968  0.000000  0.000000  0.000000  0.000000e+00  0.000000   \n",
       " ZNF181   0.004121  0.000000  0.000382  0.000000  8.790545e-07  0.000000   \n",
       " ZNF230   0.003541  0.000000  0.000000  0.000008  3.424190e-05  0.000005   \n",
       " ZNF302   0.007723  0.000021  0.000000  0.000061  0.000000e+00  0.000102   \n",
       " ZNF655   0.009140  0.000000  0.001098  0.000006  0.000000e+00  0.000000   \n",
       " \n",
       "             STAT2      IRF7      IRF9          IRF6  unannotated_1  \n",
       " IL2      0.000022  0.000095  0.000001  2.271767e-07       0.003189  \n",
       " IRF1     0.007374  0.000000  0.000000  0.000000e+00       0.013192  \n",
       " CCND1    0.000682  0.000000  0.001516  2.069682e-04       0.003893  \n",
       " PRF1     0.000000  0.000000  0.000117  2.376166e-04       0.010290  \n",
       " IFNG     0.007051  0.000449  0.006143  0.000000e+00       0.006860  \n",
       " ...           ...       ...       ...           ...            ...  \n",
       " ZC3HAV1  0.000807  0.000000  0.000000  3.213094e-04       0.008266  \n",
       " ZNF181   0.000380  0.000000  0.000000  0.000000e+00       0.002743  \n",
       " ZNF230   0.000000  0.000000  0.000000  2.006217e-04       0.004529  \n",
       " ZNF302   0.000000  0.000000  0.000000  0.000000e+00       0.003272  \n",
       " ZNF655   0.001031  0.000781  0.000000  2.583206e-04       0.004949  \n",
       " \n",
       " [363 rows x 17 columns])"
      ]
     },
     "execution_count": 17,
     "metadata": {},
     "output_type": "execute_result"
    }
   ],
   "source": [
    "from training.training import run_vega_model\n",
    "run_vega_model(\n",
    "    vega=vega_bayes,\n",
    "    model_type=\"bayes\",\n",
    "    train_data=train,\n",
    "    valid_data=valid,\n",
    "    mask_df=mask,\n",
    "    epochs=5,\n",
    "    N=5\n",
    ")"
   ]
  }
 ],
 "metadata": {
  "kernelspec": {
   "display_name": ".venv",
   "language": "python",
   "name": "python3"
  },
  "language_info": {
   "codemirror_mode": {
    "name": "ipython",
    "version": 3
   },
   "file_extension": ".py",
   "mimetype": "text/x-python",
   "name": "python",
   "nbconvert_exporter": "python",
   "pygments_lexer": "ipython3",
   "version": "3.13.3"
  }
 },
 "nbformat": 4,
 "nbformat_minor": 5
}
