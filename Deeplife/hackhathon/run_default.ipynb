{
 "cells": [
  {
   "cell_type": "markdown",
   "id": "ff0845d0",
   "metadata": {},
   "source": [
    "needed to reload modules, otherwise you will have nan errors"
   ]
  },
  {
   "cell_type": "code",
   "execution_count": 1,
   "id": "5c83b151",
   "metadata": {},
   "outputs": [],
   "source": [
    "#%load_ext autoreload\n",
    "#%autoreload 2"
   ]
  },
  {
   "cell_type": "markdown",
   "id": "a78ab4c7",
   "metadata": {},
   "source": [
    "### Data"
   ]
  },
  {
   "cell_type": "code",
   "execution_count": 2,
   "id": "33b993af",
   "metadata": {},
   "outputs": [
    {
     "name": "stdout",
     "output_type": "stream",
     "text": [
      "Printing mask:\n",
      "shape: (471, 32)\n",
      "┌────────┬────────┬────────┬───────┬───┬────────┬───────┬───────┬───────────────┐\n",
      "│ target ┆ STAT5A ┆ STAT5B ┆ STAT4 ┆ … ┆ ARID1A ┆ ADNP2 ┆ APBB1 ┆ unannotated_1 │\n",
      "│ ---    ┆ ---    ┆ ---    ┆ ---   ┆   ┆ ---    ┆ ---   ┆ ---   ┆ ---           │\n",
      "│ str    ┆ f64    ┆ f64    ┆ f64   ┆   ┆ f64    ┆ f64   ┆ f64   ┆ i32           │\n",
      "╞════════╪════════╪════════╪═══════╪═══╪════════╪═══════╪═══════╪═══════════════╡\n",
      "│ IL2    ┆ 1.0    ┆ 1.0    ┆ 0.0   ┆ … ┆ 0.0    ┆ 0.0   ┆ 0.0   ┆ 1             │\n",
      "│ IRF1   ┆ 1.0    ┆ 1.0    ┆ 1.0   ┆ … ┆ 0.0    ┆ 0.0   ┆ 0.0   ┆ 1             │\n",
      "│ CCND1  ┆ 1.0    ┆ 1.0    ┆ 0.0   ┆ … ┆ 0.0    ┆ 0.0   ┆ 0.0   ┆ 1             │\n",
      "│ PRF1   ┆ 1.0    ┆ 1.0    ┆ 1.0   ┆ … ┆ 0.0    ┆ 0.0   ┆ 0.0   ┆ 1             │\n",
      "│ IFNG   ┆ 1.0    ┆ 1.0    ┆ 1.0   ┆ … ┆ 0.0    ┆ 0.0   ┆ 0.0   ┆ 1             │\n",
      "│ …      ┆ …      ┆ …      ┆ …     ┆ … ┆ …      ┆ …     ┆ …     ┆ …             │\n",
      "│ ZNF181 ┆ 0.0    ┆ 0.0    ┆ 0.0   ┆ … ┆ 0.0    ┆ 0.0   ┆ 0.0   ┆ 1             │\n",
      "│ ZNF230 ┆ 0.0    ┆ 0.0    ┆ 0.0   ┆ … ┆ 0.0    ┆ 0.0   ┆ 0.0   ┆ 1             │\n",
      "│ ZNF302 ┆ 0.0    ┆ 0.0    ┆ 0.0   ┆ … ┆ 0.0    ┆ 0.0   ┆ 0.0   ┆ 1             │\n",
      "│ ZNF655 ┆ 0.0    ┆ 0.0    ┆ 0.0   ┆ … ┆ 0.0    ┆ 0.0   ┆ 0.0   ┆ 1             │\n",
      "│ PRR5L  ┆ 0.0    ┆ 0.0    ┆ 0.0   ┆ … ┆ 0.0    ┆ 0.0   ┆ 0.0   ┆ 1             │\n",
      "└────────┴────────┴────────┴───────┴───┴────────┴───────┴───────┴───────────────┘\n",
      "\n",
      "Printing train:\n",
      "AnnData object with n_obs × n_vars = 13515 × 471\n",
      "    obs: 'condition', 'n_counts', 'n_genes', 'mt_frac', 'cell_type'\n",
      "    var: 'gene_symbol', 'n_cells'\n",
      "    uns: 'cell_type_colors', 'condition_colors', 'neighbors'\n",
      "    obsm: 'X_pca', 'X_tsne', 'X_umap'\n",
      "    obsp: 'connectivities', 'distances'\n",
      "\n",
      "Printing valid:\n",
      "AnnData object with n_obs × n_vars = 3378 × 471\n",
      "    obs: 'condition', 'n_counts', 'n_genes', 'mt_frac', 'cell_type'\n",
      "    var: 'gene_symbol', 'n_cells'\n",
      "    uns: 'cell_type_colors', 'condition_colors', 'neighbors'\n",
      "    obsm: 'X_pca', 'X_tsne', 'X_umap'\n",
      "    obsp: 'connectivities', 'distances'\n"
     ]
    }
   ],
   "source": [
    "from data_process_and_get_mask import create_mask\n",
    "from get_data import pbmc_train, pbmc_val\n",
    "\n",
    "tf_list = ['IRF1', 'IRF2', 'IRF2BPL', 'IRF3', 'IRF4', 'IRF5', 'IRF6', 'IRF7',\n",
    "       'IRF8', 'IRF9', 'STAT1', 'STAT2', 'STAT3', 'STAT4', 'STAT5A',\n",
    "       'STAT5B','STAT6','GTF2I','RUNX1', 'MYOD1', 'SOX2','KLF4', 'THAP11','ADNP2', 'AEBP1','AHRR', 'ALX4','APBB1','APEX1', 'ARHGAP35','ARID1A']\n",
    "\n",
    "#['IRF1', 'IRF2', 'IRF2BPL', 'IRF3', 'IRF4', 'IRF5', 'IRF6', 'IRF7', 'IRF8', 'IRF9', 'STAT1', 'STAT2', 'STAT3', 'STAT4', 'STAT5A','STAT5B', 'STAT6']\n",
    "#[\"GTF2I\",\"GTF3A\",\"NRF1\",\"ELF1\",\"STAT1\",\"STAT2\",\"IRF9\",\"STAT3\",\"STAT4\",\"STAT5A\",\"STAT5B\",\"IRF3\",\"IRF7\",\"IRF1\",\"IRF5\",\"IRF8\"]\n",
    "\n",
    "mask, train, valid = create_mask(pbmc_train, pbmc_val, tf_list)\n",
    "print(\"Printing mask:\")\n",
    "print(mask)\n",
    "print(\"\\nPrinting train:\")\n",
    "print(train)\n",
    "print(\"\\nPrinting valid:\")\n",
    "print(valid)"
   ]
  },
  {
   "cell_type": "code",
   "execution_count": null,
   "id": "cd42900c",
   "metadata": {},
   "outputs": [],
   "source": []
  },
  {
   "cell_type": "code",
   "execution_count": 3,
   "id": "8a518338",
   "metadata": {},
   "outputs": [],
   "source": [
    "# model training\n",
    "#vega, vega_losses, vega_klds, vega_mses = trainVEGA(vega, train, epochs = 20, beta = 0.0001) #takes about 2 mins on GPU # epoch 100"
   ]
  },
  {
   "cell_type": "markdown",
   "id": "0cf550af",
   "metadata": {},
   "source": [
    "now use the common training functions"
   ]
  },
  {
   "cell_type": "code",
   "execution_count": 4,
   "id": "900ae080",
   "metadata": {},
   "outputs": [
    {
     "data": {
      "text/html": [
       "<div><style>\n",
       ".dataframe > thead > tr,\n",
       ".dataframe > tbody > tr {\n",
       "  text-align: right;\n",
       "  white-space: pre-wrap;\n",
       "}\n",
       "</style>\n",
       "<small>shape: (471, 32)</small><table border=\"1\" class=\"dataframe\"><thead><tr><th>target</th><th>STAT5A</th><th>STAT5B</th><th>STAT4</th><th>IRF1</th><th>STAT3</th><th>RUNX1</th><th>GTF2I</th><th>IRF2</th><th>STAT1</th><th>IRF8</th><th>STAT6</th><th>APEX1</th><th>IRF4</th><th>MYOD1</th><th>ARHGAP35</th><th>IRF3</th><th>IRF5</th><th>ALX4</th><th>STAT2</th><th>IRF7</th><th>KLF4</th><th>IRF9</th><th>AHRR</th><th>AEBP1</th><th>SOX2</th><th>THAP11</th><th>IRF6</th><th>ARID1A</th><th>ADNP2</th><th>APBB1</th><th>unannotated_1</th></tr><tr><td>str</td><td>f64</td><td>f64</td><td>f64</td><td>f64</td><td>f64</td><td>f64</td><td>f64</td><td>f64</td><td>f64</td><td>f64</td><td>f64</td><td>f64</td><td>f64</td><td>f64</td><td>f64</td><td>f64</td><td>f64</td><td>f64</td><td>f64</td><td>f64</td><td>f64</td><td>f64</td><td>f64</td><td>f64</td><td>f64</td><td>f64</td><td>f64</td><td>f64</td><td>f64</td><td>f64</td><td>i32</td></tr></thead><tbody><tr><td>&quot;IL2&quot;</td><td>1.0</td><td>1.0</td><td>0.0</td><td>0.0</td><td>1.0</td><td>1.0</td><td>0.0</td><td>0.0</td><td>0.0</td><td>0.0</td><td>0.0</td><td>0.0</td><td>1.0</td><td>0.0</td><td>0.0</td><td>0.0</td><td>0.0</td><td>0.0</td><td>0.0</td><td>0.0</td><td>0.0</td><td>0.0</td><td>0.0</td><td>0.0</td><td>0.0</td><td>0.0</td><td>0.0</td><td>0.0</td><td>0.0</td><td>0.0</td><td>1</td></tr><tr><td>&quot;IRF1&quot;</td><td>1.0</td><td>1.0</td><td>1.0</td><td>1.0</td><td>1.0</td><td>0.0</td><td>0.0</td><td>1.0</td><td>1.0</td><td>1.0</td><td>1.0</td><td>0.0</td><td>1.0</td><td>0.0</td><td>0.0</td><td>1.0</td><td>0.0</td><td>0.0</td><td>1.0</td><td>0.0</td><td>0.0</td><td>0.0</td><td>0.0</td><td>0.0</td><td>0.0</td><td>0.0</td><td>0.0</td><td>0.0</td><td>0.0</td><td>0.0</td><td>1</td></tr><tr><td>&quot;CCND1&quot;</td><td>1.0</td><td>1.0</td><td>0.0</td><td>1.0</td><td>1.0</td><td>0.0</td><td>1.0</td><td>0.0</td><td>1.0</td><td>0.0</td><td>0.0</td><td>0.0</td><td>0.0</td><td>1.0</td><td>0.0</td><td>0.0</td><td>0.0</td><td>0.0</td><td>0.0</td><td>0.0</td><td>1.0</td><td>0.0</td><td>0.0</td><td>0.0</td><td>1.0</td><td>1.0</td><td>0.0</td><td>0.0</td><td>0.0</td><td>0.0</td><td>1</td></tr><tr><td>&quot;PRF1&quot;</td><td>1.0</td><td>1.0</td><td>1.0</td><td>0.0</td><td>1.0</td><td>0.0</td><td>0.0</td><td>0.0</td><td>1.0</td><td>0.0</td><td>0.0</td><td>0.0</td><td>0.0</td><td>0.0</td><td>0.0</td><td>0.0</td><td>0.0</td><td>0.0</td><td>0.0</td><td>0.0</td><td>0.0</td><td>0.0</td><td>0.0</td><td>0.0</td><td>0.0</td><td>0.0</td><td>0.0</td><td>0.0</td><td>0.0</td><td>0.0</td><td>1</td></tr><tr><td>&quot;IFNG&quot;</td><td>1.0</td><td>1.0</td><td>1.0</td><td>1.0</td><td>1.0</td><td>1.0</td><td>0.0</td><td>1.0</td><td>1.0</td><td>1.0</td><td>1.0</td><td>0.0</td><td>1.0</td><td>0.0</td><td>0.0</td><td>1.0</td><td>1.0</td><td>0.0</td><td>1.0</td><td>0.0</td><td>0.0</td><td>1.0</td><td>0.0</td><td>0.0</td><td>0.0</td><td>0.0</td><td>0.0</td><td>0.0</td><td>0.0</td><td>0.0</td><td>1</td></tr><tr><td>&hellip;</td><td>&hellip;</td><td>&hellip;</td><td>&hellip;</td><td>&hellip;</td><td>&hellip;</td><td>&hellip;</td><td>&hellip;</td><td>&hellip;</td><td>&hellip;</td><td>&hellip;</td><td>&hellip;</td><td>&hellip;</td><td>&hellip;</td><td>&hellip;</td><td>&hellip;</td><td>&hellip;</td><td>&hellip;</td><td>&hellip;</td><td>&hellip;</td><td>&hellip;</td><td>&hellip;</td><td>&hellip;</td><td>&hellip;</td><td>&hellip;</td><td>&hellip;</td><td>&hellip;</td><td>&hellip;</td><td>&hellip;</td><td>&hellip;</td><td>&hellip;</td><td>&hellip;</td></tr><tr><td>&quot;ZNF181&quot;</td><td>0.0</td><td>0.0</td><td>0.0</td><td>0.0</td><td>0.0</td><td>0.0</td><td>0.0</td><td>0.0</td><td>1.0</td><td>0.0</td><td>0.0</td><td>0.0</td><td>0.0</td><td>0.0</td><td>0.0</td><td>0.0</td><td>0.0</td><td>0.0</td><td>0.0</td><td>0.0</td><td>0.0</td><td>0.0</td><td>0.0</td><td>0.0</td><td>0.0</td><td>0.0</td><td>0.0</td><td>0.0</td><td>0.0</td><td>0.0</td><td>1</td></tr><tr><td>&quot;ZNF230&quot;</td><td>0.0</td><td>0.0</td><td>0.0</td><td>0.0</td><td>0.0</td><td>0.0</td><td>0.0</td><td>0.0</td><td>1.0</td><td>0.0</td><td>0.0</td><td>0.0</td><td>0.0</td><td>0.0</td><td>0.0</td><td>0.0</td><td>0.0</td><td>0.0</td><td>0.0</td><td>0.0</td><td>0.0</td><td>0.0</td><td>0.0</td><td>0.0</td><td>0.0</td><td>0.0</td><td>0.0</td><td>0.0</td><td>0.0</td><td>0.0</td><td>1</td></tr><tr><td>&quot;ZNF302&quot;</td><td>0.0</td><td>0.0</td><td>0.0</td><td>0.0</td><td>0.0</td><td>0.0</td><td>0.0</td><td>0.0</td><td>1.0</td><td>0.0</td><td>0.0</td><td>0.0</td><td>0.0</td><td>0.0</td><td>0.0</td><td>0.0</td><td>0.0</td><td>0.0</td><td>0.0</td><td>0.0</td><td>0.0</td><td>0.0</td><td>0.0</td><td>0.0</td><td>0.0</td><td>0.0</td><td>0.0</td><td>0.0</td><td>0.0</td><td>0.0</td><td>1</td></tr><tr><td>&quot;ZNF655&quot;</td><td>0.0</td><td>0.0</td><td>0.0</td><td>0.0</td><td>0.0</td><td>0.0</td><td>0.0</td><td>0.0</td><td>1.0</td><td>0.0</td><td>0.0</td><td>0.0</td><td>0.0</td><td>0.0</td><td>0.0</td><td>0.0</td><td>0.0</td><td>0.0</td><td>0.0</td><td>0.0</td><td>0.0</td><td>0.0</td><td>0.0</td><td>0.0</td><td>0.0</td><td>0.0</td><td>0.0</td><td>0.0</td><td>0.0</td><td>0.0</td><td>1</td></tr><tr><td>&quot;PRR5L&quot;</td><td>0.0</td><td>0.0</td><td>0.0</td><td>0.0</td><td>0.0</td><td>1.0</td><td>0.0</td><td>0.0</td><td>0.0</td><td>0.0</td><td>0.0</td><td>0.0</td><td>0.0</td><td>0.0</td><td>0.0</td><td>0.0</td><td>0.0</td><td>0.0</td><td>0.0</td><td>0.0</td><td>0.0</td><td>0.0</td><td>0.0</td><td>0.0</td><td>0.0</td><td>0.0</td><td>0.0</td><td>0.0</td><td>0.0</td><td>0.0</td><td>1</td></tr></tbody></table></div>"
      ],
      "text/plain": [
       "shape: (471, 32)\n",
       "┌────────┬────────┬────────┬───────┬───┬────────┬───────┬───────┬───────────────┐\n",
       "│ target ┆ STAT5A ┆ STAT5B ┆ STAT4 ┆ … ┆ ARID1A ┆ ADNP2 ┆ APBB1 ┆ unannotated_1 │\n",
       "│ ---    ┆ ---    ┆ ---    ┆ ---   ┆   ┆ ---    ┆ ---   ┆ ---   ┆ ---           │\n",
       "│ str    ┆ f64    ┆ f64    ┆ f64   ┆   ┆ f64    ┆ f64   ┆ f64   ┆ i32           │\n",
       "╞════════╪════════╪════════╪═══════╪═══╪════════╪═══════╪═══════╪═══════════════╡\n",
       "│ IL2    ┆ 1.0    ┆ 1.0    ┆ 0.0   ┆ … ┆ 0.0    ┆ 0.0   ┆ 0.0   ┆ 1             │\n",
       "│ IRF1   ┆ 1.0    ┆ 1.0    ┆ 1.0   ┆ … ┆ 0.0    ┆ 0.0   ┆ 0.0   ┆ 1             │\n",
       "│ CCND1  ┆ 1.0    ┆ 1.0    ┆ 0.0   ┆ … ┆ 0.0    ┆ 0.0   ┆ 0.0   ┆ 1             │\n",
       "│ PRF1   ┆ 1.0    ┆ 1.0    ┆ 1.0   ┆ … ┆ 0.0    ┆ 0.0   ┆ 0.0   ┆ 1             │\n",
       "│ IFNG   ┆ 1.0    ┆ 1.0    ┆ 1.0   ┆ … ┆ 0.0    ┆ 0.0   ┆ 0.0   ┆ 1             │\n",
       "│ …      ┆ …      ┆ …      ┆ …     ┆ … ┆ …      ┆ …     ┆ …     ┆ …             │\n",
       "│ ZNF181 ┆ 0.0    ┆ 0.0    ┆ 0.0   ┆ … ┆ 0.0    ┆ 0.0   ┆ 0.0   ┆ 1             │\n",
       "│ ZNF230 ┆ 0.0    ┆ 0.0    ┆ 0.0   ┆ … ┆ 0.0    ┆ 0.0   ┆ 0.0   ┆ 1             │\n",
       "│ ZNF302 ┆ 0.0    ┆ 0.0    ┆ 0.0   ┆ … ┆ 0.0    ┆ 0.0   ┆ 0.0   ┆ 1             │\n",
       "│ ZNF655 ┆ 0.0    ┆ 0.0    ┆ 0.0   ┆ … ┆ 0.0    ┆ 0.0   ┆ 0.0   ┆ 1             │\n",
       "│ PRR5L  ┆ 0.0    ┆ 0.0    ┆ 0.0   ┆ … ┆ 0.0    ┆ 0.0   ┆ 0.0   ┆ 1             │\n",
       "└────────┴────────┴────────┴───────┴───┴────────┴───────┴───────┴───────────────┘"
      ]
     },
     "execution_count": 4,
     "metadata": {},
     "output_type": "execute_result"
    }
   ],
   "source": [
    "mask"
   ]
  },
  {
   "cell_type": "code",
   "execution_count": null,
   "id": "8898fe42",
   "metadata": {},
   "outputs": [
    {
     "name": "stdout",
     "output_type": "stream",
     "text": [
      "epoch:  0  train_loss:  121.63222   valid_loss:  102.3654\n",
      "epoch:  10  train_loss:  63.31294   valid_loss:  47.911713\n",
      "epoch:  20  train_loss:  54.895252   valid_loss:  41.293972\n",
      "epoch:  0  train_loss:  118.466286   valid_loss:  98.02734\n",
      "epoch:  10  train_loss:  62.935814   valid_loss:  47.67235\n",
      "epoch:  20  train_loss:  53.9548   valid_loss:  41.97272\n",
      "epoch:  0  train_loss:  117.88331   valid_loss:  96.87498\n",
      "epoch:  10  train_loss:  62.865475   valid_loss:  46.66238\n",
      "epoch:  20  train_loss:  54.215176   valid_loss:  42.721836\n",
      "epoch:  0  train_loss:  121.65493   valid_loss:  100.93554\n",
      "epoch:  10  train_loss:  63.101658   valid_loss:  47.292202\n",
      "epoch:  20  train_loss:  54.130653   valid_loss:  41.82671\n",
      "epoch:  0  train_loss:  121.7331   valid_loss:  103.845825\n",
      "epoch:  10  train_loss:  63.27718   valid_loss:  48.57218\n",
      "epoch:  20  train_loss:  55.03451   valid_loss:  42.18485\n",
      "epoch:  0  train_loss:  121.53536   valid_loss:  103.879166\n",
      "epoch:  10  train_loss:  64.460495   valid_loss:  48.35404\n",
      "epoch:  20  train_loss:  54.70174   valid_loss:  42.644207\n",
      "epoch:  0  train_loss:  119.93205   valid_loss:  101.031944\n",
      "epoch:  10  train_loss:  62.433384   valid_loss:  47.027225\n",
      "epoch:  20  train_loss:  54.307827   valid_loss:  43.109985\n",
      "epoch:  0  train_loss:  121.08934   valid_loss:  99.20417\n",
      "epoch:  10  train_loss:  63.192394   valid_loss:  48.500774\n",
      "epoch:  20  train_loss:  54.583466   valid_loss:  41.410122\n",
      "epoch:  0  train_loss:  118.938805   valid_loss:  98.84282\n",
      "epoch:  10  train_loss:  62.39682   valid_loss:  46.239613\n",
      "epoch:  20  train_loss:  54.104424   valid_loss:  41.030396\n",
      "epoch:  0  train_loss:  124.05401   valid_loss:  106.37563\n",
      "epoch:  10  train_loss:  63.68988   valid_loss:  47.86264\n",
      "epoch:  20  train_loss:  55.276024   valid_loss:  42.883335\n"
     ]
    },
    {
     "data": {
      "text/plain": [
       "(VEGA(\n",
       "   (decoder): DecoderBayes(\n",
       "     (sparse_layer): BayesianSparseLayer()\n",
       "   )\n",
       "   (encoder): Encoder(\n",
       "     (encoder): Sequential(\n",
       "       (0): Linear(in_features=471, out_features=800, bias=True)\n",
       "       (1): ReLU()\n",
       "       (2): Dropout(p=0.3, inplace=False)\n",
       "       (3): Linear(in_features=800, out_features=800, bias=True)\n",
       "       (4): ReLU()\n",
       "       (5): Dropout(p=0.3, inplace=False)\n",
       "     )\n",
       "     (mu): Sequential(\n",
       "       (0): Linear(in_features=800, out_features=31, bias=True)\n",
       "       (1): Dropout(p=0.5, inplace=False)\n",
       "     )\n",
       "     (sigma): Sequential(\n",
       "       (0): Linear(in_features=800, out_features=31, bias=True)\n",
       "       (1): Dropout(p=0.5, inplace=False)\n",
       "     )\n",
       "   )\n",
       " ),\n",
       "           STAT5A    STAT5B     STAT4      IRF1     STAT3     RUNX1     GTF2I  \\\n",
       " IL2     0.000164 -0.001575  0.000000  0.000000  0.000997 -0.000494  0.000000   \n",
       " IRF1   -0.004038  0.001053  0.006667 -0.002780 -0.004636  0.000000  0.000000   \n",
       " CCND1   0.001617 -0.000472  0.000000  0.001623  0.000513  0.000000  0.003482   \n",
       " PRF1   -0.004826 -0.002003  0.022948  0.000000 -0.010244  0.000000  0.000000   \n",
       " IFNG    0.000660  0.000966  0.000084 -0.002017 -0.000460 -0.003031  0.000000   \n",
       " ...          ...       ...       ...       ...       ...       ...       ...   \n",
       " ZNF181  0.000000  0.000000  0.000000  0.000000  0.000000  0.000000  0.000000   \n",
       " ZNF230  0.000000  0.000000  0.000000  0.000000  0.000000  0.000000  0.000000   \n",
       " ZNF302  0.000000  0.000000  0.000000  0.000000  0.000000  0.000000  0.000000   \n",
       " ZNF655  0.000000  0.000000  0.000000  0.000000  0.000000  0.000000  0.000000   \n",
       " PRR5L   0.000000  0.000000  0.000000  0.000000  0.000000  0.001214  0.000000   \n",
       " \n",
       "             IRF2     STAT1      IRF8  ...      IRF9  AHRR  AEBP1      SOX2  \\\n",
       " IL2     0.000000  0.000000  0.000000  ...  0.000000   0.0    0.0  0.000000   \n",
       " IRF1    0.006217 -0.001303 -0.003159  ...  0.000000   0.0    0.0  0.000000   \n",
       " CCND1   0.000000  0.000690  0.000000  ...  0.000000   0.0    0.0 -0.000015   \n",
       " PRF1    0.000000 -0.008258  0.000000  ...  0.000000   0.0    0.0  0.000000   \n",
       " IFNG   -0.001208 -0.000639 -0.000203  ...  0.001364   0.0    0.0  0.000000   \n",
       " ...          ...       ...       ...  ...       ...   ...    ...       ...   \n",
       " ZNF181  0.000000 -0.001886  0.000000  ...  0.000000   0.0    0.0  0.000000   \n",
       " ZNF230  0.000000  0.001348  0.000000  ...  0.000000   0.0    0.0  0.000000   \n",
       " ZNF302  0.000000 -0.003470  0.000000  ...  0.000000   0.0    0.0  0.000000   \n",
       " ZNF655  0.000000  0.000098  0.000000  ...  0.000000   0.0    0.0  0.000000   \n",
       " PRR5L   0.000000  0.000000  0.000000  ...  0.000000   0.0    0.0  0.000000   \n",
       " \n",
       "           THAP11  IRF6  ARID1A  ADNP2  APBB1  unannotated_1  \n",
       " IL2     0.000000   0.0     0.0    0.0    0.0      -0.000483  \n",
       " IRF1    0.000000   0.0     0.0    0.0    0.0      -0.006030  \n",
       " CCND1   0.001077   0.0     0.0    0.0    0.0       0.001422  \n",
       " PRF1    0.000000   0.0     0.0    0.0    0.0      -0.021159  \n",
       " IFNG    0.000000   0.0     0.0    0.0    0.0      -0.000526  \n",
       " ...          ...   ...     ...    ...    ...            ...  \n",
       " ZNF181  0.000000   0.0     0.0    0.0    0.0      -0.000060  \n",
       " ZNF230  0.000000   0.0     0.0    0.0    0.0      -0.001655  \n",
       " ZNF302  0.000000   0.0     0.0    0.0    0.0      -0.008127  \n",
       " ZNF655  0.000000   0.0     0.0    0.0    0.0       0.002370  \n",
       " PRR5L   0.000000   0.0     0.0    0.0    0.0      -0.003054  \n",
       " \n",
       " [471 rows x 31 columns],\n",
       "           STAT5A    STAT5B     STAT4      IRF1     STAT3     RUNX1     GTF2I  \\\n",
       " IL2     0.003341  0.004278  0.000000  0.000000  0.004541  0.005566  0.000000   \n",
       " IRF1    0.007289  0.005653  0.009620  0.005456  0.011465  0.000000  0.000000   \n",
       " CCND1   0.005411  0.003777  0.000000  0.005191  0.004622  0.000000  0.003604   \n",
       " PRF1    0.030337  0.006884  0.036079  0.000000  0.031120  0.000000  0.000000   \n",
       " IFNG    0.004089  0.005592  0.004895  0.003508  0.003753  0.006563  0.000000   \n",
       " ...          ...       ...       ...       ...       ...       ...       ...   \n",
       " ZNF181  0.000000  0.000000  0.000000  0.000000  0.000000  0.000000  0.000000   \n",
       " ZNF230  0.000000  0.000000  0.000000  0.000000  0.000000  0.000000  0.000000   \n",
       " ZNF302  0.000000  0.000000  0.000000  0.000000  0.000000  0.000000  0.000000   \n",
       " ZNF655  0.000000  0.000000  0.000000  0.000000  0.000000  0.000000  0.000000   \n",
       " PRR5L   0.000000  0.000000  0.000000  0.000000  0.000000  0.005090  0.000000   \n",
       " \n",
       "             IRF2     STAT1      IRF8  ...      IRF9  AHRR  AEBP1      SOX2  \\\n",
       " IL2     0.000000  0.000000  0.000000  ...  0.000000   0.0    0.0  0.000000   \n",
       " IRF1    0.005960  0.005998  0.007837  ...  0.000000   0.0    0.0  0.000000   \n",
       " CCND1   0.000000  0.003777  0.000000  ...  0.000000   0.0    0.0  0.004481   \n",
       " PRF1    0.000000  0.006132  0.000000  ...  0.000000   0.0    0.0  0.000000   \n",
       " IFNG    0.004122  0.005194  0.004095  ...  0.004889   0.0    0.0  0.000000   \n",
       " ...          ...       ...       ...  ...       ...   ...    ...       ...   \n",
       " ZNF181  0.000000  0.005228  0.000000  ...  0.000000   0.0    0.0  0.000000   \n",
       " ZNF230  0.000000  0.003925  0.000000  ...  0.000000   0.0    0.0  0.000000   \n",
       " ZNF302  0.000000  0.006239  0.000000  ...  0.000000   0.0    0.0  0.000000   \n",
       " ZNF655  0.000000  0.004475  0.000000  ...  0.000000   0.0    0.0  0.000000   \n",
       " PRR5L   0.000000  0.000000  0.000000  ...  0.000000   0.0    0.0  0.000000   \n",
       " \n",
       "           THAP11  IRF6  ARID1A  ADNP2  APBB1  unannotated_1  \n",
       " IL2     0.000000   0.0     0.0    0.0    0.0       0.005518  \n",
       " IRF1    0.000000   0.0     0.0    0.0    0.0       0.005412  \n",
       " CCND1   0.004888   0.0     0.0    0.0    0.0       0.003573  \n",
       " PRF1    0.000000   0.0     0.0    0.0    0.0       0.013044  \n",
       " IFNG    0.000000   0.0     0.0    0.0    0.0       0.004117  \n",
       " ...          ...   ...     ...    ...    ...            ...  \n",
       " ZNF181  0.000000   0.0     0.0    0.0    0.0       0.003482  \n",
       " ZNF230  0.000000   0.0     0.0    0.0    0.0       0.004091  \n",
       " ZNF302  0.000000   0.0     0.0    0.0    0.0       0.005088  \n",
       " ZNF655  0.000000   0.0     0.0    0.0    0.0       0.007938  \n",
       " PRR5L   0.000000   0.0     0.0    0.0    0.0       0.004810  \n",
       " \n",
       " [471 rows x 31 columns])"
      ]
     },
     "execution_count": 6,
     "metadata": {},
     "output_type": "execute_result"
    }
   ],
   "source": [
    "from training.training import run_vega_model\n",
    "run_vega_model(\n",
    "    model_type=\"vega\",\n",
    "    train_data=train,\n",
    "    valid_data=valid,\n",
    "    mask_df=mask,\n",
    "    epochs=30,\n",
    "    N=10,\n",
    "    cond=\"control\"\n",
    ")"
   ]
  }
 ],
 "metadata": {
  "kernelspec": {
   "display_name": ".venv",
   "language": "python",
   "name": "python3"
  },
  "language_info": {
   "codemirror_mode": {
    "name": "ipython",
    "version": 3
   },
   "file_extension": ".py",
   "mimetype": "text/x-python",
   "name": "python",
   "nbconvert_exporter": "python",
   "pygments_lexer": "ipython3",
   "version": "3.13.3"
  }
 },
 "nbformat": 4,
 "nbformat_minor": 5
}
