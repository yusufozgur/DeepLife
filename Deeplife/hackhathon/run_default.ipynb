{
 "cells": [
  {
   "cell_type": "markdown",
   "id": "ff0845d0",
   "metadata": {},
   "source": [
    "needed to reload modules, otherwise you will have nan errors"
   ]
  },
  {
   "cell_type": "code",
   "execution_count": 7,
   "id": "5c83b151",
   "metadata": {},
   "outputs": [],
   "source": [
    "%load_ext autoreload\n",
    "%autoreload 2"
   ]
  },
  {
   "cell_type": "markdown",
   "id": "a78ab4c7",
   "metadata": {},
   "source": [
    "### Data"
   ]
  },
  {
   "cell_type": "code",
   "execution_count": 8,
   "id": "33b993af",
   "metadata": {},
   "outputs": [
    {
     "name": "stdout",
     "output_type": "stream",
     "text": [
      "Printing mask:\n",
      "shape: (363, 18)\n",
      "┌─────────┬────────┬────────┬───────┬───┬──────┬──────┬──────┬───────────────┐\n",
      "│ target  ┆ STAT5A ┆ STAT5B ┆ STAT4 ┆ … ┆ IRF7 ┆ IRF9 ┆ IRF6 ┆ unannotated_1 │\n",
      "│ ---     ┆ ---    ┆ ---    ┆ ---   ┆   ┆ ---  ┆ ---  ┆ ---  ┆ ---           │\n",
      "│ str     ┆ f64    ┆ f64    ┆ f64   ┆   ┆ f64  ┆ f64  ┆ f64  ┆ i32           │\n",
      "╞═════════╪════════╪════════╪═══════╪═══╪══════╪══════╪══════╪═══════════════╡\n",
      "│ IL2     ┆ 1.0    ┆ 1.0    ┆ 0.0   ┆ … ┆ 0.0  ┆ 0.0  ┆ 0.0  ┆ 1             │\n",
      "│ IRF1    ┆ 1.0    ┆ 1.0    ┆ 1.0   ┆ … ┆ 0.0  ┆ 0.0  ┆ 0.0  ┆ 1             │\n",
      "│ CCND1   ┆ 1.0    ┆ 1.0    ┆ 0.0   ┆ … ┆ 0.0  ┆ 0.0  ┆ 0.0  ┆ 1             │\n",
      "│ PRF1    ┆ 1.0    ┆ 1.0    ┆ 1.0   ┆ … ┆ 0.0  ┆ 0.0  ┆ 0.0  ┆ 1             │\n",
      "│ IFNG    ┆ 1.0    ┆ 1.0    ┆ 1.0   ┆ … ┆ 0.0  ┆ 1.0  ┆ 0.0  ┆ 1             │\n",
      "│ …       ┆ …      ┆ …      ┆ …     ┆ … ┆ …    ┆ …    ┆ …    ┆ …             │\n",
      "│ ZC3HAV1 ┆ 0.0    ┆ 0.0    ┆ 0.0   ┆ … ┆ 0.0  ┆ 0.0  ┆ 0.0  ┆ 1             │\n",
      "│ ZNF181  ┆ 0.0    ┆ 0.0    ┆ 0.0   ┆ … ┆ 0.0  ┆ 0.0  ┆ 0.0  ┆ 1             │\n",
      "│ ZNF230  ┆ 0.0    ┆ 0.0    ┆ 0.0   ┆ … ┆ 0.0  ┆ 0.0  ┆ 0.0  ┆ 1             │\n",
      "│ ZNF302  ┆ 0.0    ┆ 0.0    ┆ 0.0   ┆ … ┆ 0.0  ┆ 0.0  ┆ 0.0  ┆ 1             │\n",
      "│ ZNF655  ┆ 0.0    ┆ 0.0    ┆ 0.0   ┆ … ┆ 0.0  ┆ 0.0  ┆ 0.0  ┆ 1             │\n",
      "└─────────┴────────┴────────┴───────┴───┴──────┴──────┴──────┴───────────────┘\n",
      "\n",
      "Printing train:\n",
      "AnnData object with n_obs × n_vars = 13515 × 363\n",
      "    obs: 'condition', 'n_counts', 'n_genes', 'mt_frac', 'cell_type'\n",
      "    var: 'gene_symbol', 'n_cells'\n",
      "    uns: 'cell_type_colors', 'condition_colors', 'neighbors'\n",
      "    obsm: 'X_pca', 'X_tsne', 'X_umap'\n",
      "    obsp: 'connectivities', 'distances'\n",
      "\n",
      "Printing valid:\n",
      "AnnData object with n_obs × n_vars = 3378 × 363\n",
      "    obs: 'condition', 'n_counts', 'n_genes', 'mt_frac', 'cell_type'\n",
      "    var: 'gene_symbol', 'n_cells'\n",
      "    uns: 'cell_type_colors', 'condition_colors', 'neighbors'\n",
      "    obsm: 'X_pca', 'X_tsne', 'X_umap'\n",
      "    obsp: 'connectivities', 'distances'\n"
     ]
    }
   ],
   "source": [
    "from data_process_and_get_mask import create_mask\n",
    "from get_data import pbmc_train, pbmc_val\n",
    "\n",
    "tf_list = [\n",
    "    'IRF1', 'IRF2', 'IRF2BPL', 'IRF3', 'IRF4', 'IRF5', 'IRF6', 'IRF7', 'IRF8', 'IRF9', 'STAT1', 'STAT2', 'STAT3', 'STAT4', 'STAT5A','STAT5B', 'STAT6'\n",
    "]\n",
    "#[\"GTF2I\",\"GTF3A\",\"NRF1\",\"ELF1\",\"STAT1\",\"STAT2\",\"IRF9\",\"STAT3\",\"STAT4\",\"STAT5A\",\"STAT5B\",\"IRF3\",\"IRF7\",\"IRF1\",\"IRF5\",\"IRF8\"]\n",
    "\n",
    "mask, train, valid = create_mask(pbmc_train, pbmc_val, tf_list)\n",
    "print(\"Printing mask:\")\n",
    "print(mask)\n",
    "print(\"\\nPrinting train:\")\n",
    "print(train)\n",
    "print(\"\\nPrinting valid:\")\n",
    "print(valid)"
   ]
  },
  {
   "cell_type": "code",
   "execution_count": 9,
   "id": "cd42900c",
   "metadata": {},
   "outputs": [],
   "source": [
    "from model.vega import VEGA\n",
    "from model.decoder_default import DecoderVEGA\n",
    "from model.encoder_with_mu_clamp import Encoder\n",
    "from device import device\n",
    "\n",
    "mask_np = mask.drop(\"target\").to_numpy()\n",
    "\n",
    "latent_dims= mask_np.shape[1]\n",
    "input_dims = mask_np.shape[0]\n",
    "dropout = 0.3\n",
    "z_dropout = 0.5\n",
    "\n",
    "vega = VEGA(\n",
    "    encoder=Encoder(latent_dims, input_dims, dropout, z_dropout),\n",
    "    decoder=DecoderVEGA(mask_np.T)\n",
    "    ).to(device)"
   ]
  },
  {
   "cell_type": "code",
   "execution_count": 10,
   "id": "8a518338",
   "metadata": {},
   "outputs": [],
   "source": [
    "# model training\n",
    "#vega, vega_losses, vega_klds, vega_mses = trainVEGA(vega, train, epochs = 20, beta = 0.0001) #takes about 2 mins on GPU # epoch 100"
   ]
  },
  {
   "cell_type": "markdown",
   "id": "0cf550af",
   "metadata": {},
   "source": [
    "now use the common training functions"
   ]
  },
  {
   "cell_type": "code",
   "execution_count": 11,
   "id": "900ae080",
   "metadata": {},
   "outputs": [
    {
     "data": {
      "text/html": [
       "<div><style>\n",
       ".dataframe > thead > tr,\n",
       ".dataframe > tbody > tr {\n",
       "  text-align: right;\n",
       "  white-space: pre-wrap;\n",
       "}\n",
       "</style>\n",
       "<small>shape: (363, 18)</small><table border=\"1\" class=\"dataframe\"><thead><tr><th>target</th><th>STAT5A</th><th>STAT5B</th><th>STAT4</th><th>IRF1</th><th>STAT3</th><th>IRF2</th><th>STAT1</th><th>IRF8</th><th>STAT6</th><th>IRF4</th><th>IRF3</th><th>IRF5</th><th>STAT2</th><th>IRF7</th><th>IRF9</th><th>IRF6</th><th>unannotated_1</th></tr><tr><td>str</td><td>f64</td><td>f64</td><td>f64</td><td>f64</td><td>f64</td><td>f64</td><td>f64</td><td>f64</td><td>f64</td><td>f64</td><td>f64</td><td>f64</td><td>f64</td><td>f64</td><td>f64</td><td>f64</td><td>i32</td></tr></thead><tbody><tr><td>&quot;IL2&quot;</td><td>1.0</td><td>1.0</td><td>0.0</td><td>0.0</td><td>1.0</td><td>0.0</td><td>0.0</td><td>0.0</td><td>0.0</td><td>1.0</td><td>0.0</td><td>0.0</td><td>0.0</td><td>0.0</td><td>0.0</td><td>0.0</td><td>1</td></tr><tr><td>&quot;IRF1&quot;</td><td>1.0</td><td>1.0</td><td>1.0</td><td>1.0</td><td>1.0</td><td>1.0</td><td>1.0</td><td>1.0</td><td>1.0</td><td>1.0</td><td>1.0</td><td>0.0</td><td>1.0</td><td>0.0</td><td>0.0</td><td>0.0</td><td>1</td></tr><tr><td>&quot;CCND1&quot;</td><td>1.0</td><td>1.0</td><td>0.0</td><td>1.0</td><td>1.0</td><td>0.0</td><td>1.0</td><td>0.0</td><td>0.0</td><td>0.0</td><td>0.0</td><td>0.0</td><td>0.0</td><td>0.0</td><td>0.0</td><td>0.0</td><td>1</td></tr><tr><td>&quot;PRF1&quot;</td><td>1.0</td><td>1.0</td><td>1.0</td><td>0.0</td><td>1.0</td><td>0.0</td><td>1.0</td><td>0.0</td><td>0.0</td><td>0.0</td><td>0.0</td><td>0.0</td><td>0.0</td><td>0.0</td><td>0.0</td><td>0.0</td><td>1</td></tr><tr><td>&quot;IFNG&quot;</td><td>1.0</td><td>1.0</td><td>1.0</td><td>1.0</td><td>1.0</td><td>1.0</td><td>1.0</td><td>1.0</td><td>1.0</td><td>1.0</td><td>1.0</td><td>1.0</td><td>1.0</td><td>0.0</td><td>1.0</td><td>0.0</td><td>1</td></tr><tr><td>&hellip;</td><td>&hellip;</td><td>&hellip;</td><td>&hellip;</td><td>&hellip;</td><td>&hellip;</td><td>&hellip;</td><td>&hellip;</td><td>&hellip;</td><td>&hellip;</td><td>&hellip;</td><td>&hellip;</td><td>&hellip;</td><td>&hellip;</td><td>&hellip;</td><td>&hellip;</td><td>&hellip;</td><td>&hellip;</td></tr><tr><td>&quot;ZC3HAV1&quot;</td><td>0.0</td><td>0.0</td><td>0.0</td><td>0.0</td><td>0.0</td><td>0.0</td><td>1.0</td><td>0.0</td><td>0.0</td><td>0.0</td><td>0.0</td><td>0.0</td><td>0.0</td><td>0.0</td><td>0.0</td><td>0.0</td><td>1</td></tr><tr><td>&quot;ZNF181&quot;</td><td>0.0</td><td>0.0</td><td>0.0</td><td>0.0</td><td>0.0</td><td>0.0</td><td>1.0</td><td>0.0</td><td>0.0</td><td>0.0</td><td>0.0</td><td>0.0</td><td>0.0</td><td>0.0</td><td>0.0</td><td>0.0</td><td>1</td></tr><tr><td>&quot;ZNF230&quot;</td><td>0.0</td><td>0.0</td><td>0.0</td><td>0.0</td><td>0.0</td><td>0.0</td><td>1.0</td><td>0.0</td><td>0.0</td><td>0.0</td><td>0.0</td><td>0.0</td><td>0.0</td><td>0.0</td><td>0.0</td><td>0.0</td><td>1</td></tr><tr><td>&quot;ZNF302&quot;</td><td>0.0</td><td>0.0</td><td>0.0</td><td>0.0</td><td>0.0</td><td>0.0</td><td>1.0</td><td>0.0</td><td>0.0</td><td>0.0</td><td>0.0</td><td>0.0</td><td>0.0</td><td>0.0</td><td>0.0</td><td>0.0</td><td>1</td></tr><tr><td>&quot;ZNF655&quot;</td><td>0.0</td><td>0.0</td><td>0.0</td><td>0.0</td><td>0.0</td><td>0.0</td><td>1.0</td><td>0.0</td><td>0.0</td><td>0.0</td><td>0.0</td><td>0.0</td><td>0.0</td><td>0.0</td><td>0.0</td><td>0.0</td><td>1</td></tr></tbody></table></div>"
      ],
      "text/plain": [
       "shape: (363, 18)\n",
       "┌─────────┬────────┬────────┬───────┬───┬──────┬──────┬──────┬───────────────┐\n",
       "│ target  ┆ STAT5A ┆ STAT5B ┆ STAT4 ┆ … ┆ IRF7 ┆ IRF9 ┆ IRF6 ┆ unannotated_1 │\n",
       "│ ---     ┆ ---    ┆ ---    ┆ ---   ┆   ┆ ---  ┆ ---  ┆ ---  ┆ ---           │\n",
       "│ str     ┆ f64    ┆ f64    ┆ f64   ┆   ┆ f64  ┆ f64  ┆ f64  ┆ i32           │\n",
       "╞═════════╪════════╪════════╪═══════╪═══╪══════╪══════╪══════╪═══════════════╡\n",
       "│ IL2     ┆ 1.0    ┆ 1.0    ┆ 0.0   ┆ … ┆ 0.0  ┆ 0.0  ┆ 0.0  ┆ 1             │\n",
       "│ IRF1    ┆ 1.0    ┆ 1.0    ┆ 1.0   ┆ … ┆ 0.0  ┆ 0.0  ┆ 0.0  ┆ 1             │\n",
       "│ CCND1   ┆ 1.0    ┆ 1.0    ┆ 0.0   ┆ … ┆ 0.0  ┆ 0.0  ┆ 0.0  ┆ 1             │\n",
       "│ PRF1    ┆ 1.0    ┆ 1.0    ┆ 1.0   ┆ … ┆ 0.0  ┆ 0.0  ┆ 0.0  ┆ 1             │\n",
       "│ IFNG    ┆ 1.0    ┆ 1.0    ┆ 1.0   ┆ … ┆ 0.0  ┆ 1.0  ┆ 0.0  ┆ 1             │\n",
       "│ …       ┆ …      ┆ …      ┆ …     ┆ … ┆ …    ┆ …    ┆ …    ┆ …             │\n",
       "│ ZC3HAV1 ┆ 0.0    ┆ 0.0    ┆ 0.0   ┆ … ┆ 0.0  ┆ 0.0  ┆ 0.0  ┆ 1             │\n",
       "│ ZNF181  ┆ 0.0    ┆ 0.0    ┆ 0.0   ┆ … ┆ 0.0  ┆ 0.0  ┆ 0.0  ┆ 1             │\n",
       "│ ZNF230  ┆ 0.0    ┆ 0.0    ┆ 0.0   ┆ … ┆ 0.0  ┆ 0.0  ┆ 0.0  ┆ 1             │\n",
       "│ ZNF302  ┆ 0.0    ┆ 0.0    ┆ 0.0   ┆ … ┆ 0.0  ┆ 0.0  ┆ 0.0  ┆ 1             │\n",
       "│ ZNF655  ┆ 0.0    ┆ 0.0    ┆ 0.0   ┆ … ┆ 0.0  ┆ 0.0  ┆ 0.0  ┆ 1             │\n",
       "└─────────┴────────┴────────┴───────┴───┴──────┴──────┴──────┴───────────────┘"
      ]
     },
     "execution_count": 11,
     "metadata": {},
     "output_type": "execute_result"
    }
   ],
   "source": [
    "mask"
   ]
  },
  {
   "cell_type": "code",
   "execution_count": 12,
   "id": "ede11dba",
   "metadata": {},
   "outputs": [
    {
     "name": "stdout",
     "output_type": "stream",
     "text": [
      "epoch:  0  train_loss:  82.71822   valid_loss:  64.09644\n",
      "epoch:  0  train_loss:  40.26143   valid_loss:  32.08836\n",
      "epoch:  0  train_loss:  35.723995   valid_loss:  28.930416\n",
      "epoch:  0  train_loss:  33.751404   valid_loss:  27.517126\n",
      "epoch:  0  train_loss:  33.037632   valid_loss:  27.086815\n"
     ]
    },
    {
     "data": {
      "text/plain": [
       "(VEGA(\n",
       "   (decoder): DecoderVEGA(\n",
       "     (sparse_layer): Sequential(\n",
       "       (0): SparseLayer()\n",
       "     )\n",
       "   )\n",
       "   (encoder): Encoder(\n",
       "     (encoder): Sequential(\n",
       "       (0): Linear(in_features=363, out_features=800, bias=True)\n",
       "       (1): ReLU()\n",
       "       (2): Dropout(p=0.3, inplace=False)\n",
       "       (3): Linear(in_features=800, out_features=800, bias=True)\n",
       "       (4): ReLU()\n",
       "       (5): Dropout(p=0.3, inplace=False)\n",
       "     )\n",
       "     (mu): Sequential(\n",
       "       (0): Linear(in_features=800, out_features=17, bias=True)\n",
       "       (1): Dropout(p=0.5, inplace=False)\n",
       "     )\n",
       "     (sigma): Sequential(\n",
       "       (0): Linear(in_features=800, out_features=17, bias=True)\n",
       "       (1): Dropout(p=0.5, inplace=False)\n",
       "     )\n",
       "   )\n",
       " ),\n",
       "            STAT5A    STAT5B     STAT4      IRF1     STAT3      IRF2     STAT1  \\\n",
       " IL2      0.000053  0.000112  0.000000  0.000000 -0.000159  0.000000  0.000000   \n",
       " IRF1    -0.003727  0.003286 -0.002206  0.000897 -0.003300  0.000821  0.004303   \n",
       " CCND1    0.000041 -0.000011  0.000000  0.000254 -0.000157  0.000000 -0.000061   \n",
       " PRF1    -0.004452 -0.005725 -0.005381  0.000000 -0.007439  0.000000  0.009486   \n",
       " IFNG     0.000222  0.000139 -0.000516 -0.000517 -0.000473  0.000179  0.000683   \n",
       " ...           ...       ...       ...       ...       ...       ...       ...   \n",
       " ZC3HAV1  0.000000  0.000000  0.000000  0.000000  0.000000  0.000000  0.003819   \n",
       " ZNF181   0.000000  0.000000  0.000000  0.000000  0.000000  0.000000 -0.000683   \n",
       " ZNF230   0.000000  0.000000  0.000000  0.000000  0.000000  0.000000 -0.000415   \n",
       " ZNF302   0.000000  0.000000  0.000000  0.000000  0.000000  0.000000 -0.000705   \n",
       " ZNF655   0.000000  0.000000  0.000000  0.000000  0.000000  0.000000 -0.002042   \n",
       " \n",
       "              IRF8     STAT6      IRF4      IRF3      IRF5     STAT2  IRF7  \\\n",
       " IL2      0.000000  0.000000  0.000121  0.000000  0.000000  0.000000   0.0   \n",
       " IRF1    -0.000459 -0.001879  0.010544  0.001684  0.000000  0.009115   0.0   \n",
       " CCND1    0.000000  0.000000  0.000000  0.000000  0.000000  0.000000   0.0   \n",
       " PRF1     0.000000  0.000000  0.000000  0.000000  0.000000  0.000000   0.0   \n",
       " IFNG    -0.000976  0.000524  0.000776  0.000206 -0.000028  0.000172   0.0   \n",
       " ...           ...       ...       ...       ...       ...       ...   ...   \n",
       " ZC3HAV1  0.000000  0.000000  0.000000  0.000000  0.000000  0.000000   0.0   \n",
       " ZNF181   0.000000  0.000000  0.000000  0.000000  0.000000  0.000000   0.0   \n",
       " ZNF230   0.000000  0.000000  0.000000  0.000000  0.000000  0.000000   0.0   \n",
       " ZNF302   0.000000  0.000000  0.000000  0.000000  0.000000  0.000000   0.0   \n",
       " ZNF655   0.000000  0.000000  0.000000  0.000000  0.000000  0.000000   0.0   \n",
       " \n",
       "              IRF9  IRF6  unannotated_1  \n",
       " IL2      0.000000   0.0       0.000025  \n",
       " IRF1     0.000000   0.0      -0.002484  \n",
       " CCND1    0.000000   0.0      -0.001127  \n",
       " PRF1     0.000000   0.0      -0.000058  \n",
       " IFNG    -0.000013   0.0      -0.000525  \n",
       " ...           ...   ...            ...  \n",
       " ZC3HAV1  0.000000   0.0       0.003271  \n",
       " ZNF181   0.000000   0.0       0.001528  \n",
       " ZNF230   0.000000   0.0       0.001546  \n",
       " ZNF302   0.000000   0.0       0.003629  \n",
       " ZNF655   0.000000   0.0      -0.000648  \n",
       " \n",
       " [363 rows x 17 columns],\n",
       "            STAT5A    STAT5B     STAT4      IRF1     STAT3      IRF2     STAT1  \\\n",
       " IL2      0.000348  0.000417  0.000000  0.000000  0.000105  0.000000  0.000000   \n",
       " IRF1     0.003175  0.003049  0.001012  0.002167  0.003258  0.002498  0.001560   \n",
       " CCND1    0.000373  0.000462  0.000000  0.000397  0.000364  0.000000  0.000578   \n",
       " PRF1     0.001936  0.001407  0.002120  0.000000  0.001824  0.000000  0.003730   \n",
       " IFNG     0.000769  0.001196  0.000759  0.000444  0.000571  0.001377  0.000672   \n",
       " ...           ...       ...       ...       ...       ...       ...       ...   \n",
       " ZC3HAV1  0.000000  0.000000  0.000000  0.000000  0.000000  0.000000  0.001639   \n",
       " ZNF181   0.000000  0.000000  0.000000  0.000000  0.000000  0.000000  0.000487   \n",
       " ZNF230   0.000000  0.000000  0.000000  0.000000  0.000000  0.000000  0.001036   \n",
       " ZNF302   0.000000  0.000000  0.000000  0.000000  0.000000  0.000000  0.000548   \n",
       " ZNF655   0.000000  0.000000  0.000000  0.000000  0.000000  0.000000  0.001394   \n",
       " \n",
       "              IRF8    STAT6      IRF4      IRF3     IRF5     STAT2  IRF7  \\\n",
       " IL2      0.000000  0.00000  0.000302  0.000000  0.00000  0.000000   0.0   \n",
       " IRF1     0.002539  0.00188  0.002619  0.002240  0.00000  0.001568   0.0   \n",
       " CCND1    0.000000  0.00000  0.000000  0.000000  0.00000  0.000000   0.0   \n",
       " PRF1     0.000000  0.00000  0.000000  0.000000  0.00000  0.000000   0.0   \n",
       " IFNG     0.000653  0.00122  0.001919  0.000735  0.00064  0.000720   0.0   \n",
       " ...           ...      ...       ...       ...      ...       ...   ...   \n",
       " ZC3HAV1  0.000000  0.00000  0.000000  0.000000  0.00000  0.000000   0.0   \n",
       " ZNF181   0.000000  0.00000  0.000000  0.000000  0.00000  0.000000   0.0   \n",
       " ZNF230   0.000000  0.00000  0.000000  0.000000  0.00000  0.000000   0.0   \n",
       " ZNF302   0.000000  0.00000  0.000000  0.000000  0.00000  0.000000   0.0   \n",
       " ZNF655   0.000000  0.00000  0.000000  0.000000  0.00000  0.000000   0.0   \n",
       " \n",
       "              IRF9  IRF6  unannotated_1  \n",
       " IL2      0.000000   0.0       0.000269  \n",
       " IRF1     0.000000   0.0       0.020072  \n",
       " CCND1    0.000000   0.0       0.001515  \n",
       " PRF1     0.000000   0.0       0.013706  \n",
       " IFNG     0.000647   0.0       0.001127  \n",
       " ...           ...   ...            ...  \n",
       " ZC3HAV1  0.000000   0.0       0.004909  \n",
       " ZNF181   0.000000   0.0       0.002348  \n",
       " ZNF230   0.000000   0.0       0.001246  \n",
       " ZNF302   0.000000   0.0       0.002843  \n",
       " ZNF655   0.000000   0.0       0.003104  \n",
       " \n",
       " [363 rows x 17 columns])"
      ]
     },
     "execution_count": 12,
     "metadata": {},
     "output_type": "execute_result"
    }
   ],
   "source": [
    "from training.training import run_vega_model\n",
    "run_vega_model(\n",
    "    vega=vega,\n",
    "    model_type=\"vega\",\n",
    "    train_data=train,\n",
    "    valid_data=valid,\n",
    "    mask_df=mask,\n",
    "    epochs=5,\n",
    "    N=5\n",
    ")"
   ]
  },
  {
   "cell_type": "code",
   "execution_count": null,
   "id": "cfc75a7e",
   "metadata": {},
   "outputs": [],
   "source": []
  }
 ],
 "metadata": {
  "kernelspec": {
   "display_name": ".venv",
   "language": "python",
   "name": "python3"
  },
  "language_info": {
   "codemirror_mode": {
    "name": "ipython",
    "version": 3
   },
   "file_extension": ".py",
   "mimetype": "text/x-python",
   "name": "python",
   "nbconvert_exporter": "python",
   "pygments_lexer": "ipython3",
   "version": "3.13.3"
  }
 },
 "nbformat": 4,
 "nbformat_minor": 5
}
